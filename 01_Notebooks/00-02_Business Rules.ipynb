{
 "cells": [
  {
   "cell_type": "markdown",
   "id": "c2493340-0992-4dbc-b00d-0894395111d3",
   "metadata": {},
   "source": [
    "<h1 style='color:rgb(52, 152, 219)'; align=center><font size = 8> DIAMOND PRICES - ANALYSIS AND MODELING </font></h1>\n",
    "\n",
    "<h2 style='color:rgb(52, 152, 219)'; align=left><font size = 6> NOTEBOOK 00-02: BUSINESS RULES </font></h2>"
   ]
  },
  {
   "cell_type": "markdown",
   "id": "7f681aaf-4992-4617-8cfe-a1c0f601b17f",
   "metadata": {},
   "source": [
    "# REVISION HISTORY"
   ]
  },
  {
   "cell_type": "markdown",
   "id": "6aaa1cf0-da8e-48c5-9219-98160caa7d24",
   "metadata": {},
   "source": [
    "| REV | DESCRIPTION             | DATE         |  BY   | CHECK | APPROVE  |\n",
    "|:---:|:-----------------------:|:------------:|:-----:|:-----:|:--------:|\n",
    "| A0  | ISSUED FOR REVIEW (IFR) | 2024-APR-XX  |  IAC  |       |          |\n",
    "|     |                         |              |       |       |          |"
   ]
  },
  {
   "cell_type": "markdown",
   "id": "58fa5c19-cf17-4219-a8f0-b3034fd6efbe",
   "metadata": {},
   "source": [
    "## DETAILED DESCRIPTION OF REVISIONS"
   ]
  },
  {
   "cell_type": "markdown",
   "id": "ab7d7f2e-e80e-4436-b37f-f80c7e6a6686",
   "metadata": {},
   "source": [
    "> **REV A0** - HOLD"
   ]
  },
  {
   "cell_type": "markdown",
   "id": "f748f652-7e9d-4f4e-95e1-c601ec7ae11f",
   "metadata": {},
   "source": [
    "# THE BUSINESS RULES FOR PRICING DIAMONDS"
   ]
  },
  {
   "cell_type": "markdown",
   "id": "94f8a582-175f-4be1-ab96-6a466c52bfb1",
   "metadata": {},
   "source": [
    "Diamonds have been known and prized for millennia. Over time, the Diamond trade has evolved a standardized set of rules for grading diamonds. The value of a diamond is determined by various factors, including its characteristics, market demand, and supply chain dynamics. Diamonds characteristics are graded using a system know as the 4Cs (cut, color, clarity, and carat weight). The 4Cs are fundamental parameters that influence a diamond's price."
   ]
  },
  {
   "cell_type": "markdown",
   "id": "484f3468-85e6-418a-8aa6-0f89de8e1706",
   "metadata": {},
   "source": [
    "## HOW DIAMONDS ARE CERTIFIED"
   ]
  },
  {
   "cell_type": "markdown",
   "id": "562a4d3b-8cf0-4fa5-a0e3-da4371169eaa",
   "metadata": {},
   "source": [
    "There are several reputable gemological laboratories around the world that can certify diamonds. These laboratories provide a grading report that assess the diamond's quality based on the 4Cs (cut, color, clarity, and carat weight), along with some other characteristics. Some of the most well-known diamond certification laboratories include:\n",
    "\n",
    "1. **[Gemological Institute of America (GIA)](https://4cs.gia.edu/en-us/4cs-diamond-quality/):** GIA is one of the most widely recognized and respected gemological laboratories globally. Their grading reports are highly regarded for their accuracy and consistency.\n",
    "\n",
    "2. **[American Gem Society Laboratories (AGS)](https://www.americangemsociety.org/4cs-of-diamonds/)**: AGS Laboratories provide diamond grading reports that include detailed assessments of a diamond's cut, color, clarity, and carat weight. They are known for their stringent grading standards.\n",
    "\n",
    "3. **[International Gemological Institute (IGI)](https://www.igi.org/consumer-education/the-4cs/)**: IGI is another prominent gemological laboratory that offers diamond grading reports and certifications. They assess diamonds based on internationally accepted grading criteria.\n",
    "\n",
    "4. **[European Gemological Laboratory (EGL)](https://www.eglusa.com/how-to-buy-a-diamond/)**: EGL operates several laboratories worldwide and provides diamond grading reports that evaluate a diamond's quality according to standardized criteria.\n",
    "\n",
    "5. **[Hoge Raad voor Diamant (HRD)](https://hrdantwerp.com/4cs/)**: Based in Antwerp, Belgium, HRD is a renowned diamond grading laboratory that offers certifications for loose diamonds based on their cut, color, clarity, and carat weight.\n",
    "\n",
    "6. **[Gem Certification & Assurance Lab (GCAL)](https://www.gcalusa.com/4cs-learning-center.html)**: GCAL is known for its comprehensive diamond grading reports, which include advanced light performance analysis in addition to traditional grading criteria.\n",
    "\n",
    "7. **[International Diamond Laboratories (IDL)](https://www.idllab.org/gems_and_laboratory/)**: IDL provides diamond grading and certification services, offering reports that assess a diamond's quality and authenticity.\n",
    "\n",
    "8. **[Asian Institute of Gemological Sciences (AIGS)](https://www.aigsthailand.com/Home-EN)**: AIGS is a leading gemological institute based in Thailand, offering diamond grading reports and certifications.\n",
    "\n",
    "These laboratories adhere to strict standards and protocols to ensure the accuracy and reliability of their grading reports, providing consumers and industry professionals with valuable information about a diamond's quality and characteristics. \n",
    "\n",
    "<div class=\"alert alert-danger\" role=\"alert\">\n",
    "  <h3 class=\"alert-heading\">NOTE:</h3>\n",
    "  <p>When purchasing a diamond, it is advisable to seek certification from a reputable and independent laboratory to verify its authenticity and quality.</p>\n",
    "</div>\n",
    "\n",
    "You can learn more about diamond certification labs by visiting the [InfoDiamond](https://www.info-diamond.com/polished/certificate.html) website. This website is dedicated to providing detailed information related to diamonds."
   ]
  },
  {
   "cell_type": "markdown",
   "id": "9c610b23-5bbc-4d31-99bb-a7f390a07f76",
   "metadata": {},
   "source": [
    "# THE 4C's OF DIAMONDS"
   ]
  },
  {
   "cell_type": "markdown",
   "id": "515de86b-0eb5-4f26-a682-8978e1fedc1b",
   "metadata": {},
   "source": [
    "Diamond pricing can vary depending on several factors, including the market, diamond quality, demand, and business strategy. Here are some common business rules that jewelers and diamond dealers may follow when pricing diamonds:\n",
    "\n",
    "1. **Diamond Grading Standards**: Diamonds are graded based on the \"Four Cs\" - carat weight, cut, color, and clarity. Business rules may specify the pricing adjustments based on the grading of each of these factors. For example, diamonds with higher carat weights, better cuts, and higher clarity and color grades typically command higher prices.\n",
    "\n",
    "2. **Market Demand and Trends**: Pricing may be influenced by market demand and trends. Business rules may dictate adjusting prices based on factors such as seasonal demand, consumer preferences, and market fluctuations.\n",
    "\n",
    "3. **Competitive Pricing**: Businesses may set prices based on competitive analysis and pricing strategies. This may involve pricing diamonds competitively compared to other retailers in the market while considering factors such as brand reputation, customer service, and value-added services.\n",
    "\n",
    "4. **Cost Considerations**: Pricing may also be influenced by the cost of acquiring or manufacturing the diamonds, overhead expenses, and desired profit margins. Business rules may incorporate cost-based pricing strategies to ensure profitability while remaining competitive in the market.\n",
    "\n",
    "5. **Discounts and Promotions**: Business rules may outline guidelines for offering discounts, promotions, and sales incentives to attract customers and drive sales. This may include periodic discounts, clearance sales, or special promotions for certain diamond categories or customer segments.\n",
    "\n",
    "6. **Transparency and Ethics**: Business rules may emphasize transparency and ethical pricing practices, including providing accurate and honest information about diamond characteristics, pricing factors, and valuation methods to customers.\n",
    "\n",
    "7. **Customer Segmentation**: Pricing strategies may vary based on customer segments, such as retail consumers, wholesale buyers, or corporate clients. Business rules may define different pricing tiers or discounts for each segment based on factors such as volume purchases, loyalty, or contractual agreements.\n",
    "\n",
    "The most important of these factors is **Diamond Grading Standards**, better known as the 4Cs. Below is the detailed business rule associated with each Grading Standard."
   ]
  },
  {
   "cell_type": "markdown",
   "id": "bf7bee95-caac-4e63-b09b-f41578a08314",
   "metadata": {},
   "source": [
    "## CARAT WEIGHT"
   ]
  },
  {
   "cell_type": "markdown",
   "id": "723a419c-9c38-481d-b36a-c482b074b4bc",
   "metadata": {},
   "source": [
    "Carat denotes the weight of a diamond, not the size. It is the single biggest factor in determining the price of the diamond, because it's the most objective way to come up with the true value of a diamond. All that is required is a precisely balanced scale capable of measuring extremely small weights. Carat weight is measured using a highly accurate, and calibrated digital scale.\n",
    "\n",
    "> **1 carat = 1/5 grams (0.2 grams)**\n",
    "\n",
    "In many major diamond-trading countries and international industry organizations, a diamond's weight can only be rounded up to the next higher hundredth from nine thousandths of a carat. A stone which weighs 1.568 carat would be rounded to 1.56 carat; but one which weighs 1.569 carat would be rounded to 1.57 carat. The carat is divided into 100 points (hundredths of metric carat), in other words, a loose diamond of 0.25 carat has 25 points. \n",
    "\n",
    "<div class=\"alert alert-warning\" role=\"alert\">\n",
    "  <h3 class=\"alert-heading\">NOTE:</h3>\n",
    "  <p>There is no relationship between the size and weight of a diamond.</p>\n",
    "</div>\n",
    "\n",
    "When diamonds are mined, large gems are discovered much less frequently than small ones, which makes large diamonds much more valuable. Diamond prices rise exponentially with carat weight. So, a 2-carat diamond of a given quality is always worth more than two 1-carat diamonds of the same quality.\n",
    "\n",
    "The size and quality of a diamond do not increase its prices linearly. In fact, carat weights are exponentially related to diamond prices. \n",
    "\n",
    "Another significant fact to remember is that desirability also influences a diamond’s price. Certain carat weights are more popular than others, such as the 1 and 1.25 carat diamonds. Because the diamond market reacts very strongly to supply and demand, these diamonds are not always in ready supply. Their value increases sometimes dramatically compared to other carat weights."
   ]
  },
  {
   "cell_type": "markdown",
   "id": "44d39824-67f9-49d4-b513-13b2d704e695",
   "metadata": {},
   "source": [
    "### CATEGORIZING DIAMONDS BY CARAT WEIGHT"
   ]
  },
  {
   "cell_type": "markdown",
   "id": "75d7a1bc-46f9-432b-a31d-24199a11c05c",
   "metadata": {},
   "source": [
    "Carat weight brackets are commonly used to categorize diamonds based on their weight. These brackets help both consumers and professionals quickly understand the size range of a diamond. While specific categorizations may vary slightly between different sources and industries, here's a typical breakdown of carat weight brackets for diamonds:\n",
    "\n",
    "1. **Small Diamonds**:\n",
    "   - Generally, diamonds below 0.30 carats are considered small diamonds. These are often referred to as \"melee\" or \"small stones.\"\n",
    "   - Common brackets may include:\n",
    "     - Tiny or accent diamonds: < 0.10 carats\n",
    "     - Small diamonds: 0.10 - 0.29 carats\n",
    "\n",
    "2. **Medium Diamonds**:\n",
    "   - Diamonds in the range of 0.30 to 0.99 carats are often considered medium-sized diamonds.\n",
    "   - Common brackets may include:\n",
    "     - Quarter carat diamonds: 0.30 - 0.39 carats\n",
    "     - Third carat diamonds: 0.40 - 0.49 carats\n",
    "     - Half carat diamonds: 0.50 - 0.69 carats\n",
    "     - Three-quarter carat diamonds: 0.70 - 0.89 carats\n",
    "     - Ninety-point diamonds: 0.90 - 0.99 carats\n",
    "\n",
    "3. **Large Diamonds**:\n",
    "   - Diamonds that are 1 carat or larger are generally considered large diamonds.\n",
    "   - Common brackets may include:\n",
    "     - One carat diamonds: 1.00 - 1.49 carats\n",
    "     - One-and-a-half carat diamonds: 1.50 - 1.99 carats\n",
    "     - Two carat diamonds: 2.00 - 2.99 carats\n",
    "     - Three carat diamonds: 3.00 - 3.99 carats\n",
    "     - Four carat diamonds: 4.00 - 4.99 carats\n",
    "     - Five carat diamonds: 5.00 - 5.99 carats\n",
    "\n",
    "These brackets provide a convenient way to discuss and compare diamond sizes, and they are often used in the diamond industry, by retailers, and in diamond grading reports. It is important to note that these categorizations are approximate and may vary slightly depending on the specific context and standards used."
   ]
  },
  {
   "cell_type": "markdown",
   "id": "ab6b67f0-dd71-4c33-a500-5dc6ff180993",
   "metadata": {},
   "source": [
    "### BUSINESS RULES / LOGIC"
   ]
  },
  {
   "cell_type": "markdown",
   "id": "d825c386-82cd-467d-bf5c-e4a12a5b2d88",
   "metadata": {},
   "source": [
    "1. As the carat weight increases, the price per carat tends to increase exponentially rather than linearly. Larger diamonds are rarer and more desirable.\n",
    "2. The most popular carat weights are 1 and 1.25. Market demand and consumer preferences may drive the price of these diamonds higher.\n",
    "3. Taken by itself, carat weight does not determine a diamond’s value. For example, two one-carat stones can vary widely in price when clarity, color and cut are taken into consideration. When that is understood, it is clear that large diamonds of peerless quality are rare."
   ]
  },
  {
   "cell_type": "markdown",
   "id": "654c29ac-ebc7-42d2-99c5-f2864d8751fa",
   "metadata": {},
   "source": [
    "## CUT"
   ]
  },
  {
   "cell_type": "markdown",
   "id": "7aaeb140-4503-409b-ba62-f3ed242903a4",
   "metadata": {},
   "source": [
    "A diamond's cut has the greatest effect on it's beauty. The cut of a diamond refers to its proportions, symmetry, and polish, which greatly affect its brilliance, sparkle, and overall appearance. When you think of diamonds, you always think of them shimmering brilliantly, but they can only become so visually stunning thanks to the way that they're cut. Diamond cut is the single most important factor to consider if you want a sparkly brilliant diamond.\n",
    "\n",
    "The diamond's cut exerts its influence on the stone's appearance through three fundamental avenues:\n",
    "\n",
    "* **Brilliance:** This measures the brightness resulting from a combination of reflected and refracted light.\n",
    "* **Fire:** It characterizes how a diamond scatters light, manifesting as vibrant bursts of discernible colors.\n",
    "* **Scintillation:** This term encapsulates the captivating sparkle that a diamond emits when set in motion.\n",
    "\n",
    "If you want a bright shiny diamond, then cut is the single biggest factor to consider. "
   ]
  },
  {
   "cell_type": "markdown",
   "id": "67c0e367-bd0f-4b06-b68f-1731b3a173f7",
   "metadata": {},
   "source": [
    "### HOW IS DIAMOND CUT GRADED?"
   ]
  },
  {
   "cell_type": "markdown",
   "id": "28457327-a42d-42fd-9758-e686603b5f02",
   "metadata": {},
   "source": [
    "<img \n",
    "     src=\"../../00_Data/01_Assets/diamondCut.jpg\" \n",
    "     alt=\"Diamond Cut Scale (AGS)\"\n",
    "     style=\"width:1000x;height:300px;\"\n",
    "     >\n",
    "\n",
    "There are several different grading system, below are the main cut scales used in diamond certification:\n",
    "\n",
    "1. **GIA Cut Grade**:\n",
    "   - The Gemological Institute of America (GIA) is a renowned authority in diamond grading and certification. GIA assigns cut grades based on several factors, including proportions, symmetry, and polish.\n",
    "   - The GIA cut scale includes five grades:\n",
    "     - Excellent\n",
    "     - Very Good\n",
    "     - Good\n",
    "     - Fair\n",
    "     - Poor\n",
    "   - Diamonds with \"Excellent\" and \"Very Good\" cut grades are highly regarded for their exceptional brilliance and fire.\n",
    "     \n",
    "2. **AGS Cut Grade**:\n",
    "   - The American Gem Society (AGS) also provides cut grades for diamonds, focusing on proportions, light performance, and craftsmanship.\n",
    "   - The AGS cut scale includes various grades, but the most commonly used are:\n",
    "     - Ideal\n",
    "     - Excellent\n",
    "     - Very Good\n",
    "     - Good\n",
    "     - Fair\n",
    "     - Poor\n",
    "   - Diamonds with an \"Ideal\" cut grade by AGS are considered to exhibit the highest levels of brilliance and precision craftsmanship.\n",
    "\n",
    "3. **GIA Polish and Symmetry Grades**:\n",
    "   - In addition to the overall cut grade, GIA provides separate grades for polish and symmetry, which are important components of a diamond's cut quality.\n",
    "   - Polish grades include:\n",
    "     - Excellent\n",
    "     - Very Good\n",
    "     - Good\n",
    "     - Fair\n",
    "     - Poor\n",
    "   - Symmetry grades include:\n",
    "     - Excellent\n",
    "     - Very Good\n",
    "     - Good\n",
    "     - Fair\n",
    "     - Poor\n",
    "   - Diamonds with excellent polish and symmetry grades often exhibit superior light performance and visual appeal.\n",
    "\n",
    "4. **Hearts and Arrows Cut**:\n",
    "   - This is a specific type of diamond cut that refers to diamonds with exceptional symmetry and alignment of facets, resulting in a distinctive pattern of hearts and arrows when viewed under specialized equipment.\n",
    "   - While not an official grading scale, hearts and arrows diamonds are highly sought after for their precise craftsmanship and superior optical performance.\n",
    "\n",
    "These cut scales and grading systems help jewelers and consumers assess the quality and value of diamonds based on their cut characteristics. It's essential to consider cut quality along with other factors such as carat weight, color, and clarity when selecting a diamond for purchase.\n",
    "\n",
    "The dataset used in this proeject appears to use the **AGS Cut Grade**"
   ]
  },
  {
   "cell_type": "markdown",
   "id": "0f831b4f-4f89-4f72-8143-398fae77d634",
   "metadata": {},
   "source": [
    "### THE 3 PRINCIPLES OF AN IDEAL CUT"
   ]
  },
  {
   "cell_type": "markdown",
   "id": "d76b0252-6aab-4ac9-b6f3-c9f4e8be1851",
   "metadata": {},
   "source": [
    "The cut grading of a Diamond is related to the depth % and table % as shown in the table below:\n",
    "\n",
    "| DIAMOND  RELATED DIMENSIONS  | DEPTH % AND TABLE %   |\n",
    "|------------------------------|-----------------------|\n",
    "| <img src=\"../../00_Data/01_Assets/diamondDimmensions.png\" alt=\"Dimmensions 1\" style=\"width:900x;height:300px;\"> | <img src=\"../../00_Data/01_Assets/dimmensions.png\" alt=\"Dimmensions 2\" style=\"width:500x;height:300px;\">|\n",
    "\n",
    "1. **Total Depth (%)**:\n",
    "   - A measurement used to assess the depth of a diamond relative to its width (or diameter). It is calculated by dividing the depth of the diamond by its average diameter and multiplying by 100 to get a percentage.\n",
    "\n",
    "    > Mathematically, the formula for total depth percentage is:\n",
    "    > \n",
    "    > $\\text{Total Depth Percentage} = \\left( \\frac{\\text{Depth}}{\\text{Average Diameter}} \\right) \\times 100$\n",
    "   \n",
    "    - The depth of the diamond is measured from the table (the flat top surface) to the culet (the bottom point). The average diameter is calculated by averaging the width of the diamond from the opposite ends or the girdle (the widest part of the diamond).\n",
    "    - The total depth percentage provides valuable information about the overall shape and proportions of the diamond. A higher total depth percentage indicates that more of the diamond's weight is distributed in the depth, resulting in a deeper appearance. Conversely, a lower total depth percentage suggests that more of the diamond's weight is distributed in the width, resulting in a shallower appearance.\n",
    "    - For round brilliant diamonds, the ideal total depth percentage typically falls within a specific range, often around 59% to 63%. However, the ideal range may vary depending on the specific diamond shape and cut style. Total depth percentage is just one of many factors that jewelers and gemologists consider when assessing the overall quality and appearance of a diamond.\n",
    "\n",
    "2. **Table Percentage (%)**:\n",
    "   - Only round diamonds have a standard for table size. In round diamonds for a diamond to be recognized as an ideal cut the table must be relatively small. The table percentage refers to the size of the table facet of a diamond relative to the diameter of the entire diamond's crown (the top portion above the girdle). It is expressed as a percentage and is calculated by dividing the width of the table facet by the average diameter of the diamond's crown and then multiplying by 100.\n",
    "\n",
    "    > Mathematically, the formula for table percentage is:\n",
    "    >\n",
    "    > $\\text{Table Percentage} = \\left( \\frac{\\text{Width of Table}}{\\text{Average Crown Diameter}} \\right) \\times 100$\n",
    "\n",
    "   - The table facet is the large, flat surface on the top of the diamond. It is one of the most prominent features of a diamond's appearance and greatly influences its overall brilliance and sparkle.\n",
    "\n",
    "    - The table percentage provides important information about the diamond's proportions and symmetry. A higher table percentage indicates a larger table facet relative to the crown diameter, which can result in a diamond with a broader, more open appearance. Conversely, a lower table percentage suggests a smaller table facet relative to the crown diameter, which may lead to a diamond with a more compact appearance.\n",
    "    - For round brilliant diamonds, the ideal table percentage typically falls within a specific range, often around 53% to 58%. However, the ideal range may vary depending on factors such as diamond shape, cut style, and personal preferences.\n",
    "\n",
    "3. **Girdle thickness**:\n",
    "   - The best girdle range for a diamond to fit in the ideal cut category for rounds is anywhere between « Thin » and « Slightly Thick ». The girdle could be Thin, Medium, Slightly thick or any combination of the three, such as « medium to slightly thick ». The various graduations thickness of the rondist are: Extremely thin, Very thin, Thin, Medium, Slightly thick, Thick, Very thick and Extremely thick.\n",
    "\n",
    "These three elements - total depth %, table %, and girdle thickness - are essential for achieving an ideal diamond cut that maximizes the diamond's beauty, brilliance, and value. When selecting a diamond, it's important to consider these factors along with other characteristics such as carat weight, color, and clarity to ensure you find the perfect diamond for your needs and preferences."
   ]
  },
  {
   "cell_type": "markdown",
   "id": "8a1e70a0-c459-4488-9f88-6d0bbb6517be",
   "metadata": {},
   "source": [
    "### BUSINESS RULES / LOGIC"
   ]
  },
  {
   "cell_type": "markdown",
   "id": "9765c7f1-aaa4-4519-89ac-aceed773dcd6",
   "metadata": {},
   "source": [
    "1. The **AGS Cut Grade** is the scale used in this dataset\n",
    "2. The cut quality significantly affects the brilliance, fire, and overall appearance of a diamond. Well-cut diamonds with excellent proportions and symmetry command higher prices. Diamonds with ideal or excellent cut grades may be priced higher compared to those with lower cut grades, even if they have similar carat weights.\n",
    "3. In the dataset, the following defintions will be used:\n",
    "\n",
    "   > x = Crown Height\n",
    "   > \n",
    "   > y = Gridle Diameter\n",
    "   >\n",
    "   > z = Pavilion Depth\n",
    "   \n",
    "   As shown in the above \"Diamond Related Dimensions\" diagram. \n",
    "5. Depth % and Table % values found in the dataset will be categorized according to the Depth % and Table % chart shown above.\n",
    "6. Girdle thickness will not be considered in this analysis (not available in the data)"
   ]
  },
  {
   "cell_type": "markdown",
   "id": "815c718f-f07e-424f-b03b-3bf29704db55",
   "metadata": {},
   "source": [
    "## CLARITY"
   ]
  },
  {
   "cell_type": "markdown",
   "id": "26bd4885-5d0c-42ec-915f-8e9937a544fe",
   "metadata": {},
   "source": [
    "Clarity refers to the presence or absence of internal flaws, called inclusions, and external blemishes, known as imperfections or surface irregularities, on a diamond. Since diamonds form under extreme heat and pressure, internal and external characteristics are common. This process can result in a variety of internal characteristics called inclusions and external characteristics called blemishes.\n",
    "\n",
    "Diamonds without inclusions or blemishes are rare; however, most characteristics can only be seen with magnification. When grading the clarity of a diamond, the lab determines the relative visibility of the inclusions in a diamond and their impact on the overall visual appearance. Since many inclusions and blemishes are very small, and can be difficult to see with the naked eye, they are graded at 10x magnification. Grading at 10x is an industry standard to determine the final clarity grade of the diamond.\n",
    "\n",
    "Diamond graders plot the inclusions they see in the diamond on a diagram which is included on diamond grading report. In order to grade the clarity of a diamond, it is necessary to observe the number and nature of external and internal characteristics of the stone, as well as their size and position. The difference is based on their locations: inclusions are enclosed within a diamond, while blemishes are external characteristics."
   ]
  },
  {
   "cell_type": "markdown",
   "id": "07ac27af-e413-4df6-918d-3658b8185bbc",
   "metadata": {},
   "source": [
    "### HOW IS CLARITY GRADED?"
   ]
  },
  {
   "cell_type": "markdown",
   "id": "f9c1fedf-697c-49ba-ab3b-0e5c2b067759",
   "metadata": {},
   "source": [
    "Diamond clarity is measured on a scale established by the Gemological Institute of America (GIA), ranging from Flawless (FL) to Included (I). \n",
    "\n",
    "<img \n",
    "     src=\"../../00_Data/01_Assets/diamondClarityChart.jpg\" \n",
    "     alt=\"Diamond Clarity Scale (GIA)\"\n",
    "     style=\"width:900x;height:250px;\"\n",
    "     >\n",
    "\n",
    "The GIA Clarity Scale includes the following grades:\n",
    "\n",
    "1. Flawless (FL): Diamonds in this category have no internal or external flaws visible under 10x magnification, making them exceptionally rare and valuable.\n",
    "2. Internally Flawless (IF): These diamonds have no internal flaws visible under 10x magnification, but may have minor surface blemishes.\n",
    "3. Very, Very Slightly Included (VVS1 and VVS2): Diamonds in this category have minute inclusions that are difficult for a skilled grader to detect under 10x magnification.\n",
    "4. Very Slightly Included (VS1 and VS2): These diamonds have minor inclusions that are visible under 10x magnification but are not typically visible to the naked eye.\n",
    "5. Slightly Included (SI1 and SI2): Diamonds in this category have noticeable inclusions that are easily visible under 10x magnification and may be visible to the naked eye, especially in SI2 grade stones.\n",
    "6. Included (I1, I2, and I3): Diamonds in this category have inclusions that are visible to the naked eye and may affect the diamond's transparency and brilliance.\n",
    "\n",
    "It can be argued that clarity is the least important factor, when compared to a diamond's cut, color, and carat weight. For any given carat weight, a diamond with a Very Good cut grade, and a VS2 clarity grade will cost significantly more that a diamond with a Fair cut grade, and a IF clarity grade. \n",
    "\n",
    "While the GIA (Gemological Institute of America) Clarity Scale is the most widely recognized and used clarity grading system in the diamond industry, there are other grading scales that are employed by different gemological laboratories and organizations. Some of these alternative clarity scales include:\n",
    "\n",
    "1. **AGS (American Gem Society) Clarity Grading Scale**: The AGS uses a similar clarity grading scale to the GIA but may have slightly different terminology. For example, AGS may use terms like \"Ideal\" for the highest clarity grade instead of \"Flawless.\"\n",
    "\n",
    "2. **EGL (European Gemological Laboratory) Clarity Grading Scale**: EGL is another prominent gemological laboratory that utilizes its own clarity grading scale. While EGL grades generally align with GIA grades, there may be variations in terminology and criteria for certain clarity grades.\n",
    "\n",
    "3. **IGI (International Gemological Institute) Clarity Grading Scale**: IGI is a global gemological laboratory that also has its own clarity grading scale. Similar to other scales, it ranges from Flawless to Included, but the specific criteria and terminology may differ from the GIA scale.\n",
    "\n",
    "4. **HRD (Hoge Raad voor Diamant) Clarity Grading Scale**: HRD is a leading diamond grading authority based in Antwerp, Belgium. They have their own clarity grading scale, which is similar to the GIA scale but may have variations in terminology and criteria."
   ]
  },
  {
   "cell_type": "markdown",
   "id": "c11eff38-d2f1-4b93-92dc-cb0a8fff023e",
   "metadata": {},
   "source": [
    "### BUSINESS RULES / LOGIC"
   ]
  },
  {
   "cell_type": "markdown",
   "id": "e04a13da-d4fe-4370-ae5f-f478c6cbb9f1",
   "metadata": {},
   "source": [
    "1. The **GIA Clarity Scale** is used in this dataset.\n",
    "2. While clarity is important, it's just one of several factors to consider when selecting a diamond. You can compromise on clarity.\n",
    "3. When comparing diamonds of the same carat weight, cut, and color; clarity has a huge impact on price. Flawless diamonds are rare and highly sought after."
   ]
  },
  {
   "cell_type": "markdown",
   "id": "f90f4871-4e27-4cbd-a63e-99d2a056a7f6",
   "metadata": {},
   "source": [
    "## COLOR"
   ]
  },
  {
   "cell_type": "markdown",
   "id": "27c00095-f61e-4deb-9f83-f47dfb60c0f9",
   "metadata": {},
   "source": [
    "The color of a diamond actually refers to the lack of color in a diamond, with perfectly colorless diamonds considered the highest quality with the highest value, and brown or yellow diamonds being the lowest quality. Interestingly, the diamond color evaluation of most gem-quality diamonds is based on the absence of color. A chemically pure and structurally perfect diamond has no hue, like a drop of pure water, and consequently, a higher value.\n",
    "\n",
    "The color of gem-quality diamonds occurs in many hues. In the range from colorless to light yellow or light brown. Colorless diamonds are the rarest.  \n",
    "\n",
    "Most diamonds of gem quality used in jewelry vary in shade from completely colorless down to a visible yellow or brown tint.The rarest and most expensive are diamonds in the colorless range graded D,E and F on a scale that descends to Z. "
   ]
  },
  {
   "cell_type": "markdown",
   "id": "e6f2919a-a6b1-48e7-a982-9336ddd7c338",
   "metadata": {},
   "source": [
    "### HOW IS COLOR GRADED?"
   ]
  },
  {
   "cell_type": "markdown",
   "id": "5795a512-3dae-4c5c-b65b-10c26b073880",
   "metadata": {},
   "source": [
    "The color of your diamond is determined by comparison with a series of master stones, with most diamonds ranging in color from colorless to slightly yellow. A perfect diamond has no color at all (D color, exceptional white +). The color scale used for grading diamonds ranges from D (colorless) to Z (light yellow or brown). The scale was established by the Gemological Institute of America (GIA), and it categorizes diamonds based on their degree of colorlessness or presence of color.\n",
    "\n",
    "<img \n",
    "     src=\"../../00_Data/01_Assets/diamondColor.jpg\" \n",
    "     alt=\"Diamond Color Scale (GIA)\"\n",
    "     style=\"width:850x;height:150px;\"\n",
    "     >\n",
    "     \n",
    "Here's a brief overview of the GIA color grading scale:\n",
    "\n",
    "1. D, E, F: Colorless - These diamonds are considered the most valuable as they exhibit virtually no color. They are exceptionally rare and highly sought after for their pure, brilliant appearance.\n",
    "\n",
    "2. G, H, I, J: Near Colorless - Diamonds in this range may contain traces of color that are difficult to detect to the untrained eye. They offer excellent value and appear nearly colorless when set in jewelry.\n",
    "\n",
    "3. K, L, M: Faint Yellow - These diamonds may exhibit a faint yellow tint that becomes more noticeable as the grade descends. While still suitable for jewelry, diamonds in this range typically offer better value compared to higher grades.\n",
    "\n",
    "4. N-Z: Light Yellow to Light Brown - Diamonds in this range display increasingly visible traces of yellow or brown color. While they may not be as highly prized as colorless or near-colorless diamonds, they can still be beautiful and are often more affordable.\n",
    "\n",
    "In the diamond industry, several color grading scales are used to evaluate the color of diamonds. However; the most widely recognized and used scale was established by the Gemological Institute of America (GIA). However; other organizations and laboratories may have their own scales as well. Here are some of the key color grading scales:\n",
    "\n",
    "1. **GIA (Gemological Institute of America) Color Grading Scale**: The GIA color grading scale ranges from D to Z and is the most universally accepted scale in the industry. It categorizes diamonds based on their degree of colorlessness or presence of color:\n",
    "   - D, E, F: Colorless\n",
    "   - G, H, I, J: Near Colorless\n",
    "   - K, L, M: Faint Yellow\n",
    "   - N, O, P, Q, R: Very Light Yellow\n",
    "   - S, T, U, V, W, X, Y, Z: Light Yellow or Light Brown\n",
    "\n",
    "2. **AGS (American Gem Society) Color Grading Scale**: The AGS scale is similar to the GIA scale but may use slightly different terminology. It also ranges from 0 to 10, with 0 being the highest (colorless) and 10 being the lowest (light yellow):\n",
    "   - 0, 1, 2: Colorless\n",
    "   - 3, 4, 5, 6: Near Colorless\n",
    "   - 7, 8, 9, 10: Faint Yellow\n",
    "\n",
    "3. **EGL (European Gemological Laboratory) Color Grading Scale**: EGL is another prominent grading authority that uses its own color grading scale, which is similar to the GIA scale but may have variations in terminology and criteria.\n",
    "\n",
    "4. **HRD (Hoge Raad voor Diamant) Color Grading Scale**: HRD, based in Antwerp, Belgium, also has its own color grading scale, which is similar to the GIA scale but may have variations in terminology and criteria."
   ]
  },
  {
   "cell_type": "markdown",
   "id": "ee055bda-62a7-4272-8f08-3bb179a6cfa1",
   "metadata": {},
   "source": [
    "### BUSINESS RULES / LOGIC"
   ]
  },
  {
   "cell_type": "markdown",
   "id": "99e0f063-2fb4-4a54-9714-376c1a6ec8b9",
   "metadata": {},
   "source": [
    "1. The **GIA Color Grading Scale** is used in this dataset.\n",
    "2. Generally speaking, the most popular diamonds have colors in the range of F to K.\n",
    "3. For white gold and platinum rings, don't go below I color. For yellow gold and rose gold rings, you can go down to a J or K color."
   ]
  },
  {
   "cell_type": "markdown",
   "id": "751232d4-2e22-4c87-9e23-17a6093cef0a",
   "metadata": {},
   "source": [
    "# CONCLUSION"
   ]
  },
  {
   "cell_type": "markdown",
   "id": "76d49198-03da-457f-9659-d47244ae2f3e",
   "metadata": {},
   "source": [
    "This notebook described the features, and the business rules / logic applied to each feature found in this dataset. These business rules and logic will be used to better understand the dataset used in this project. "
   ]
  },
  {
   "cell_type": "markdown",
   "id": "4cd5dc97-afe7-454a-871c-8bd52c565917",
   "metadata": {},
   "source": [
    "## NEXT STEPS"
   ]
  },
  {
   "cell_type": "markdown",
   "id": "b960a58b-5ce9-45b0-9d2b-b71966f93967",
   "metadata": {},
   "source": [
    "NOTEBOOK 01_01 describes the ETL process used to create the dataset used for this project. "
   ]
  }
 ],
 "metadata": {
  "kernelspec": {
   "display_name": "Python 3 (ipykernel)",
   "language": "python",
   "name": "python3"
  },
  "language_info": {
   "codemirror_mode": {
    "name": "ipython",
    "version": 3
   },
   "file_extension": ".py",
   "mimetype": "text/x-python",
   "name": "python",
   "nbconvert_exporter": "python",
   "pygments_lexer": "ipython3",
   "version": "3.11.2"
  }
 },
 "nbformat": 4,
 "nbformat_minor": 5
}
