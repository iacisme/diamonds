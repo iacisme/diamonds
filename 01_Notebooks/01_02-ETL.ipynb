{
 "cells": [
  {
   "cell_type": "markdown",
   "id": "c2493340-0992-4dbc-b00d-0894395111d3",
   "metadata": {},
   "source": [
    "<h1 style='color:rgb(52, 152, 219)'; align=center><font size = 8> DIAMOND PRICES - ANALYSIS AND MODELING </font></h1>\n",
    "\n",
    "<h2 style='color:rgb(52, 152, 219)'; align=left><font size = 6> NOTEBOOK 4 - ETL </font></h2>"
   ]
  },
  {
   "cell_type": "markdown",
   "id": "7f681aaf-4992-4617-8cfe-a1c0f601b17f",
   "metadata": {},
   "source": [
    "# REVISION HISTORY\n",
    "\n",
    "| REV | DESCRIPTION             | DATE         |  BY   | CHECK | APPROVE  |\n",
    "|:---:|:-----------------------:|:------------:|:-----:|:-----:|:--------:|\n",
    "| A0  | ISSUED FOR REVIEW (IFR) | 2024-APR-XX  |  IAC  |       |          |\n",
    "|     |                         |              |       |       |          |\n",
    "\n",
    "## DETAILED DESCRIPTION OF REVISIONS\n",
    "\n",
    "> **REV A0** - HOLD"
   ]
  },
  {
   "cell_type": "markdown",
   "id": "e2241c66-fbd3-41b2-8158-697cfaf9cd37",
   "metadata": {},
   "source": [
    "# INTRODUCTION\n",
    "\n",
    "This notebook describes the steps and methods used in the ETL (Extraction, Load, Transform) process. "
   ]
  },
  {
   "cell_type": "code",
   "execution_count": null,
   "id": "ecdf6dce-a1aa-4f97-8247-eb8a26b67975",
   "metadata": {},
   "outputs": [],
   "source": []
  },
  {
   "cell_type": "code",
   "execution_count": null,
   "id": "f5343e4a-83d7-44e6-8d50-08b229509b33",
   "metadata": {},
   "outputs": [],
   "source": []
  },
  {
   "cell_type": "code",
   "execution_count": null,
   "id": "f3cd587e-4f3d-415b-b5b3-14d7ed934457",
   "metadata": {},
   "outputs": [],
   "source": []
  },
  {
   "cell_type": "code",
   "execution_count": null,
   "id": "2bdd88b7-63fd-4fcc-bf1f-ae072d0b6714",
   "metadata": {},
   "outputs": [],
   "source": []
  },
  {
   "cell_type": "markdown",
   "id": "d925455e-e652-402a-9260-89043fafb56e",
   "metadata": {},
   "source": [
    "# ETL (EXTRACT TRANSFORM LOAD)\n",
    "\n",
    "The purpose of ETL is to create a data set that complies with the [Tidy Specification](https://about.dataclassroom.com/blog/keep-your-data-tidy). \n",
    "ETL stands for Extract, Transform, Load, and it refers to the process of extracting data from various sources, transforming it into a [Tidy Compliant](https://about.dataclassroom.com/blog/keep-your-data-tidy) format, and loading it into a target destination, typically a data warehouse or a database. ETL is a fundamental step in data integration and plays a crucial role in ensuring data quality, consistency, and usability for analysis."
   ]
  },
  {
   "cell_type": "markdown",
   "id": "09d18921-eb07-4203-9fc5-c4571acf5cfb",
   "metadata": {},
   "source": [
    "# REQUIRED LIBRARIES\n",
    "\n",
    "The following libraries are required to run this notebook."
   ]
  },
  {
   "cell_type": "code",
   "execution_count": 1,
   "id": "f1272a9d-b331-4ecc-b265-8a2401417cfa",
   "metadata": {},
   "outputs": [],
   "source": [
    "# Library to create and handle a tabular dataset\n",
    "import pandas as pd"
   ]
  },
  {
   "cell_type": "code",
   "execution_count": 2,
   "id": "5d55d80c-c8e0-4994-a3d0-720bdfac78e5",
   "metadata": {},
   "outputs": [],
   "source": [
    "# Library used to create interactive controls\n",
    "import ipywidgets as widgets"
   ]
  },
  {
   "cell_type": "markdown",
   "id": "1f391cf2-9965-44dd-869b-a83ff559cce5",
   "metadata": {},
   "source": [
    "# LOAD DATASET\n",
    "\n",
    "The following scripts loads the dataset."
   ]
  },
  {
   "cell_type": "code",
   "execution_count": 3,
   "id": "9624bf9f-5c24-405b-9ec2-d72374c9bfc7",
   "metadata": {},
   "outputs": [],
   "source": [
    "# Path to the dataset\n",
    "filePath = \"./../00_Data/00_Datasets/\""
   ]
  },
  {
   "cell_type": "code",
   "execution_count": 4,
   "id": "39e28e93-55f8-4e92-bf6d-1eb1f9bbb75a",
   "metadata": {},
   "outputs": [],
   "source": [
    "# Filename\n",
    "diamondsCSVFilename = \"diamondsCleaned.csv\""
   ]
  },
  {
   "cell_type": "code",
   "execution_count": 5,
   "id": "a2dea75b-c9ad-44e2-a6dd-04d74356301c",
   "metadata": {},
   "outputs": [
    {
     "data": {
      "text/html": [
       "<div>\n",
       "<style scoped>\n",
       "    .dataframe tbody tr th:only-of-type {\n",
       "        vertical-align: middle;\n",
       "    }\n",
       "\n",
       "    .dataframe tbody tr th {\n",
       "        vertical-align: top;\n",
       "    }\n",
       "\n",
       "    .dataframe thead th {\n",
       "        text-align: right;\n",
       "    }\n",
       "</style>\n",
       "<table border=\"1\" class=\"dataframe\">\n",
       "  <thead>\n",
       "    <tr style=\"text-align: right;\">\n",
       "      <th></th>\n",
       "      <th>Carat</th>\n",
       "      <th>Cut</th>\n",
       "      <th>Crown Height (mm)</th>\n",
       "      <th>Girdle Diameter (mm)</th>\n",
       "      <th>Pavillion Depth (mm)</th>\n",
       "      <th>Table %</th>\n",
       "      <th>Total Depth %</th>\n",
       "      <th>Clarity</th>\n",
       "      <th>Color</th>\n",
       "      <th>Price</th>\n",
       "    </tr>\n",
       "  </thead>\n",
       "  <tbody>\n",
       "    <tr>\n",
       "      <th>0</th>\n",
       "      <td>0.23</td>\n",
       "      <td>Ideal</td>\n",
       "      <td>3.95</td>\n",
       "      <td>3.98</td>\n",
       "      <td>2.43</td>\n",
       "      <td>55.0</td>\n",
       "      <td>61.5</td>\n",
       "      <td>SI2</td>\n",
       "      <td>E</td>\n",
       "      <td>326</td>\n",
       "    </tr>\n",
       "    <tr>\n",
       "      <th>1</th>\n",
       "      <td>0.21</td>\n",
       "      <td>Premium</td>\n",
       "      <td>3.89</td>\n",
       "      <td>3.84</td>\n",
       "      <td>2.31</td>\n",
       "      <td>61.0</td>\n",
       "      <td>59.8</td>\n",
       "      <td>SI1</td>\n",
       "      <td>E</td>\n",
       "      <td>326</td>\n",
       "    </tr>\n",
       "    <tr>\n",
       "      <th>2</th>\n",
       "      <td>0.23</td>\n",
       "      <td>Good</td>\n",
       "      <td>4.05</td>\n",
       "      <td>4.07</td>\n",
       "      <td>2.31</td>\n",
       "      <td>65.0</td>\n",
       "      <td>56.9</td>\n",
       "      <td>VS1</td>\n",
       "      <td>E</td>\n",
       "      <td>327</td>\n",
       "    </tr>\n",
       "    <tr>\n",
       "      <th>3</th>\n",
       "      <td>0.29</td>\n",
       "      <td>Premium</td>\n",
       "      <td>4.20</td>\n",
       "      <td>4.23</td>\n",
       "      <td>2.63</td>\n",
       "      <td>58.0</td>\n",
       "      <td>62.4</td>\n",
       "      <td>VS2</td>\n",
       "      <td>I</td>\n",
       "      <td>334</td>\n",
       "    </tr>\n",
       "    <tr>\n",
       "      <th>4</th>\n",
       "      <td>0.31</td>\n",
       "      <td>Good</td>\n",
       "      <td>4.34</td>\n",
       "      <td>4.35</td>\n",
       "      <td>2.75</td>\n",
       "      <td>58.0</td>\n",
       "      <td>63.3</td>\n",
       "      <td>SI2</td>\n",
       "      <td>J</td>\n",
       "      <td>335</td>\n",
       "    </tr>\n",
       "    <tr>\n",
       "      <th>...</th>\n",
       "      <td>...</td>\n",
       "      <td>...</td>\n",
       "      <td>...</td>\n",
       "      <td>...</td>\n",
       "      <td>...</td>\n",
       "      <td>...</td>\n",
       "      <td>...</td>\n",
       "      <td>...</td>\n",
       "      <td>...</td>\n",
       "      <td>...</td>\n",
       "    </tr>\n",
       "    <tr>\n",
       "      <th>53789</th>\n",
       "      <td>0.72</td>\n",
       "      <td>Ideal</td>\n",
       "      <td>5.75</td>\n",
       "      <td>5.76</td>\n",
       "      <td>3.50</td>\n",
       "      <td>57.0</td>\n",
       "      <td>60.8</td>\n",
       "      <td>SI1</td>\n",
       "      <td>D</td>\n",
       "      <td>2757</td>\n",
       "    </tr>\n",
       "    <tr>\n",
       "      <th>53790</th>\n",
       "      <td>0.72</td>\n",
       "      <td>Good</td>\n",
       "      <td>5.69</td>\n",
       "      <td>5.75</td>\n",
       "      <td>3.61</td>\n",
       "      <td>55.0</td>\n",
       "      <td>63.1</td>\n",
       "      <td>SI1</td>\n",
       "      <td>D</td>\n",
       "      <td>2757</td>\n",
       "    </tr>\n",
       "    <tr>\n",
       "      <th>53791</th>\n",
       "      <td>0.70</td>\n",
       "      <td>Very Good</td>\n",
       "      <td>5.66</td>\n",
       "      <td>5.68</td>\n",
       "      <td>3.56</td>\n",
       "      <td>60.0</td>\n",
       "      <td>62.8</td>\n",
       "      <td>SI1</td>\n",
       "      <td>D</td>\n",
       "      <td>2757</td>\n",
       "    </tr>\n",
       "    <tr>\n",
       "      <th>53792</th>\n",
       "      <td>0.86</td>\n",
       "      <td>Premium</td>\n",
       "      <td>6.15</td>\n",
       "      <td>6.12</td>\n",
       "      <td>3.74</td>\n",
       "      <td>58.0</td>\n",
       "      <td>61.0</td>\n",
       "      <td>SI2</td>\n",
       "      <td>H</td>\n",
       "      <td>2757</td>\n",
       "    </tr>\n",
       "    <tr>\n",
       "      <th>53793</th>\n",
       "      <td>0.75</td>\n",
       "      <td>Ideal</td>\n",
       "      <td>5.83</td>\n",
       "      <td>5.87</td>\n",
       "      <td>3.64</td>\n",
       "      <td>55.0</td>\n",
       "      <td>62.2</td>\n",
       "      <td>SI2</td>\n",
       "      <td>D</td>\n",
       "      <td>2757</td>\n",
       "    </tr>\n",
       "  </tbody>\n",
       "</table>\n",
       "<p>53794 rows × 10 columns</p>\n",
       "</div>"
      ],
      "text/plain": [
       "       Carat        Cut  Crown Height (mm)  Girdle Diameter (mm)  \\\n",
       "0       0.23      Ideal               3.95                  3.98   \n",
       "1       0.21    Premium               3.89                  3.84   \n",
       "2       0.23       Good               4.05                  4.07   \n",
       "3       0.29    Premium               4.20                  4.23   \n",
       "4       0.31       Good               4.34                  4.35   \n",
       "...      ...        ...                ...                   ...   \n",
       "53789   0.72      Ideal               5.75                  5.76   \n",
       "53790   0.72       Good               5.69                  5.75   \n",
       "53791   0.70  Very Good               5.66                  5.68   \n",
       "53792   0.86    Premium               6.15                  6.12   \n",
       "53793   0.75      Ideal               5.83                  5.87   \n",
       "\n",
       "       Pavillion Depth (mm)  Table %  Total Depth % Clarity Color  Price  \n",
       "0                      2.43     55.0           61.5     SI2     E    326  \n",
       "1                      2.31     61.0           59.8     SI1     E    326  \n",
       "2                      2.31     65.0           56.9     VS1     E    327  \n",
       "3                      2.63     58.0           62.4     VS2     I    334  \n",
       "4                      2.75     58.0           63.3     SI2     J    335  \n",
       "...                     ...      ...            ...     ...   ...    ...  \n",
       "53789                  3.50     57.0           60.8     SI1     D   2757  \n",
       "53790                  3.61     55.0           63.1     SI1     D   2757  \n",
       "53791                  3.56     60.0           62.8     SI1     D   2757  \n",
       "53792                  3.74     58.0           61.0     SI2     H   2757  \n",
       "53793                  3.64     55.0           62.2     SI2     D   2757  \n",
       "\n",
       "[53794 rows x 10 columns]"
      ]
     },
     "execution_count": 5,
     "metadata": {},
     "output_type": "execute_result"
    }
   ],
   "source": [
    "# Create a data frame\n",
    "diamonds_df = pd.read_csv(\n",
    "    filePath + diamondsCSVFilename,\n",
    "    index_col = None\n",
    ")\n",
    "\n",
    "# Display the newly created data frame\n",
    "diamonds_df"
   ]
  },
  {
   "cell_type": "markdown",
   "id": "2914d026-d646-4b4e-a6d1-1ef74d55ac95",
   "metadata": {},
   "source": [
    "# TRANSFORMATIONS\n",
    "\n",
    "The following transformations will be done in this notebook..."
   ]
  },
  {
   "cell_type": "code",
   "execution_count": null,
   "id": "6452ffad-8050-4286-95ab-c5429f6369c5",
   "metadata": {},
   "outputs": [],
   "source": [
    "# Identify the bin edges\n",
    "binEdges_list = [0, 0.29, 0.99, diamonds_df['Carat'].max()]\n",
    "\n",
    "binEdges_list"
   ]
  },
  {
   "cell_type": "code",
   "execution_count": null,
   "id": "2ed91a53-7dbc-4060-9548-9e9174a850bf",
   "metadata": {},
   "outputs": [],
   "source": [
    "# Define labels for the categories\n",
    "caratWeightcategories_list = ['Small Diamonds', 'Medium Diamonds', 'Large Diamonds']\n",
    "\n",
    "caratWeightcategories_list"
   ]
  },
  {
   "cell_type": "code",
   "execution_count": null,
   "id": "093027c0-782a-4e42-aaeb-1fd30efe3240",
   "metadata": {},
   "outputs": [],
   "source": [
    "# Create a new column 'diamond_category' to store the categories\n",
    "diamonds_df['Diamonds Catagories'] = pd.cut(\n",
    "    diamonds_df['Carat'], \n",
    "    bins = binEdges_list, \n",
    "    labels = caratWeightcategories_list, \n",
    "    right = False\n",
    ")\n",
    "\n",
    "diamonds_df"
   ]
  },
  {
   "cell_type": "code",
   "execution_count": null,
   "id": "17b59ead-c337-4d0f-8c85-bb79a62fae5d",
   "metadata": {},
   "outputs": [],
   "source": [
    "@widgets.interact(caratSize = caratWeightcategories_list):\n",
    "def caratInspector(caratSize):\n",
    "    "
   ]
  },
  {
   "cell_type": "code",
   "execution_count": null,
   "id": "6ada7426-e1bc-479b-8280-027a246be7ff",
   "metadata": {},
   "outputs": [],
   "source": []
  },
  {
   "cell_type": "code",
   "execution_count": null,
   "id": "2456b19d-ef24-4626-83ae-0a9fe44c3c59",
   "metadata": {},
   "outputs": [],
   "source": []
  },
  {
   "cell_type": "code",
   "execution_count": null,
   "id": "09350e12-dd32-49e2-8cb5-7f46263b2007",
   "metadata": {},
   "outputs": [],
   "source": [
    "import pandas as pd\n",
    "\n",
    "# Assuming you have a DataFrame 'data' with a column 'carat_weight' containing carat weights\n",
    "\n",
    "# Define carat weight ranges for each category\n",
    "carat_bins = {\n",
    "    \"Small Diamonds\": (0.25, 1.00),\n",
    "    \"Medium Diamonds\": (1.00, 3.00),\n",
    "    \"Large Diamonds\": (3.00, np.inf)  # np.inf for values greater than or equal to 3.00\n",
    "}\n",
    "\n",
    "# Create a new column named 'diamond_size' using pd.cut\n",
    "data['diamond_size'] = pd.cut(data['carat_weight'], bins=carat_bins.values(), labels=carat_bins.keys())\n",
    "\n",
    "# Now you can use the 'diamond_size' column to filter or analyze diamonds by size category\n"
   ]
  },
  {
   "cell_type": "code",
   "execution_count": null,
   "id": "034247ab-1655-4df6-9409-3f45b1c8f3ff",
   "metadata": {},
   "outputs": [],
   "source": []
  },
  {
   "cell_type": "code",
   "execution_count": null,
   "id": "3e1bd242-5506-4b88-9a2b-48b7d47b08d2",
   "metadata": {},
   "outputs": [],
   "source": []
  },
  {
   "cell_type": "code",
   "execution_count": null,
   "id": "2c631b56-e872-49dd-8f17-0d9ccaf7f52d",
   "metadata": {},
   "outputs": [],
   "source": []
  },
  {
   "cell_type": "code",
   "execution_count": null,
   "id": "81d0f111-14a9-43ca-9de9-d6c6e26dddad",
   "metadata": {},
   "outputs": [],
   "source": []
  },
  {
   "cell_type": "code",
   "execution_count": null,
   "id": "fe0042dd-f6f4-41f6-97b4-41aeeeaf357b",
   "metadata": {},
   "outputs": [],
   "source": []
  },
  {
   "cell_type": "code",
   "execution_count": null,
   "id": "fecdd8de-f296-4d90-9cbb-56f4e47f7c9a",
   "metadata": {},
   "outputs": [],
   "source": []
  },
  {
   "cell_type": "code",
   "execution_count": null,
   "id": "5e9eec50-5235-43ff-9615-0f55b526f4f8",
   "metadata": {},
   "outputs": [],
   "source": []
  },
  {
   "cell_type": "code",
   "execution_count": null,
   "id": "471b90c2-1125-4437-b0e6-431c440e0265",
   "metadata": {},
   "outputs": [],
   "source": []
  },
  {
   "cell_type": "markdown",
   "id": "674949e9-4f20-4312-b7c0-9bd950531b9f",
   "metadata": {},
   "source": [
    "# SAVE UPDATED FILE\n",
    "\n",
    "The following scripts will save a copy of the updated csv."
   ]
  },
  {
   "cell_type": "code",
   "execution_count": null,
   "id": "052afb1e-caaf-4c5b-b925-8a310c666d4a",
   "metadata": {},
   "outputs": [],
   "source": [
    "# The name the csv\n",
    "saveFileName = ''"
   ]
  },
  {
   "cell_type": "code",
   "execution_count": null,
   "id": "59a9e794-2482-4937-9ebe-4941cc449cb5",
   "metadata": {},
   "outputs": [],
   "source": [
    "# Save the data frame to csv\n",
    "diamondsNoDuplicates_df.to_csv(\n",
    "    filePath + saveFileName,\n",
    "    index = False\n",
    ")"
   ]
  },
  {
   "cell_type": "markdown",
   "id": "5a8d4a2c-23a0-42fd-9cc0-4d6b2ebcc440",
   "metadata": {},
   "source": [
    "# SUMMARY\n",
    "\n",
    "This notebooks demonstrated the data mining techniques to create a data set.\n",
    "\n",
    "## NEXT STEPS\n",
    "\n",
    "NOTEBOOK 4 ETL activities."
   ]
  }
 ],
 "metadata": {
  "kernelspec": {
   "display_name": "Python 3 (ipykernel)",
   "language": "python",
   "name": "python3"
  },
  "language_info": {
   "codemirror_mode": {
    "name": "ipython",
    "version": 3
   },
   "file_extension": ".py",
   "mimetype": "text/x-python",
   "name": "python",
   "nbconvert_exporter": "python",
   "pygments_lexer": "ipython3",
   "version": "3.11.2"
  }
 },
 "nbformat": 4,
 "nbformat_minor": 5
}
