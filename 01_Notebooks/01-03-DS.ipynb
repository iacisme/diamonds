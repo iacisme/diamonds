{
 "cells": [
  {
   "cell_type": "markdown",
   "id": "3e057e9f-7f2e-421d-bfe5-6342143cea95",
   "metadata": {},
   "source": [
    "<h1 style='color:rgb(52, 152, 219)'; align=center><font size = 8> DIAMOND PRICES - ANALYSIS AND MODELING </font></h1>\n",
    "\n",
    "<h2 style='color:rgb(52, 152, 219)'; align=left><font size = 6> NOTEBOOK 01-03: DESCRIPTIVE STATISTICS </font></h2>"
   ]
  },
  {
   "cell_type": "markdown",
   "id": "1a5eda06-8c09-440c-8922-78699021a777",
   "metadata": {},
   "source": [
    "# REVISION HISTORY"
   ]
  },
  {
   "cell_type": "markdown",
   "id": "ce45502f-b49a-42e3-87ca-05333bcc0ffb",
   "metadata": {},
   "source": [
    "| REV | DESCRIPTION             | DATE         |  BY   | CHECK | APPROVE  |\n",
    "|:---:|:-----------------------:|:------------:|:-----:|:-----:|:--------:|\n",
    "| A0  | ISSUED FOR REVIEW (IFR) | 2024-APR-XX  |  IAC  |       |          |\n",
    "|     |                         |              |       |       |          |"
   ]
  },
  {
   "cell_type": "markdown",
   "id": "e1807a41-064b-42c4-a993-88d06ed043a7",
   "metadata": {},
   "source": [
    "## DETAILED DESCRIPTION OF REVISIONS"
   ]
  },
  {
   "cell_type": "markdown",
   "id": "5b551dd0-13c8-48fd-a9b3-c01262d65ccb",
   "metadata": {},
   "source": [
    "> **REV A0** - HOLD"
   ]
  },
  {
   "cell_type": "markdown",
   "id": "14b3c67d-9ffb-4a8c-a1b6-7a0ada99fe60",
   "metadata": {},
   "source": [
    "# INTRODUCTION"
   ]
  },
  {
   "cell_type": "markdown",
   "id": "c045726d-e6ac-4230-9c32-847fc6ffec7f",
   "metadata": {},
   "source": [
    "Descriptive statistics summarizes and organizes the characteristics of a dataset. "
   ]
  },
  {
   "cell_type": "markdown",
   "id": "9a99c741-a58c-45b6-82b7-c5b61fcb7048",
   "metadata": {},
   "source": [
    "## DESCRIPTIVE STATISTICS STEPS\n",
    "\n",
    "Below are the descriptive statistics steps performed in this notebook:\n",
    "\n",
    "1. [X] **Measures of Central Tendency:** Calculate descriptive statistics such as mean, median, and mode to understand the central tendency of the data.\n",
    "2. [ ] **Measures of Dispersion:** Compute measures like standard deviation, variance, and range to assess the spread or variability of the data.\n",
    "3. [ ] **Frequency Distributions:** Create frequency tables or histograms to visualize the distribution of categorical and numerical variables.\n",
    "4. [ ] **Percentiles:** Calculate percentiles to identify specific data points' position within the dataset.\n",
    "5. [ ] **Skewness and Kurtosis:** Skewness measures the asymmetry of the distribution, indicating whether the data is skewed to the left or right. Kurtosis measures the peakedness or flatness of the distribution.\n",
    "6. [ ] **Outlier Management:** Identify and manage outliers.\n",
    "7. [ ] **Correlation Analysis:** Compute correlation coefficients to understand the relationships between pairs of variables."
   ]
  },
  {
   "cell_type": "markdown",
   "id": "027301fe-02bd-4b12-8e2c-f3ebad0cead0",
   "metadata": {},
   "source": [
    "# REQUIRED LIBRARIES"
   ]
  },
  {
   "cell_type": "markdown",
   "id": "68517abc-4fdc-4ea4-bb7f-065902a277fa",
   "metadata": {},
   "source": [
    "The following libraries are required to run this notebook."
   ]
  },
  {
   "cell_type": "code",
   "execution_count": 1,
   "id": "15598467-92e3-471a-8f74-bf15121155d9",
   "metadata": {},
   "outputs": [],
   "source": [
    "# Library to create and handle a tabular dataset\n",
    "import pandas as pd"
   ]
  },
  {
   "cell_type": "code",
   "execution_count": 2,
   "id": "46630a2d-9a09-4320-87b9-6c6ac20c723f",
   "metadata": {},
   "outputs": [],
   "source": [
    "# Plotly graphing libraries\n",
    "import plotly.express as px\n",
    "import plotly.graph_objs as go"
   ]
  },
  {
   "cell_type": "code",
   "execution_count": 3,
   "id": "75949430-cb85-4d8d-bc66-b17ce6b29fa7",
   "metadata": {},
   "outputs": [],
   "source": [
    "# Use the scikit-learn Library to create categorical and numerical features\n",
    "from sklearn.compose import make_column_selector as selector"
   ]
  },
  {
   "cell_type": "code",
   "execution_count": 4,
   "id": "e03eba10-a8f6-4951-8c15-0341272806b4",
   "metadata": {},
   "outputs": [],
   "source": [
    "# Library used to create interactive controls\n",
    "import ipywidgets as widgets"
   ]
  },
  {
   "cell_type": "markdown",
   "id": "695e7200-7b34-44b1-a030-c80ef80b74f2",
   "metadata": {},
   "source": [
    "# LOAD DATASET"
   ]
  },
  {
   "cell_type": "markdown",
   "id": "916b0128-b33e-42b9-8b35-1e8fa8050ad4",
   "metadata": {},
   "source": [
    "The scripts to load this dataset are:"
   ]
  },
  {
   "cell_type": "code",
   "execution_count": 5,
   "id": "7da5e812-eed1-4ad2-beba-2d46db819cf2",
   "metadata": {},
   "outputs": [],
   "source": [
    "# Path to the dataset\n",
    "filePath = \"./../00_Data/00_Datasets/\""
   ]
  },
  {
   "cell_type": "code",
   "execution_count": 6,
   "id": "77b0dc15-9eca-4f16-b976-ce53a2296ed4",
   "metadata": {},
   "outputs": [],
   "source": [
    "# Filename\n",
    "diamondsCSVFilename = 'diamonds_DM.csv'"
   ]
  },
  {
   "cell_type": "code",
   "execution_count": 7,
   "id": "55601ea6-7bbb-4ae5-9959-49a3308f0239",
   "metadata": {},
   "outputs": [
    {
     "data": {
      "text/html": [
       "<div>\n",
       "<style scoped>\n",
       "    .dataframe tbody tr th:only-of-type {\n",
       "        vertical-align: middle;\n",
       "    }\n",
       "\n",
       "    .dataframe tbody tr th {\n",
       "        vertical-align: top;\n",
       "    }\n",
       "\n",
       "    .dataframe thead th {\n",
       "        text-align: right;\n",
       "    }\n",
       "</style>\n",
       "<table border=\"1\" class=\"dataframe\">\n",
       "  <thead>\n",
       "    <tr style=\"text-align: right;\">\n",
       "      <th></th>\n",
       "      <th>Carat</th>\n",
       "      <th>Diamond Type</th>\n",
       "      <th>Cut</th>\n",
       "      <th>Crown Height (mm)</th>\n",
       "      <th>Girdle Diameter (mm)</th>\n",
       "      <th>Pavillion Depth (mm)</th>\n",
       "      <th>Table %</th>\n",
       "      <th>Total Depth %</th>\n",
       "      <th>Color</th>\n",
       "      <th>Color Grades</th>\n",
       "      <th>Clarity</th>\n",
       "      <th>Price</th>\n",
       "      <th>Price(2024)</th>\n",
       "    </tr>\n",
       "  </thead>\n",
       "  <tbody>\n",
       "    <tr>\n",
       "      <th>0</th>\n",
       "      <td>0.23</td>\n",
       "      <td>Small Diamond</td>\n",
       "      <td>Ideal</td>\n",
       "      <td>3.95</td>\n",
       "      <td>3.98</td>\n",
       "      <td>2.43</td>\n",
       "      <td>55.0</td>\n",
       "      <td>61.5</td>\n",
       "      <td>E</td>\n",
       "      <td>Colorless</td>\n",
       "      <td>SI2</td>\n",
       "      <td>326</td>\n",
       "      <td>354.04</td>\n",
       "    </tr>\n",
       "    <tr>\n",
       "      <th>1</th>\n",
       "      <td>0.21</td>\n",
       "      <td>Small Diamond</td>\n",
       "      <td>Excellent</td>\n",
       "      <td>3.89</td>\n",
       "      <td>3.84</td>\n",
       "      <td>2.31</td>\n",
       "      <td>61.0</td>\n",
       "      <td>59.8</td>\n",
       "      <td>E</td>\n",
       "      <td>Colorless</td>\n",
       "      <td>SI1</td>\n",
       "      <td>326</td>\n",
       "      <td>354.04</td>\n",
       "    </tr>\n",
       "    <tr>\n",
       "      <th>2</th>\n",
       "      <td>0.23</td>\n",
       "      <td>Small Diamond</td>\n",
       "      <td>Good</td>\n",
       "      <td>4.05</td>\n",
       "      <td>4.07</td>\n",
       "      <td>2.31</td>\n",
       "      <td>65.0</td>\n",
       "      <td>56.9</td>\n",
       "      <td>E</td>\n",
       "      <td>Colorless</td>\n",
       "      <td>VS1</td>\n",
       "      <td>327</td>\n",
       "      <td>355.12</td>\n",
       "    </tr>\n",
       "    <tr>\n",
       "      <th>3</th>\n",
       "      <td>0.29</td>\n",
       "      <td>Small Diamond</td>\n",
       "      <td>Excellent</td>\n",
       "      <td>4.20</td>\n",
       "      <td>4.23</td>\n",
       "      <td>2.63</td>\n",
       "      <td>58.0</td>\n",
       "      <td>62.4</td>\n",
       "      <td>I</td>\n",
       "      <td>Near Colorless</td>\n",
       "      <td>VS2</td>\n",
       "      <td>334</td>\n",
       "      <td>362.72</td>\n",
       "    </tr>\n",
       "    <tr>\n",
       "      <th>4</th>\n",
       "      <td>0.31</td>\n",
       "      <td>Medium Diamond</td>\n",
       "      <td>Good</td>\n",
       "      <td>4.34</td>\n",
       "      <td>4.35</td>\n",
       "      <td>2.75</td>\n",
       "      <td>58.0</td>\n",
       "      <td>63.3</td>\n",
       "      <td>J</td>\n",
       "      <td>Near Colorless</td>\n",
       "      <td>SI2</td>\n",
       "      <td>335</td>\n",
       "      <td>363.81</td>\n",
       "    </tr>\n",
       "    <tr>\n",
       "      <th>...</th>\n",
       "      <td>...</td>\n",
       "      <td>...</td>\n",
       "      <td>...</td>\n",
       "      <td>...</td>\n",
       "      <td>...</td>\n",
       "      <td>...</td>\n",
       "      <td>...</td>\n",
       "      <td>...</td>\n",
       "      <td>...</td>\n",
       "      <td>...</td>\n",
       "      <td>...</td>\n",
       "      <td>...</td>\n",
       "      <td>...</td>\n",
       "    </tr>\n",
       "    <tr>\n",
       "      <th>53789</th>\n",
       "      <td>0.72</td>\n",
       "      <td>Medium Diamond</td>\n",
       "      <td>Ideal</td>\n",
       "      <td>5.75</td>\n",
       "      <td>5.76</td>\n",
       "      <td>3.50</td>\n",
       "      <td>57.0</td>\n",
       "      <td>60.8</td>\n",
       "      <td>D</td>\n",
       "      <td>Colorless</td>\n",
       "      <td>SI1</td>\n",
       "      <td>2757</td>\n",
       "      <td>2994.10</td>\n",
       "    </tr>\n",
       "    <tr>\n",
       "      <th>53790</th>\n",
       "      <td>0.72</td>\n",
       "      <td>Medium Diamond</td>\n",
       "      <td>Good</td>\n",
       "      <td>5.69</td>\n",
       "      <td>5.75</td>\n",
       "      <td>3.61</td>\n",
       "      <td>55.0</td>\n",
       "      <td>63.1</td>\n",
       "      <td>D</td>\n",
       "      <td>Colorless</td>\n",
       "      <td>SI1</td>\n",
       "      <td>2757</td>\n",
       "      <td>2994.10</td>\n",
       "    </tr>\n",
       "    <tr>\n",
       "      <th>53791</th>\n",
       "      <td>0.70</td>\n",
       "      <td>Medium Diamond</td>\n",
       "      <td>Very Good</td>\n",
       "      <td>5.66</td>\n",
       "      <td>5.68</td>\n",
       "      <td>3.56</td>\n",
       "      <td>60.0</td>\n",
       "      <td>62.8</td>\n",
       "      <td>D</td>\n",
       "      <td>Colorless</td>\n",
       "      <td>SI1</td>\n",
       "      <td>2757</td>\n",
       "      <td>2994.10</td>\n",
       "    </tr>\n",
       "    <tr>\n",
       "      <th>53792</th>\n",
       "      <td>0.86</td>\n",
       "      <td>Medium Diamond</td>\n",
       "      <td>Excellent</td>\n",
       "      <td>6.15</td>\n",
       "      <td>6.12</td>\n",
       "      <td>3.74</td>\n",
       "      <td>58.0</td>\n",
       "      <td>61.0</td>\n",
       "      <td>H</td>\n",
       "      <td>Near Colorless</td>\n",
       "      <td>SI2</td>\n",
       "      <td>2757</td>\n",
       "      <td>2994.10</td>\n",
       "    </tr>\n",
       "    <tr>\n",
       "      <th>53793</th>\n",
       "      <td>0.75</td>\n",
       "      <td>Medium Diamond</td>\n",
       "      <td>Ideal</td>\n",
       "      <td>5.83</td>\n",
       "      <td>5.87</td>\n",
       "      <td>3.64</td>\n",
       "      <td>55.0</td>\n",
       "      <td>62.2</td>\n",
       "      <td>D</td>\n",
       "      <td>Colorless</td>\n",
       "      <td>SI2</td>\n",
       "      <td>2757</td>\n",
       "      <td>2994.10</td>\n",
       "    </tr>\n",
       "  </tbody>\n",
       "</table>\n",
       "<p>53794 rows × 13 columns</p>\n",
       "</div>"
      ],
      "text/plain": [
       "       Carat    Diamond Type        Cut  Crown Height (mm)  \\\n",
       "0       0.23   Small Diamond      Ideal               3.95   \n",
       "1       0.21   Small Diamond  Excellent               3.89   \n",
       "2       0.23   Small Diamond       Good               4.05   \n",
       "3       0.29   Small Diamond  Excellent               4.20   \n",
       "4       0.31  Medium Diamond       Good               4.34   \n",
       "...      ...             ...        ...                ...   \n",
       "53789   0.72  Medium Diamond      Ideal               5.75   \n",
       "53790   0.72  Medium Diamond       Good               5.69   \n",
       "53791   0.70  Medium Diamond  Very Good               5.66   \n",
       "53792   0.86  Medium Diamond  Excellent               6.15   \n",
       "53793   0.75  Medium Diamond      Ideal               5.83   \n",
       "\n",
       "       Girdle Diameter (mm)  Pavillion Depth (mm)  Table %  Total Depth %  \\\n",
       "0                      3.98                  2.43     55.0           61.5   \n",
       "1                      3.84                  2.31     61.0           59.8   \n",
       "2                      4.07                  2.31     65.0           56.9   \n",
       "3                      4.23                  2.63     58.0           62.4   \n",
       "4                      4.35                  2.75     58.0           63.3   \n",
       "...                     ...                   ...      ...            ...   \n",
       "53789                  5.76                  3.50     57.0           60.8   \n",
       "53790                  5.75                  3.61     55.0           63.1   \n",
       "53791                  5.68                  3.56     60.0           62.8   \n",
       "53792                  6.12                  3.74     58.0           61.0   \n",
       "53793                  5.87                  3.64     55.0           62.2   \n",
       "\n",
       "      Color    Color Grades Clarity  Price  Price(2024)  \n",
       "0         E       Colorless     SI2    326       354.04  \n",
       "1         E       Colorless     SI1    326       354.04  \n",
       "2         E       Colorless     VS1    327       355.12  \n",
       "3         I  Near Colorless     VS2    334       362.72  \n",
       "4         J  Near Colorless     SI2    335       363.81  \n",
       "...     ...             ...     ...    ...          ...  \n",
       "53789     D       Colorless     SI1   2757      2994.10  \n",
       "53790     D       Colorless     SI1   2757      2994.10  \n",
       "53791     D       Colorless     SI1   2757      2994.10  \n",
       "53792     H  Near Colorless     SI2   2757      2994.10  \n",
       "53793     D       Colorless     SI2   2757      2994.10  \n",
       "\n",
       "[53794 rows x 13 columns]"
      ]
     },
     "execution_count": 7,
     "metadata": {},
     "output_type": "execute_result"
    }
   ],
   "source": [
    "# Create a data frame\n",
    "diamonds_df = pd.read_csv(\n",
    "    filePath + diamondsCSVFilename,\n",
    "    index_col = None\n",
    ")\n",
    "\n",
    "# Display the newly created data frame\n",
    "diamonds_df"
   ]
  },
  {
   "cell_type": "markdown",
   "id": "5e36233a-c6da-4dee-8316-55985fbc4097",
   "metadata": {},
   "source": [
    "# MEASURE OF CENTRAL TENDENCY"
   ]
  },
  {
   "cell_type": "markdown",
   "id": "1e294431-c152-4d0e-b6b2-ea95ac21f96a",
   "metadata": {},
   "source": [
    "The measure of central tendency are values that represents the center point of a dataset. The center point can be thought of as the most common values. In statistics, the measure of central tendency can described in the following terms: an average value (`mean`), the middle value (`median`), and the most common values (`mode`). \n",
    "\n",
    "Choosing the right one depends on whether you're dealing with categorical or numerical values. Below are the differences between the two:\n",
    "\n",
    "**Categorical Data**:\n",
    "- **Mode**: In categorical data, the mode is often the most relevant measure of central tendency. It represents the most frequently occurring category or class within the dataset.\n",
    "\n",
    "**Numerical Data**:\n",
    "* **Mean**: The mean is a common measure of central tendency for numerical data. It is calculated by summing all the values in the dataset and then dividing by the total number of values. The mean is sensitive to extreme values, also known as outliers, and provides a balance point for the data distribution.\n",
    "* **Median**: The median is another measure of central tendency for numerical data. It represents the middle value when the data is arranged in ascending or descending order. Unlike the mean, the median is not influenced by extreme values, making it more robust in the presence of outliers.\n",
    "* **Mode**: Similar to categorical data, the mode can also be used for numerical data, indicating the most frequent value.\n",
    "\n",
    "<div class=\"alert alert-info\" role=\"alert\">\n",
    "  <h3 class=\"alert-heading\">NOTE:</h3>\n",
    "  <p>In order to perform this analysis, we are going to need to split the dataset between categorical and numerical features. The process to split the dataset will be shown below.</p>\n",
    "</div>\n",
    "\n",
    "**Dataset splitting method**: There are many ways to split a dataset between categorical and numerical features. The method below will use the [scikit-learn column transformer library](https://scikit-learn.org/stable/modules/generated/sklearn.compose.make_column_selector.html#sklearn.compose.make_column_selector) to create a categorical and numerical datasets. This method was chosen because it will be the same method used to split the dataset between categorical vs. numerical features during the predictive analytics phase."
   ]
  },
  {
   "cell_type": "markdown",
   "id": "aa5a042a-188e-4903-aa8d-e5c23f825074",
   "metadata": {},
   "source": [
    "## CATEGORICAL DATA"
   ]
  },
  {
   "cell_type": "markdown",
   "id": "b0e6ba41-7d56-4166-805e-a9167369bb18",
   "metadata": {},
   "source": [
    "For categorical data, finding the **mode** is the most common measure of central tendency, especially for ordinal data types. Howeer; you might be able to determine a **median**, and even a **mean** in some cases, for the nominal data types. "
   ]
  },
  {
   "cell_type": "code",
   "execution_count": 8,
   "id": "fcdadeb3-9ac5-42b6-b373-c2850e5f3428",
   "metadata": {},
   "outputs": [],
   "source": [
    "# Create an object that will output a list of categorical columns from a dataset\n",
    "categoricalColumnsSlctr_obj = selector(\n",
    "    dtype_include = object\n",
    ")"
   ]
  },
  {
   "cell_type": "code",
   "execution_count": 9,
   "id": "e718dcbb-c5a6-4c5c-930d-9e070c8d5253",
   "metadata": {},
   "outputs": [],
   "source": [
    "# Create a list of categorical columns\n",
    "categoricalColumns_list = categoricalColumnsSlctr_obj(diamonds_df)"
   ]
  },
  {
   "cell_type": "code",
   "execution_count": 10,
   "id": "ae36f88c-92d1-4a00-ae16-2d09b10c036f",
   "metadata": {},
   "outputs": [
    {
     "data": {
      "text/html": [
       "<div>\n",
       "<style scoped>\n",
       "    .dataframe tbody tr th:only-of-type {\n",
       "        vertical-align: middle;\n",
       "    }\n",
       "\n",
       "    .dataframe tbody tr th {\n",
       "        vertical-align: top;\n",
       "    }\n",
       "\n",
       "    .dataframe thead th {\n",
       "        text-align: right;\n",
       "    }\n",
       "</style>\n",
       "<table border=\"1\" class=\"dataframe\">\n",
       "  <thead>\n",
       "    <tr style=\"text-align: right;\">\n",
       "      <th></th>\n",
       "      <th>Diamond Type</th>\n",
       "      <th>Cut</th>\n",
       "      <th>Color</th>\n",
       "      <th>Color Grades</th>\n",
       "      <th>Clarity</th>\n",
       "    </tr>\n",
       "  </thead>\n",
       "  <tbody>\n",
       "    <tr>\n",
       "      <th>0</th>\n",
       "      <td>Small Diamond</td>\n",
       "      <td>Ideal</td>\n",
       "      <td>E</td>\n",
       "      <td>Colorless</td>\n",
       "      <td>SI2</td>\n",
       "    </tr>\n",
       "    <tr>\n",
       "      <th>1</th>\n",
       "      <td>Small Diamond</td>\n",
       "      <td>Excellent</td>\n",
       "      <td>E</td>\n",
       "      <td>Colorless</td>\n",
       "      <td>SI1</td>\n",
       "    </tr>\n",
       "    <tr>\n",
       "      <th>2</th>\n",
       "      <td>Small Diamond</td>\n",
       "      <td>Good</td>\n",
       "      <td>E</td>\n",
       "      <td>Colorless</td>\n",
       "      <td>VS1</td>\n",
       "    </tr>\n",
       "    <tr>\n",
       "      <th>3</th>\n",
       "      <td>Small Diamond</td>\n",
       "      <td>Excellent</td>\n",
       "      <td>I</td>\n",
       "      <td>Near Colorless</td>\n",
       "      <td>VS2</td>\n",
       "    </tr>\n",
       "    <tr>\n",
       "      <th>4</th>\n",
       "      <td>Medium Diamond</td>\n",
       "      <td>Good</td>\n",
       "      <td>J</td>\n",
       "      <td>Near Colorless</td>\n",
       "      <td>SI2</td>\n",
       "    </tr>\n",
       "    <tr>\n",
       "      <th>...</th>\n",
       "      <td>...</td>\n",
       "      <td>...</td>\n",
       "      <td>...</td>\n",
       "      <td>...</td>\n",
       "      <td>...</td>\n",
       "    </tr>\n",
       "    <tr>\n",
       "      <th>53789</th>\n",
       "      <td>Medium Diamond</td>\n",
       "      <td>Ideal</td>\n",
       "      <td>D</td>\n",
       "      <td>Colorless</td>\n",
       "      <td>SI1</td>\n",
       "    </tr>\n",
       "    <tr>\n",
       "      <th>53790</th>\n",
       "      <td>Medium Diamond</td>\n",
       "      <td>Good</td>\n",
       "      <td>D</td>\n",
       "      <td>Colorless</td>\n",
       "      <td>SI1</td>\n",
       "    </tr>\n",
       "    <tr>\n",
       "      <th>53791</th>\n",
       "      <td>Medium Diamond</td>\n",
       "      <td>Very Good</td>\n",
       "      <td>D</td>\n",
       "      <td>Colorless</td>\n",
       "      <td>SI1</td>\n",
       "    </tr>\n",
       "    <tr>\n",
       "      <th>53792</th>\n",
       "      <td>Medium Diamond</td>\n",
       "      <td>Excellent</td>\n",
       "      <td>H</td>\n",
       "      <td>Near Colorless</td>\n",
       "      <td>SI2</td>\n",
       "    </tr>\n",
       "    <tr>\n",
       "      <th>53793</th>\n",
       "      <td>Medium Diamond</td>\n",
       "      <td>Ideal</td>\n",
       "      <td>D</td>\n",
       "      <td>Colorless</td>\n",
       "      <td>SI2</td>\n",
       "    </tr>\n",
       "  </tbody>\n",
       "</table>\n",
       "<p>53794 rows × 5 columns</p>\n",
       "</div>"
      ],
      "text/plain": [
       "         Diamond Type        Cut Color    Color Grades Clarity\n",
       "0       Small Diamond      Ideal     E       Colorless     SI2\n",
       "1       Small Diamond  Excellent     E       Colorless     SI1\n",
       "2       Small Diamond       Good     E       Colorless     VS1\n",
       "3       Small Diamond  Excellent     I  Near Colorless     VS2\n",
       "4      Medium Diamond       Good     J  Near Colorless     SI2\n",
       "...               ...        ...   ...             ...     ...\n",
       "53789  Medium Diamond      Ideal     D       Colorless     SI1\n",
       "53790  Medium Diamond       Good     D       Colorless     SI1\n",
       "53791  Medium Diamond  Very Good     D       Colorless     SI1\n",
       "53792  Medium Diamond  Excellent     H  Near Colorless     SI2\n",
       "53793  Medium Diamond      Ideal     D       Colorless     SI2\n",
       "\n",
       "[53794 rows x 5 columns]"
      ]
     },
     "execution_count": 10,
     "metadata": {},
     "output_type": "execute_result"
    }
   ],
   "source": [
    "# Create a categorical dataset of just categorical features\n",
    "diamonds_cat_df = diamonds_df[categoricalColumns_list]\n",
    "\n",
    "# Verify the data\n",
    "diamonds_cat_df"
   ]
  },
  {
   "cell_type": "markdown",
   "id": "4c90e596-077b-48c6-8bd4-065395f184bf",
   "metadata": {},
   "source": [
    "### MEASURE OF CENTRAL TENDENCY"
   ]
  },
  {
   "cell_type": "markdown",
   "id": "def01462-8cfc-418a-b11e-3f8c75c0a7a3",
   "metadata": {},
   "source": [
    "The categorical values found in this dataset are all ordinal values. They are all related to grading a diamond. This implies that the only central tendency that can be extracted is the **mode**.\n",
    "\n",
    "The following scripts graphically display the mode of each categorical feature. "
   ]
  },
  {
   "cell_type": "code",
   "execution_count": 11,
   "id": "ae92ea7d-4305-402d-8ad5-7851e436b42e",
   "metadata": {},
   "outputs": [],
   "source": [
    "# Sort categories from most valuable to least.\n",
    "# Helps in visualizing\n",
    "sortOrder_dict = {\n",
    "    'Cut' : ['Ideal', 'Excellent', 'Very Good', 'Good', 'Fair'],\n",
    "    'Color' : sorted(diamonds_cat_df['Color'].unique().tolist()),\n",
    "    'Clarity' : ['IF', 'VVS1', 'VVS2', 'VS1', 'VS2', 'SI1', 'SI2', 'I1'],\n",
    "}"
   ]
  },
  {
   "cell_type": "code",
   "execution_count": 12,
   "id": "1e359e3a-09f8-4285-bacc-f85f9ba708e9",
   "metadata": {},
   "outputs": [],
   "source": [
    "# Create an interactive widget to help in graphing\n",
    "categoricalFeatures_widget = widgets.Dropdown(\n",
    "    options = categoricalColumns_list,\n",
    "    value = categoricalColumns_list[0],\n",
    "    description = 'Feature:',\n",
    "    disabled = False,\n",
    ")"
   ]
  },
  {
   "cell_type": "code",
   "execution_count": 13,
   "id": "b3d0ee12-1daf-4a10-8ed5-075b81897aaa",
   "metadata": {},
   "outputs": [
    {
     "data": {
      "application/vnd.jupyter.widget-view+json": {
       "model_id": "08dff1cedc194dfc8f05ac08eb964390",
       "version_major": 2,
       "version_minor": 0
      },
      "text/plain": [
       "interactive(children=(Dropdown(description='Feature:', options=('Diamond Type', 'Cut', 'Color', 'Color Grades'…"
      ]
     },
     "metadata": {},
     "output_type": "display_data"
    }
   ],
   "source": [
    "# Create an interactive graph to help visualize categorical data\n",
    "@widgets.interact(\n",
    "    categoricalFeature = categoricalFeatures_widget\n",
    ")\n",
    "def categoryInspector(categoricalFeature):\n",
    "    # Create a histogram object\n",
    "    fig = px.histogram(\n",
    "        diamonds_cat_df,\n",
    "        x = categoricalFeature,\n",
    "        category_orders = sortOrder_dict,\n",
    "        color = categoricalFeature,\n",
    "        color_discrete_sequence = px.colors.qualitative.Dark24,\n",
    "        template = \"plotly_white\"\n",
    "    )\n",
    "\n",
    "    # Extract the mode of the dataset\n",
    "    mode =  diamonds_cat_df[categoricalFeature].mode()[0]\n",
    "\n",
    "    # Create a graph title\n",
    "    graphTitle = f\"Mode: {mode}\"\n",
    "\n",
    "    # Update the graph\n",
    "    fig.update_layout(\n",
    "        title_text = graphTitle,\n",
    "        yaxis_title_text = 'Total Counts', # yaxis label\n",
    "        height = 600,\n",
    "        width = 800\n",
    "    )\n",
    "\n",
    "    # Display the results\n",
    "    return fig.show()"
   ]
  },
  {
   "cell_type": "markdown",
   "id": "bb3da28b-3335-49b6-8794-902c5479a863",
   "metadata": {},
   "source": [
    "### SUMMARY"
   ]
  },
  {
   "cell_type": "markdown",
   "id": "479ff484-c2e9-4810-a0b9-d83e26ab5610",
   "metadata": {},
   "source": [
    "The following scripts will create a summary table of the mode for each categorical feature:"
   ]
  },
  {
   "cell_type": "code",
   "execution_count": 14,
   "id": "4a27b251-6052-47ae-8a1a-28cb9e9c0d3e",
   "metadata": {},
   "outputs": [
    {
     "data": {
      "text/html": [
       "<div>\n",
       "<style scoped>\n",
       "    .dataframe tbody tr th:only-of-type {\n",
       "        vertical-align: middle;\n",
       "    }\n",
       "\n",
       "    .dataframe tbody tr th {\n",
       "        vertical-align: top;\n",
       "    }\n",
       "\n",
       "    .dataframe thead th {\n",
       "        text-align: right;\n",
       "    }\n",
       "</style>\n",
       "<table border=\"1\" class=\"dataframe\">\n",
       "  <thead>\n",
       "    <tr style=\"text-align: right;\">\n",
       "      <th></th>\n",
       "      <th>Feature</th>\n",
       "      <th>Values</th>\n",
       "      <th>Mode</th>\n",
       "    </tr>\n",
       "  </thead>\n",
       "  <tbody>\n",
       "    <tr>\n",
       "      <th>0</th>\n",
       "      <td>Diamond Type</td>\n",
       "      <td>[Small Diamond, Medium Diamond, Large Diamond]</td>\n",
       "      <td>Medium Diamond</td>\n",
       "    </tr>\n",
       "    <tr>\n",
       "      <th>1</th>\n",
       "      <td>Cut</td>\n",
       "      <td>[Ideal, Excellent, Good, Very Good, Fair]</td>\n",
       "      <td>Ideal</td>\n",
       "    </tr>\n",
       "    <tr>\n",
       "      <th>2</th>\n",
       "      <td>Color</td>\n",
       "      <td>[D, E, F, G, H, I, J]</td>\n",
       "      <td>G</td>\n",
       "    </tr>\n",
       "    <tr>\n",
       "      <th>3</th>\n",
       "      <td>Color Grades</td>\n",
       "      <td>[Colorless, Near Colorless]</td>\n",
       "      <td>Near Colorless</td>\n",
       "    </tr>\n",
       "    <tr>\n",
       "      <th>4</th>\n",
       "      <td>Clarity</td>\n",
       "      <td>[I1, IF, SI1, SI2, VS1, VS2, VVS1, VVS2]</td>\n",
       "      <td>SI1</td>\n",
       "    </tr>\n",
       "  </tbody>\n",
       "</table>\n",
       "</div>"
      ],
      "text/plain": [
       "        Feature                                          Values  \\\n",
       "0  Diamond Type  [Small Diamond, Medium Diamond, Large Diamond]   \n",
       "1           Cut       [Ideal, Excellent, Good, Very Good, Fair]   \n",
       "2         Color                           [D, E, F, G, H, I, J]   \n",
       "3  Color Grades                     [Colorless, Near Colorless]   \n",
       "4       Clarity        [I1, IF, SI1, SI2, VS1, VS2, VVS1, VVS2]   \n",
       "\n",
       "             Mode  \n",
       "0  Medium Diamond  \n",
       "1           Ideal  \n",
       "2               G  \n",
       "3  Near Colorless  \n",
       "4             SI1  "
      ]
     },
     "execution_count": 14,
     "metadata": {},
     "output_type": "execute_result"
    }
   ],
   "source": [
    "# Create a list to store dictionary values\n",
    "catSummary_list = []\n",
    "\n",
    "# Create a summary of the mode values for categorical features\n",
    "for category in categoricalColumns_list:\n",
    "    # Extract the mode of the dataset\n",
    "    mode =  diamonds_cat_df[category].mode()[0]\n",
    "    # Extract the unique values found in the dataset\n",
    "    data_list = diamonds_cat_df[category].unique().tolist()\n",
    "    # Apply a criteria to help sort some values\n",
    "    if category == 'Color' or category == 'Clarity':\n",
    "        data_list = sorted(data_list)\n",
    "    # Create the dictionary\n",
    "    dictionary = {\n",
    "        'Feature' : category,\n",
    "        'Values' : data_list,\n",
    "        'Mode' : mode\n",
    "    }\n",
    "    # Append the dictionary to the dictionary list\n",
    "    catSummary_list.append(dictionary)\n",
    "\n",
    "# Create a pandas dataframe to display the results as a table\n",
    "categoricalSummary_df = pd.DataFrame(catSummary_list)\n",
    "\n",
    "# Display the summary table\n",
    "categoricalSummary_df"
   ]
  },
  {
   "cell_type": "markdown",
   "id": "f60084aa-f997-4a4d-b330-bf8c9f9f82c3",
   "metadata": {},
   "source": [
    "## NUMERICAL DATA"
   ]
  },
  {
   "cell_type": "markdown",
   "id": "ad5b3348-5e50-4052-b375-bb4f12e37266",
   "metadata": {},
   "source": [
    "For numerical data, you can determine the **mean**, **median**, and **mode**, for continuous variables. "
   ]
  },
  {
   "cell_type": "code",
   "execution_count": 15,
   "id": "c484e29e-6511-47f7-9d09-9e10162bd70b",
   "metadata": {},
   "outputs": [],
   "source": [
    "# Create an object that will output a list of numerical columns from a dataset\n",
    "numericalColumnsSlctr_obj = selector(\n",
    "    dtype_exclude = object\n",
    ")"
   ]
  },
  {
   "cell_type": "code",
   "execution_count": 16,
   "id": "cefc4ed0-a0ea-4474-b953-ee7ba4d297db",
   "metadata": {},
   "outputs": [],
   "source": [
    "# Create a list of numerical columns\n",
    "numericalColumns_list = numericalColumnsSlctr_obj(diamonds_df)"
   ]
  },
  {
   "cell_type": "code",
   "execution_count": 17,
   "id": "e1f7eedd-6cf7-4bcb-9b23-70b44f85dc6c",
   "metadata": {},
   "outputs": [
    {
     "data": {
      "text/html": [
       "<div>\n",
       "<style scoped>\n",
       "    .dataframe tbody tr th:only-of-type {\n",
       "        vertical-align: middle;\n",
       "    }\n",
       "\n",
       "    .dataframe tbody tr th {\n",
       "        vertical-align: top;\n",
       "    }\n",
       "\n",
       "    .dataframe thead th {\n",
       "        text-align: right;\n",
       "    }\n",
       "</style>\n",
       "<table border=\"1\" class=\"dataframe\">\n",
       "  <thead>\n",
       "    <tr style=\"text-align: right;\">\n",
       "      <th></th>\n",
       "      <th>Carat</th>\n",
       "      <th>Crown Height (mm)</th>\n",
       "      <th>Girdle Diameter (mm)</th>\n",
       "      <th>Pavillion Depth (mm)</th>\n",
       "      <th>Table %</th>\n",
       "      <th>Total Depth %</th>\n",
       "      <th>Price</th>\n",
       "      <th>Price(2024)</th>\n",
       "    </tr>\n",
       "  </thead>\n",
       "  <tbody>\n",
       "    <tr>\n",
       "      <th>0</th>\n",
       "      <td>0.23</td>\n",
       "      <td>3.95</td>\n",
       "      <td>3.98</td>\n",
       "      <td>2.43</td>\n",
       "      <td>55.0</td>\n",
       "      <td>61.5</td>\n",
       "      <td>326</td>\n",
       "      <td>354.04</td>\n",
       "    </tr>\n",
       "    <tr>\n",
       "      <th>1</th>\n",
       "      <td>0.21</td>\n",
       "      <td>3.89</td>\n",
       "      <td>3.84</td>\n",
       "      <td>2.31</td>\n",
       "      <td>61.0</td>\n",
       "      <td>59.8</td>\n",
       "      <td>326</td>\n",
       "      <td>354.04</td>\n",
       "    </tr>\n",
       "    <tr>\n",
       "      <th>2</th>\n",
       "      <td>0.23</td>\n",
       "      <td>4.05</td>\n",
       "      <td>4.07</td>\n",
       "      <td>2.31</td>\n",
       "      <td>65.0</td>\n",
       "      <td>56.9</td>\n",
       "      <td>327</td>\n",
       "      <td>355.12</td>\n",
       "    </tr>\n",
       "    <tr>\n",
       "      <th>3</th>\n",
       "      <td>0.29</td>\n",
       "      <td>4.20</td>\n",
       "      <td>4.23</td>\n",
       "      <td>2.63</td>\n",
       "      <td>58.0</td>\n",
       "      <td>62.4</td>\n",
       "      <td>334</td>\n",
       "      <td>362.72</td>\n",
       "    </tr>\n",
       "    <tr>\n",
       "      <th>4</th>\n",
       "      <td>0.31</td>\n",
       "      <td>4.34</td>\n",
       "      <td>4.35</td>\n",
       "      <td>2.75</td>\n",
       "      <td>58.0</td>\n",
       "      <td>63.3</td>\n",
       "      <td>335</td>\n",
       "      <td>363.81</td>\n",
       "    </tr>\n",
       "    <tr>\n",
       "      <th>...</th>\n",
       "      <td>...</td>\n",
       "      <td>...</td>\n",
       "      <td>...</td>\n",
       "      <td>...</td>\n",
       "      <td>...</td>\n",
       "      <td>...</td>\n",
       "      <td>...</td>\n",
       "      <td>...</td>\n",
       "    </tr>\n",
       "    <tr>\n",
       "      <th>53789</th>\n",
       "      <td>0.72</td>\n",
       "      <td>5.75</td>\n",
       "      <td>5.76</td>\n",
       "      <td>3.50</td>\n",
       "      <td>57.0</td>\n",
       "      <td>60.8</td>\n",
       "      <td>2757</td>\n",
       "      <td>2994.10</td>\n",
       "    </tr>\n",
       "    <tr>\n",
       "      <th>53790</th>\n",
       "      <td>0.72</td>\n",
       "      <td>5.69</td>\n",
       "      <td>5.75</td>\n",
       "      <td>3.61</td>\n",
       "      <td>55.0</td>\n",
       "      <td>63.1</td>\n",
       "      <td>2757</td>\n",
       "      <td>2994.10</td>\n",
       "    </tr>\n",
       "    <tr>\n",
       "      <th>53791</th>\n",
       "      <td>0.70</td>\n",
       "      <td>5.66</td>\n",
       "      <td>5.68</td>\n",
       "      <td>3.56</td>\n",
       "      <td>60.0</td>\n",
       "      <td>62.8</td>\n",
       "      <td>2757</td>\n",
       "      <td>2994.10</td>\n",
       "    </tr>\n",
       "    <tr>\n",
       "      <th>53792</th>\n",
       "      <td>0.86</td>\n",
       "      <td>6.15</td>\n",
       "      <td>6.12</td>\n",
       "      <td>3.74</td>\n",
       "      <td>58.0</td>\n",
       "      <td>61.0</td>\n",
       "      <td>2757</td>\n",
       "      <td>2994.10</td>\n",
       "    </tr>\n",
       "    <tr>\n",
       "      <th>53793</th>\n",
       "      <td>0.75</td>\n",
       "      <td>5.83</td>\n",
       "      <td>5.87</td>\n",
       "      <td>3.64</td>\n",
       "      <td>55.0</td>\n",
       "      <td>62.2</td>\n",
       "      <td>2757</td>\n",
       "      <td>2994.10</td>\n",
       "    </tr>\n",
       "  </tbody>\n",
       "</table>\n",
       "<p>53794 rows × 8 columns</p>\n",
       "</div>"
      ],
      "text/plain": [
       "       Carat  Crown Height (mm)  Girdle Diameter (mm)  Pavillion Depth (mm)  \\\n",
       "0       0.23               3.95                  3.98                  2.43   \n",
       "1       0.21               3.89                  3.84                  2.31   \n",
       "2       0.23               4.05                  4.07                  2.31   \n",
       "3       0.29               4.20                  4.23                  2.63   \n",
       "4       0.31               4.34                  4.35                  2.75   \n",
       "...      ...                ...                   ...                   ...   \n",
       "53789   0.72               5.75                  5.76                  3.50   \n",
       "53790   0.72               5.69                  5.75                  3.61   \n",
       "53791   0.70               5.66                  5.68                  3.56   \n",
       "53792   0.86               6.15                  6.12                  3.74   \n",
       "53793   0.75               5.83                  5.87                  3.64   \n",
       "\n",
       "       Table %  Total Depth %  Price  Price(2024)  \n",
       "0         55.0           61.5    326       354.04  \n",
       "1         61.0           59.8    326       354.04  \n",
       "2         65.0           56.9    327       355.12  \n",
       "3         58.0           62.4    334       362.72  \n",
       "4         58.0           63.3    335       363.81  \n",
       "...        ...            ...    ...          ...  \n",
       "53789     57.0           60.8   2757      2994.10  \n",
       "53790     55.0           63.1   2757      2994.10  \n",
       "53791     60.0           62.8   2757      2994.10  \n",
       "53792     58.0           61.0   2757      2994.10  \n",
       "53793     55.0           62.2   2757      2994.10  \n",
       "\n",
       "[53794 rows x 8 columns]"
      ]
     },
     "execution_count": 17,
     "metadata": {},
     "output_type": "execute_result"
    }
   ],
   "source": [
    "# Create a categorical dataset\n",
    "diamonds_num_df = diamonds_df[numericalColumns_list]\n",
    "\n",
    "# Verify the data\n",
    "diamonds_num_df"
   ]
  },
  {
   "cell_type": "markdown",
   "id": "6a6e40cb-182a-40e3-a12e-98b244d41c0d",
   "metadata": {},
   "source": [
    "### CENTRAL TENDENCY"
   ]
  },
  {
   "cell_type": "markdown",
   "id": "e4260ecf-bcfc-4b95-b53e-d2ef1775afef",
   "metadata": {},
   "source": [
    "The numerical values found in this dataset are all continuous in nature. Therefore; the mean, median, and mode can be extracted from each numerical feature.\n",
    "\n",
    "These scripts will help visualize numerical features."
   ]
  },
  {
   "cell_type": "code",
   "execution_count": 18,
   "id": "b404e409-cae2-4761-a4f1-1aaae7159a81",
   "metadata": {},
   "outputs": [],
   "source": [
    "# Create an interactive widget to help in graphing\n",
    "numericalFeatures_widget = widgets.Dropdown(\n",
    "    options = numericalColumns_list,\n",
    "    value = numericalColumns_list[0],\n",
    "    description = 'Feature:',\n",
    "    disabled = False,\n",
    ")"
   ]
  },
  {
   "cell_type": "code",
   "execution_count": 19,
   "id": "da726b14-fa54-46f7-8a60-03ec5d5c1b10",
   "metadata": {},
   "outputs": [],
   "source": [
    "# Create a list of marginals\n",
    "marginals_list = [\n",
    "    None,\n",
    "    'box',\n",
    "    'violin',\n",
    "    'rug'\n",
    "]"
   ]
  },
  {
   "cell_type": "code",
   "execution_count": 20,
   "id": "ff31618d-7de5-46b9-8a9a-9d4ec98659e2",
   "metadata": {},
   "outputs": [],
   "source": [
    "# Create an interactive widget to help in graphing\n",
    "marginals_widget = widgets.ToggleButtons(\n",
    "    options = marginals_list,\n",
    "    value = marginals_list[0],\n",
    "    button_style = '', # '', 'success', 'info', 'warning', 'danger'\n",
    "    description = 'Marginals:',\n",
    "    disabled = False,\n",
    "    tooltips = ['Do not dispaly any marignals', 'Display a box plot', 'Dispaly a violin plot', 'Display a rug plot'],\n",
    ")"
   ]
  },
  {
   "cell_type": "code",
   "execution_count": 21,
   "id": "a8113e6d-3b56-46fa-a861-76225c022e80",
   "metadata": {},
   "outputs": [
    {
     "data": {
      "application/vnd.jupyter.widget-view+json": {
       "model_id": "014e237efc944c1a94d4cb18c9ba4039",
       "version_major": 2,
       "version_minor": 0
      },
      "text/plain": [
       "interactive(children=(ToggleButtons(description='Marginals:', options=(None, 'box', 'violin', 'rug'), tooltips…"
      ]
     },
     "metadata": {},
     "output_type": "display_data"
    }
   ],
   "source": [
    "# Create an interactive graph to help visualize numerical data\n",
    "@widgets.interact(\n",
    "    numericalFeature = numericalFeatures_widget,\n",
    "    marginalFeature = marginals_widget\n",
    ")\n",
    "def numercialInspector(marginalFeature, numericalFeature):\n",
    "    \n",
    "    # Create a histogram object\n",
    "    fig = px.histogram(\n",
    "        diamonds_num_df, \n",
    "        x = numericalFeature,\n",
    "        marginal = marginalFeature,\n",
    "        color_discrete_sequence = px.colors.qualitative.Dark24,\n",
    "        template = \"plotly_white\",\n",
    "    )\n",
    "\n",
    "    # Used to adjust the annotation (text positioning) when using a marginal plot \n",
    "    if marginalFeature != None:\n",
    "        yOffset = 0.18\n",
    "    else:\n",
    "        yOffset = 0\n",
    "    \n",
    "    # Calculate the measures of central tendency for numerical features\n",
    "    meanCalc = diamonds_num_df[numericalFeature].mean()\n",
    "    medianCalc = diamonds_num_df[numericalFeature].median()\n",
    "    modeCalc = diamonds_num_df[numericalFeature].mode()[0]\n",
    "    \n",
    "    # Bundle values in tuples\n",
    "    centralTendancyName_tuple = ('Mean', 'Median', 'Mode')\n",
    "    centralTendancy_tuple = (meanCalc, medianCalc, modeCalc)\n",
    "    \n",
    "    # Generate vertical lines and annotations\n",
    "    for name, calc in zip(centralTendancyName_tuple, centralTendancy_tuple):\n",
    "        \n",
    "        # Used to customize the annotations and vertical lines\n",
    "        match name:\n",
    "            case 'Mean':\n",
    "                tendencyColor = 'darkred'\n",
    "                yCord = 0.97\n",
    "                textString = f'<b>{name}</b>: {meanCalc:0.2f}'\n",
    "            case 'Median':\n",
    "                tendencyColor = 'darkgreen'\n",
    "                yCord = 0.93\n",
    "                textString = f'<b>{name}</b>: {medianCalc}'\n",
    "            case 'Mode':\n",
    "                tendencyColor = 'black'\n",
    "                yCord = 0.89\n",
    "                textString = f'<b>{name}</b>: {modeCalc}'\n",
    "    \n",
    "        # Add some vertical lines to show the mean, median, mode on the histogram\n",
    "        fig.add_vline(\n",
    "            x = calc,\n",
    "            line_width = 2,\n",
    "            line_dash = 'dot',\n",
    "            line_color = tendencyColor,\n",
    "        )\n",
    "\n",
    "        # Add the annotation text using paper reference. See:\n",
    "        # https://stackoverflow.com/questions/76046269/how-to-align-annotation-to-the-edge-of-whole-figure-in-plotly\n",
    "        fig.add_annotation(\n",
    "            text = textString,\n",
    "            font = {\n",
    "                'size' : 13,\n",
    "                'family' : 'Times New Roman',\n",
    "                'color': tendencyColor ,\n",
    "            },\n",
    "            xref = \"paper\", \n",
    "            yref = \"paper\",\n",
    "            x = 0.90, \n",
    "            y = yCord - yOffset, \n",
    "            showarrow = False\n",
    "        )\n",
    "    \n",
    "    # Create a graph title\n",
    "    graphTitle = f\"Measures of central tendency for {numericalFeature}\"\n",
    "\n",
    "    # Update the graph\n",
    "    fig.update_layout(\n",
    "        title_text = graphTitle,\n",
    "        yaxis_title_text = 'Total Counts', # yaxis label\n",
    "        height = 600,\n",
    "        width = 1200\n",
    "    )\n",
    "    \n",
    "    # Display the results\n",
    "    return fig.show()    "
   ]
  },
  {
   "cell_type": "markdown",
   "id": "1e9cb7e1-f940-4595-bfd0-c376af1e3805",
   "metadata": {},
   "source": [
    "### SUMMARY"
   ]
  },
  {
   "cell_type": "markdown",
   "id": "e0f0066a-2204-437e-9153-ffc0c801c004",
   "metadata": {},
   "source": [
    "<div class=\"alert alert-warning\" role=\"alert\">\n",
    "  <h3 class=\"alert-heading\">NOTE:</h3>\n",
    "  <p>There appears to be several outliers in this dataset that will need to be addressed. </p>\n",
    "</div>\n",
    "\n",
    "The summary of the mean, median, and mode for these numerical features is summarized using the below scripts:"
   ]
  },
  {
   "cell_type": "code",
   "execution_count": 22,
   "id": "2e5cbf98-770b-45d9-ac14-4c61b05d4ec9",
   "metadata": {},
   "outputs": [
    {
     "data": {
      "text/html": [
       "<div>\n",
       "<style scoped>\n",
       "    .dataframe tbody tr th:only-of-type {\n",
       "        vertical-align: middle;\n",
       "    }\n",
       "\n",
       "    .dataframe tbody tr th {\n",
       "        vertical-align: top;\n",
       "    }\n",
       "\n",
       "    .dataframe thead th {\n",
       "        text-align: right;\n",
       "    }\n",
       "</style>\n",
       "<table border=\"1\" class=\"dataframe\">\n",
       "  <thead>\n",
       "    <tr style=\"text-align: right;\">\n",
       "      <th></th>\n",
       "      <th>Feature</th>\n",
       "      <th>Mean</th>\n",
       "      <th>Median</th>\n",
       "      <th>Mode</th>\n",
       "    </tr>\n",
       "  </thead>\n",
       "  <tbody>\n",
       "    <tr>\n",
       "      <th>0</th>\n",
       "      <td>Carat</td>\n",
       "      <td>0.80</td>\n",
       "      <td>0.70</td>\n",
       "      <td>0.30</td>\n",
       "    </tr>\n",
       "    <tr>\n",
       "      <th>1</th>\n",
       "      <td>Crown Height (mm)</td>\n",
       "      <td>5.73</td>\n",
       "      <td>5.70</td>\n",
       "      <td>4.37</td>\n",
       "    </tr>\n",
       "    <tr>\n",
       "      <th>2</th>\n",
       "      <td>Girdle Diameter (mm)</td>\n",
       "      <td>5.73</td>\n",
       "      <td>5.71</td>\n",
       "      <td>4.34</td>\n",
       "    </tr>\n",
       "    <tr>\n",
       "      <th>3</th>\n",
       "      <td>Pavillion Depth (mm)</td>\n",
       "      <td>3.54</td>\n",
       "      <td>3.53</td>\n",
       "      <td>2.70</td>\n",
       "    </tr>\n",
       "    <tr>\n",
       "      <th>4</th>\n",
       "      <td>Table %</td>\n",
       "      <td>57.46</td>\n",
       "      <td>57.00</td>\n",
       "      <td>56.00</td>\n",
       "    </tr>\n",
       "    <tr>\n",
       "      <th>5</th>\n",
       "      <td>Total Depth %</td>\n",
       "      <td>61.75</td>\n",
       "      <td>61.80</td>\n",
       "      <td>62.00</td>\n",
       "    </tr>\n",
       "    <tr>\n",
       "      <th>6</th>\n",
       "      <td>Price</td>\n",
       "      <td>3933.07</td>\n",
       "      <td>2401.00</td>\n",
       "      <td>605.00</td>\n",
       "    </tr>\n",
       "    <tr>\n",
       "      <th>7</th>\n",
       "      <td>Price(2024)</td>\n",
       "      <td>4271.31</td>\n",
       "      <td>2607.49</td>\n",
       "      <td>657.03</td>\n",
       "    </tr>\n",
       "  </tbody>\n",
       "</table>\n",
       "</div>"
      ],
      "text/plain": [
       "                Feature     Mean   Median    Mode\n",
       "0                 Carat     0.80     0.70    0.30\n",
       "1     Crown Height (mm)     5.73     5.70    4.37\n",
       "2  Girdle Diameter (mm)     5.73     5.71    4.34\n",
       "3  Pavillion Depth (mm)     3.54     3.53    2.70\n",
       "4               Table %    57.46    57.00   56.00\n",
       "5         Total Depth %    61.75    61.80   62.00\n",
       "6                 Price  3933.07  2401.00  605.00\n",
       "7           Price(2024)  4271.31  2607.49  657.03"
      ]
     },
     "execution_count": 22,
     "metadata": {},
     "output_type": "execute_result"
    }
   ],
   "source": [
    "# Create a list to store dictionary values\n",
    "numericalSummary_list = []\n",
    "\n",
    "# Create a summary of the mode values for categorical features\n",
    "for numerical in numericalColumns_list:\n",
    "    \n",
    "    # Calculate the measures of central tendency for numerical features\n",
    "    meanCalc = round(diamonds_num_df[numerical].mean(), 2)\n",
    "    medianCalc = diamonds_num_df[numerical].median()\n",
    "    modeCalc = diamonds_num_df[numerical].mode()[0]\n",
    "\n",
    "    # Create the dictionary\n",
    "    dictionary = {\n",
    "        'Feature' : numerical,\n",
    "        'Mean' : meanCalc,\n",
    "        'Median' : medianCalc,\n",
    "        'Mode' : modeCalc\n",
    "    }\n",
    "    \n",
    "    # Append the dictionary to the dictionary list\n",
    "    numericalSummary_list.append(dictionary)\n",
    "\n",
    "# Create a pandas dataframe to display the results as a table\n",
    "numericalSummary_df = pd.DataFrame(numericalSummary_list)\n",
    "\n",
    "# Display the summary table\n",
    "numericalSummary_df"
   ]
  },
  {
   "cell_type": "markdown",
   "id": "5e37e07d-8f50-429a-ab21-ddb94ad8e32c",
   "metadata": {},
   "source": [
    "# MEASURES OF DISPERSION"
   ]
  },
  {
   "cell_type": "markdown",
   "id": "f5ab1dfe-870b-4b99-96c7-a53cfc83c81f",
   "metadata": {},
   "source": [
    "The measures of dispersion are statistical metrics that quantify the spread or variability of a dataset. They help quantify how much the individual data points deviate from the central tendency (mean or median) of the dataset. The higher the dispersion, the further my data points are scattered from the center.\n",
    "\n",
    "These measures will help us understand the shape and distribution of the data, identify outliers, and assess data quality. \n",
    "\n",
    "There are different measures of dispersion, for categorical vs. numerical data:\n",
    "\n",
    "**Categorical**:\n",
    "\n",
    "1. **Frequency Distribution**: The total count of each category in a feature.\n",
    "2. **Proportion**: The percentage break-down of each each category in a feature.\n",
    "3. **Diversity Index**:  The statistical measure that quantifies the evenness of the distribution across categories. A higher diversity index indicates a more balanced distribution, where no single category has a significantly higher frequency.\n",
    "\n",
    "**Numerical**:\n",
    "\n",
    "1. **Range**: The simplest measure of dispersion, calculated as the difference between the maximum and minimum values in the dataset. While easy to calculate, the range doesn't account for the distribution of values within the dataset.\n",
    "2. **Variance**: The average of the squared differences between each data point and the mean of the dataset. Variance gives a more comprehensive understanding of the spread, but since it's in squared units, it may not be as interpretable as other measures.\n",
    "3. **Standard Deviation**: The square root of the variance. Standard deviation is widely used due to its intuitive interpretation and its measurement in the same units as the original data.\n",
    "4. **Interquartile Range (IQR)**: The difference between the third quartile (Q3) and the first quartile (Q1) of the dataset. IQR is robust against outliers and provides a measure of spread that focuses on the middle 50% of the data.\n",
    "5. **Mean Absolute Deviation (MAD)**: The average of the absolute differences between each data point and the mean of the dataset. MAD is more robust to outliers compared to standard deviation, as it does not square the differences."
   ]
  },
  {
   "cell_type": "markdown",
   "id": "95f82915-458c-413b-b7c6-2f89bb9877eb",
   "metadata": {},
   "source": [
    "## CATEGORICAL DATA"
   ]
  },
  {
   "cell_type": "markdown",
   "id": "bc1206cd-9f2f-49bb-b8ae-2d2956f596dc",
   "metadata": {},
   "source": [
    "Since this dataset has already been split between categorical and numerical features, we can use the same categorical dataset that was previously created:"
   ]
  },
  {
   "cell_type": "markdown",
   "id": "80ce78c3-2aa2-481c-8f26-980f2fbc1d60",
   "metadata": {},
   "source": [
    "### FREQUENCY DISTRIBUTION"
   ]
  },
  {
   "cell_type": "markdown",
   "id": "d79b1d86-0123-4d2d-ba8d-a6435a8c023f",
   "metadata": {},
   "source": [
    "Frequency distribution involves understanding the total counts of each category in the dataset. The output is a chart that visually depicts this these counts. \n",
    "\n",
    "The following callback function will display the frequency counts of the categorical feature."
   ]
  },
  {
   "cell_type": "code",
   "execution_count": 23,
   "id": "78bee0b9-1bb0-447a-8534-dbacab0271f1",
   "metadata": {},
   "outputs": [],
   "source": [
    "# Create an interactive widget to help in graphing\n",
    "frequenceDistribution_widget = widgets.Dropdown(\n",
    "    options = categoricalColumns_list,\n",
    "    value = categoricalColumns_list[0],\n",
    "    description = 'Feature:',\n",
    "    disabled = False,\n",
    ")"
   ]
  },
  {
   "cell_type": "code",
   "execution_count": 24,
   "id": "f4c126f1-3823-4762-98bd-09a42c22df47",
   "metadata": {},
   "outputs": [
    {
     "data": {
      "application/vnd.jupyter.widget-view+json": {
       "model_id": "6e90cef9b1fa452da99ab8f30c5d92a8",
       "version_major": 2,
       "version_minor": 0
      },
      "text/plain": [
       "interactive(children=(Dropdown(description='Feature:', options=('Diamond Type', 'Cut', 'Color', 'Color Grades'…"
      ]
     },
     "metadata": {},
     "output_type": "display_data"
    }
   ],
   "source": [
    "# Create an interactive graph to help visualize frequency counts\n",
    "@widgets.interact(\n",
    "    categoricalFeature = frequenceDistribution_widget\n",
    ")\n",
    "def categoryFrequencyInspector(categoricalFeature):\n",
    "    # Create a histogram object\n",
    "    fig = px.histogram(\n",
    "        diamonds_cat_df,\n",
    "        x = categoricalFeature,\n",
    "        category_orders = sortOrder_dict,\n",
    "        color = categoricalFeature,\n",
    "        color_discrete_sequence = px.colors.qualitative.Dark24,\n",
    "        template = \"plotly_white\",\n",
    "        text_auto = True\n",
    "    )\n",
    "\n",
    "    # Create a graph title\n",
    "    graphTitle = f\"Frequency counts: {categoricalFeature}\"\n",
    "\n",
    "    # Update the graph\n",
    "    fig.update_layout(\n",
    "        title_text = graphTitle,\n",
    "        yaxis_title_text = 'Total Counts', # yaxis label\n",
    "        height = 600,\n",
    "        width = 800\n",
    "    )\n",
    "\n",
    "    # Display the results\n",
    "    return fig.show()"
   ]
  },
  {
   "cell_type": "markdown",
   "id": "4ef79802-2306-4fdc-ab44-92ef8bba326c",
   "metadata": {},
   "source": [
    "### PROPORTION"
   ]
  },
  {
   "cell_type": "markdown",
   "id": "7bae0a25-6d78-40b5-84a2-9f77643393c1",
   "metadata": {},
   "source": [
    "Proportion analysis helps understand the dataset in terms of percent (%) break-downs. \n",
    "\n",
    "The following callback function will display the proportion of the categorical feature."
   ]
  },
  {
   "cell_type": "code",
   "execution_count": 25,
   "id": "f7c2192c-c24c-4a51-8119-b8de732b83b5",
   "metadata": {},
   "outputs": [],
   "source": [
    "# Create an interactive widget to help in graphing\n",
    "proportionDistribution_widget = widgets.Dropdown(\n",
    "    options = categoricalColumns_list,\n",
    "    value = categoricalColumns_list[0],\n",
    "    description = 'Feature:',\n",
    "    disabled = False,\n",
    ")"
   ]
  },
  {
   "cell_type": "code",
   "execution_count": 32,
   "id": "7d33e736-bc13-47f7-88cf-6c75b8d95eec",
   "metadata": {},
   "outputs": [
    {
     "data": {
      "application/vnd.jupyter.widget-view+json": {
       "model_id": "b6371792afcf447a8136edba7f36e322",
       "version_major": 2,
       "version_minor": 0
      },
      "text/plain": [
       "interactive(children=(Dropdown(description='Feature:', options=('Diamond Type', 'Cut', 'Color', 'Color Grades'…"
      ]
     },
     "metadata": {},
     "output_type": "display_data"
    }
   ],
   "source": [
    "@widgets.interact(\n",
    "    feature = proportionDistribution_widget\n",
    ")\n",
    "def proportionFunc(feature):\n",
    "    # Number of records in the dataset\n",
    "    records = diamonds_cat_df.shape[0]\n",
    "    \n",
    "    # Create a dataset to inspect \n",
    "    inspector_pd_series = diamonds_cat_df[feature].value_counts()\n",
    "\n",
    "    # Create lists to store values that will be used in graphing\n",
    "    proportions_list = []\n",
    "    colors_list = []\n",
    "\n",
    "    # Extract values \n",
    "    for idx in range(len(inspector_pd_series.values.tolist())):\n",
    "        # Extract the observation count (value) of the chosen feature\n",
    "        value = inspector_pd_series.values.tolist()[idx]\n",
    "        # Calculate the proportion\n",
    "        proportion = round((value / records) * 100, 2)\n",
    "        # Add to list\n",
    "        proportions_list.append(proportion)\n",
    "        # Assign a color value\n",
    "        colorValue = px.colors.qualitative.Dark24[idx]\n",
    "        # Add the color to the list\n",
    "        colors_list.append(colorValue)\n",
    "\n",
    "    # Create a figure object\n",
    "    fig = go.Figure(\n",
    "        data = [\n",
    "            go.Bar(\n",
    "                x = inspector_pd_series.keys().tolist(),\n",
    "                y = proportions_list,\n",
    "                texttemplate = '%{y}%',\n",
    "                marker_color = colors_list,\n",
    "            )\n",
    "        ]\n",
    "    )\n",
    "\n",
    "    # Display the text on the bars on top\n",
    "    fig.update_traces(\n",
    "        textposition = 'outside'\n",
    "    )\n",
    "\n",
    "    # Update the layout and title\n",
    "    fig.update_layout(\n",
    "        title = f'% Break-Out of: {feature}',\n",
    "        template = \"plotly_white\",\n",
    "        xaxis_title_text = f'{feature}', # xaxis label\n",
    "        yaxis_title_text = 'Percentages %', # yaxis label\n",
    "        xaxis = {\n",
    "            'categoryorder' : 'total descending'\n",
    "        },\n",
    "        height = 600,\n",
    "        width = 800,\n",
    "        \n",
    "    )\n",
    "    \n",
    "    return fig.show()"
   ]
  },
  {
   "cell_type": "markdown",
   "id": "21b948c8-23e2-4bde-a49a-1caf3b2d414e",
   "metadata": {},
   "source": [
    "### DIVERSITY INDEX"
   ]
  },
  {
   "cell_type": "markdown",
   "id": "6f27b92d-4051-46f4-958f-4d0bfe53cfa2",
   "metadata": {},
   "source": [
    "Diversity indices are measures that reflect the degree of diversity or variety within a dataset. It allows you to quantify if a dataset is balanced or imbalanced, based on a calculation.\n",
    "\n",
    "The two most commonly used diversity indices are:\n",
    "\n",
    "1. **Shannon Diversity Index (H'):**\n",
    "\n",
    "   - This index accounts for both richness and evenness.\n",
    "   - It ranges from 0 (low diversity - one dominant category) to a theoretical maximum value (high diversity - all categories equally abundant).\n",
    "   - It's calculated using the formula: $H' = -\\Sigma(\\pi * ln(\\pi))$, where $\\pi$ is the proportion of individuals belonging to the ith category.\n",
    "\n",
    "2. **Simpson Diversity Index (D):**\n",
    "\n",
    "   - This index focuses on the probability of picking two individuals from different categories.\n",
    "   - It ranges from 0 (low diversity - one dominant category) to 1 (high diversity - all categories equally abundant).\n",
    "   - It's calculated using the formula: $D = 1 - \\Sigma(\\pi^2)$, where $\\pi$ is the proportion of individuals belonging to the ith category.\n",
    "\n",
    "**Choosing the Best Diversity Index**\n",
    "\n",
    "There's no single \"best\" diversity index for categorical data.  The most suitable choice depends on the specific question you're trying to answer and the characteristics of your data. Here are some factors to consider:\n",
    "\n",
    "* **Focus on richness vs evenness:** If you're primarily interested in the number of categories, Shannon's index might be more appropriate. However, if evenness is crucial, Simpson's index might be a better choice. \n",
    "* **Data interpretation:**  Consider how easily interpretable the index's output is for your audience. Shannon's index uses natural logarithms, while Simpson's index is easier to grasp intuitively (0-1 scale).\n",
    "* **Dominant categories:** If you expect a high degree of dominance (one or few categories with significantly higher counts), Simpson's index might be more sensitive to this and provide a clearer picture.\n",
    "\n",
    "\n",
    "<div class=\"alert alert-warning\" role=\"alert\">\n",
    "  <h3 class=\"alert-heading\">NOTE:</h3>\n",
    "  <p> There are only a few categories in this dataset. Evenness is not a major concern. Frequency and proportion analysis is adequate.</p>\n",
    "</div>"
   ]
  },
  {
   "cell_type": "markdown",
   "id": "4f301975-3ed2-4e44-9e10-0c4b059d1bcb",
   "metadata": {},
   "source": [
    "## NUMERICAL DATA"
   ]
  },
  {
   "cell_type": "markdown",
   "id": "8528b3b8-3b76-4b3a-9d5b-c9cf72a955ff",
   "metadata": {},
   "source": [
    "Since this dataset has already been split between categorical and numerical features, we can use the same numerical dataset that was previously created:"
   ]
  },
  {
   "cell_type": "markdown",
   "id": "e9e3de24-3bf1-4dcf-a2d3-9c423334915a",
   "metadata": {},
   "source": [
    "### RANGE"
   ]
  },
  {
   "cell_type": "markdown",
   "id": "e48ce781-25ce-4c04-9fe4-f32d90cebfa6",
   "metadata": {},
   "source": [
    "The range helps us in the following way:\n",
    "\n",
    "1. **Understand the spread of the data:** The range gives you a basic idea of how spread out the data points are for a particular numerical feature. It's simply the difference between the highest and lowest values. While it doesn't take into account the distribution of the data, it does give you a quick sense of the overall spread.\n",
    "\n",
    "2. **Identify potential outliers:** The range can help identify potential outliers or anomalies in the data. If the range is very large, it may indicate the presence of outliers or errors in the data.\n",
    "\n",
    "The following script will calculate the range for each feature found in this dataset:"
   ]
  },
  {
   "cell_type": "code",
   "execution_count": 33,
   "id": "73387691-a0ab-4f49-9346-89650e63931b",
   "metadata": {},
   "outputs": [
    {
     "data": {
      "text/html": [
       "<div>\n",
       "<style scoped>\n",
       "    .dataframe tbody tr th:only-of-type {\n",
       "        vertical-align: middle;\n",
       "    }\n",
       "\n",
       "    .dataframe tbody tr th {\n",
       "        vertical-align: top;\n",
       "    }\n",
       "\n",
       "    .dataframe thead th {\n",
       "        text-align: right;\n",
       "    }\n",
       "</style>\n",
       "<table border=\"1\" class=\"dataframe\">\n",
       "  <thead>\n",
       "    <tr style=\"text-align: right;\">\n",
       "      <th></th>\n",
       "      <th>Feature</th>\n",
       "      <th>Min</th>\n",
       "      <th>Max</th>\n",
       "      <th>Range</th>\n",
       "    </tr>\n",
       "  </thead>\n",
       "  <tbody>\n",
       "    <tr>\n",
       "      <th>0</th>\n",
       "      <td>Carat</td>\n",
       "      <td>0.20</td>\n",
       "      <td>5.01</td>\n",
       "      <td>4.81</td>\n",
       "    </tr>\n",
       "    <tr>\n",
       "      <th>1</th>\n",
       "      <td>Crown Height (mm)</td>\n",
       "      <td>0.00</td>\n",
       "      <td>10.74</td>\n",
       "      <td>10.74</td>\n",
       "    </tr>\n",
       "    <tr>\n",
       "      <th>2</th>\n",
       "      <td>Girdle Diameter (mm)</td>\n",
       "      <td>0.00</td>\n",
       "      <td>58.90</td>\n",
       "      <td>58.90</td>\n",
       "    </tr>\n",
       "    <tr>\n",
       "      <th>3</th>\n",
       "      <td>Pavillion Depth (mm)</td>\n",
       "      <td>0.00</td>\n",
       "      <td>31.80</td>\n",
       "      <td>31.80</td>\n",
       "    </tr>\n",
       "    <tr>\n",
       "      <th>4</th>\n",
       "      <td>Table %</td>\n",
       "      <td>43.00</td>\n",
       "      <td>95.00</td>\n",
       "      <td>52.00</td>\n",
       "    </tr>\n",
       "    <tr>\n",
       "      <th>5</th>\n",
       "      <td>Total Depth %</td>\n",
       "      <td>43.00</td>\n",
       "      <td>79.00</td>\n",
       "      <td>36.00</td>\n",
       "    </tr>\n",
       "    <tr>\n",
       "      <th>6</th>\n",
       "      <td>Price</td>\n",
       "      <td>326.00</td>\n",
       "      <td>18823.00</td>\n",
       "      <td>18497.00</td>\n",
       "    </tr>\n",
       "    <tr>\n",
       "      <th>7</th>\n",
       "      <td>Price(2024)</td>\n",
       "      <td>354.04</td>\n",
       "      <td>20441.78</td>\n",
       "      <td>20087.74</td>\n",
       "    </tr>\n",
       "  </tbody>\n",
       "</table>\n",
       "</div>"
      ],
      "text/plain": [
       "                Feature     Min       Max     Range\n",
       "0                 Carat    0.20      5.01      4.81\n",
       "1     Crown Height (mm)    0.00     10.74     10.74\n",
       "2  Girdle Diameter (mm)    0.00     58.90     58.90\n",
       "3  Pavillion Depth (mm)    0.00     31.80     31.80\n",
       "4               Table %   43.00     95.00     52.00\n",
       "5         Total Depth %   43.00     79.00     36.00\n",
       "6                 Price  326.00  18823.00  18497.00\n",
       "7           Price(2024)  354.04  20441.78  20087.74"
      ]
     },
     "execution_count": 33,
     "metadata": {},
     "output_type": "execute_result"
    }
   ],
   "source": [
    "# Create a list to store dictionary values\n",
    "rangeSummary_list = []\n",
    "\n",
    "# Create a summary of the mode values for categorical features\n",
    "for numerical in numericalColumns_list:\n",
    "    \n",
    "    # Extract min / max values\n",
    "    minValue = diamonds_num_df[numerical].min()\n",
    "    maxValue = diamonds_num_df[numerical].max()\n",
    "\n",
    "    # Calculate the range\n",
    "    rangeValue = maxValue - minValue\n",
    "\n",
    "    # Create the dictionary\n",
    "    dictionary = {\n",
    "        'Feature' : numerical,\n",
    "        'Min' : minValue,\n",
    "        'Max' : maxValue,\n",
    "        'Range' : rangeValue\n",
    "    }\n",
    "    \n",
    "    # Append the dictionary to the dictionary list\n",
    "    rangeSummary_list.append(dictionary)\n",
    "\n",
    "# Create a pandas dataframe to display the results as a table\n",
    "rangeSummary_df = pd.DataFrame(rangeSummary_list)\n",
    "\n",
    "# Display the summary table\n",
    "rangeSummary_df"
   ]
  },
  {
   "cell_type": "code",
   "execution_count": 38,
   "id": "b6233cf9-6784-45d0-b1ee-c6549c37655a",
   "metadata": {},
   "outputs": [
    {
     "data": {
      "text/html": [
       "<div>\n",
       "<style scoped>\n",
       "    .dataframe tbody tr th:only-of-type {\n",
       "        vertical-align: middle;\n",
       "    }\n",
       "\n",
       "    .dataframe tbody tr th {\n",
       "        vertical-align: top;\n",
       "    }\n",
       "\n",
       "    .dataframe thead th {\n",
       "        text-align: right;\n",
       "    }\n",
       "</style>\n",
       "<table border=\"1\" class=\"dataframe\">\n",
       "  <thead>\n",
       "    <tr style=\"text-align: right;\">\n",
       "      <th></th>\n",
       "      <th>Feature</th>\n",
       "      <th>Min</th>\n",
       "      <th>Max</th>\n",
       "      <th>Range</th>\n",
       "    </tr>\n",
       "  </thead>\n",
       "  <tbody>\n",
       "    <tr>\n",
       "      <th>0</th>\n",
       "      <td>Carat</td>\n",
       "      <td>0.2</td>\n",
       "      <td>5.01</td>\n",
       "      <td>4.81</td>\n",
       "    </tr>\n",
       "  </tbody>\n",
       "</table>\n",
       "</div>"
      ],
      "text/plain": [
       "  Feature  Min   Max  Range\n",
       "0   Carat  0.2  5.01   4.81"
      ]
     },
     "execution_count": 38,
     "metadata": {},
     "output_type": "execute_result"
    }
   ],
   "source": [
    "test = rangeSummary_df[rangeSummary_df['Feature'] == 'Carat']\n",
    "\n",
    "test"
   ]
  },
  {
   "cell_type": "code",
   "execution_count": 43,
   "id": "6666501e-564d-46fd-83d8-3e608d25309c",
   "metadata": {},
   "outputs": [
    {
     "data": {
      "text/plain": [
       "0    0.2\n",
       "Name: Min, dtype: float64"
      ]
     },
     "execution_count": 43,
     "metadata": {},
     "output_type": "execute_result"
    }
   ],
   "source": [
    "t = test.Min\n",
    "\n",
    "t"
   ]
  },
  {
   "cell_type": "code",
   "execution_count": 44,
   "id": "dfb8ee2b-0c43-4fb1-8482-3329d32ee209",
   "metadata": {},
   "outputs": [],
   "source": [
    "# Create an interactive widget to help in graphing\n",
    "rangeFeatures_widget = widgets.Dropdown(\n",
    "    options = numericalColumns_list,\n",
    "    value = numericalColumns_list[0],\n",
    "    description = 'Feature:',\n",
    "    disabled = False,\n",
    ")"
   ]
  },
  {
   "cell_type": "code",
   "execution_count": 45,
   "id": "714e5d3a-1c68-4664-b0e0-4160aa41df95",
   "metadata": {},
   "outputs": [],
   "source": [
    "# Create an interactive widget to help in graphing\n",
    "rangeMarginals_widget = widgets.ToggleButtons(\n",
    "    options = marginals_list,\n",
    "    value = marginals_list[0],\n",
    "    button_style = '', # '', 'success', 'info', 'warning', 'danger'\n",
    "    description = 'Marginals:',\n",
    "    disabled = False,\n",
    "    tooltips = ['Do not dispaly any marignals', 'Display a box plot', 'Dispaly a violin plot', 'Display a rug plot'],\n",
    ")"
   ]
  },
  {
   "cell_type": "code",
   "execution_count": null,
   "id": "bfa4881f-9bda-43bd-95b2-c237a54bc5f7",
   "metadata": {},
   "outputs": [],
   "source": []
  },
  {
   "cell_type": "code",
   "execution_count": 51,
   "id": "01e90c0f-be01-4418-855f-297ff67079d1",
   "metadata": {},
   "outputs": [
    {
     "data": {
      "application/vnd.jupyter.widget-view+json": {
       "model_id": "a3b394eadbdf4309819d1fd19455db1b",
       "version_major": 2,
       "version_minor": 0
      },
      "text/plain": [
       "interactive(children=(ToggleButtons(description='Marginals:', options=(None, 'box', 'violin', 'rug'), tooltips…"
      ]
     },
     "metadata": {},
     "output_type": "display_data"
    }
   ],
   "source": [
    "# Create an interactive graph to help visualize numerical data\n",
    "@widgets.interact(\n",
    "    numericalFeature = rangeFeatures_widget,\n",
    "    marginalFeature = rangeMarginals_widget\n",
    ")\n",
    "def rangeInspector(marginalFeature, numericalFeature):\n",
    "    \n",
    "    # Create a histogram object\n",
    "    fig = px.histogram(\n",
    "        diamonds_num_df, \n",
    "        x = numericalFeature,\n",
    "        marginal = marginalFeature,\n",
    "        color_discrete_sequence = px.colors.qualitative.Dark24,\n",
    "        template = \"plotly_white\",\n",
    "    )\n",
    "\n",
    "    # Used to adjust the annotation (text positioning) when using a marginal plot \n",
    "    if marginalFeature != None:\n",
    "        yOffset = 0.18\n",
    "    else:\n",
    "        yOffset = 0\n",
    "    \n",
    "    # Extract data\n",
    "    extractedData = rangeSummary_df[rangeSummary_df['Feature'] == numericalFeature]\n",
    "    # Extract min/max/range\n",
    "    minValue = extractedData.Min\n",
    "    maxValue = extractedData.Max\n",
    "    rangeValue = extractedData.Range\n",
    "    \n",
    "    # Bundle values in tuples\n",
    "    rangeName_tuple = ('Min', 'Max', 'Range')\n",
    "    range_tuple = (minValue, maxValue, rangeValue)\n",
    "    \n",
    "    # Generate vertical lines and annotations\n",
    "    for name, calc in zip(rangeName_tuple, range_tuple):\n",
    "        \n",
    "        # Used to customize the annotations and vertical lines\n",
    "        match name:\n",
    "            case 'Min':\n",
    "                tendencyColor = 'darkred'\n",
    "                yCord = 0.97\n",
    "                textString = f'<b>{name}</b>: {minValue}'\n",
    "            case 'Max':\n",
    "                tendencyColor = 'darkgreen'\n",
    "                yCord = 0.93\n",
    "                textString = f'<b>{name}</b>: {maxValue}'\n",
    "            case 'Range':\n",
    "                tendencyColor = 'black'\n",
    "                yCord = 0.89\n",
    "                textString = f'<b>{name}</b>: {rangeValue}'\n",
    "    \n",
    "        # Add some vertical lines to show the min, max, range value on the histogram\n",
    "        fig.add_vline(\n",
    "            x = calc,\n",
    "            line_width = 2,\n",
    "            line_dash = 'dot',\n",
    "            line_color = tendencyColor,\n",
    "        )\n",
    "\n",
    "        # Add the annotation text using paper reference. See:\n",
    "        # https://stackoverflow.com/questions/76046269/how-to-align-annotation-to-the-edge-of-whole-figure-in-plotly\n",
    "        fig.add_annotation(\n",
    "            text = textString,\n",
    "            font = {\n",
    "                'size' : 13,\n",
    "                'family' : 'Times New Roman',\n",
    "                'color': tendencyColor ,\n",
    "            },\n",
    "            xref = \"paper\", \n",
    "            yref = \"paper\",\n",
    "            x = 0.90, \n",
    "            y = yCord - yOffset, \n",
    "            showarrow = False\n",
    "        )\n",
    "    \n",
    "    # Create a graph title\n",
    "    graphTitle = f\"Measures of central tendency for {numericalFeature}\"\n",
    "\n",
    "    # Update the graph\n",
    "    fig.update_layout(\n",
    "        title_text = graphTitle,\n",
    "        yaxis_title_text = 'Total Counts', # yaxis label\n",
    "        height = 600,\n",
    "        width = 1200\n",
    "    )\n",
    "    \n",
    "    # Display the results\n",
    "    return fig.show()    "
   ]
  },
  {
   "cell_type": "code",
   "execution_count": null,
   "id": "d580a381-e75b-49cc-b722-7adb0f6a4040",
   "metadata": {},
   "outputs": [],
   "source": []
  },
  {
   "cell_type": "code",
   "execution_count": null,
   "id": "0e0127c1-0640-4461-b54c-fde9a7be6e0d",
   "metadata": {},
   "outputs": [],
   "source": []
  },
  {
   "cell_type": "code",
   "execution_count": 50,
   "id": "4684cfb3-1956-40ac-a977-4d70e4ebd24f",
   "metadata": {},
   "outputs": [
    {
     "ename": "KeyError",
     "evalue": "'Carat'",
     "output_type": "error",
     "traceback": [
      "\u001b[0;31m---------------------------------------------------------------------------\u001b[0m",
      "\u001b[0;31mKeyError\u001b[0m                                  Traceback (most recent call last)",
      "File \u001b[0;32m~/.virtualenvs/diamondsGTHB/lib/python3.11/site-packages/pandas/core/indexes/base.py:3802\u001b[0m, in \u001b[0;36mIndex.get_loc\u001b[0;34m(self, key, method, tolerance)\u001b[0m\n\u001b[1;32m   3801\u001b[0m \u001b[38;5;28;01mtry\u001b[39;00m:\n\u001b[0;32m-> 3802\u001b[0m     \u001b[38;5;28;01mreturn\u001b[39;00m \u001b[38;5;28;43mself\u001b[39;49m\u001b[38;5;241;43m.\u001b[39;49m\u001b[43m_engine\u001b[49m\u001b[38;5;241;43m.\u001b[39;49m\u001b[43mget_loc\u001b[49m\u001b[43m(\u001b[49m\u001b[43mcasted_key\u001b[49m\u001b[43m)\u001b[49m\n\u001b[1;32m   3803\u001b[0m \u001b[38;5;28;01mexcept\u001b[39;00m \u001b[38;5;167;01mKeyError\u001b[39;00m \u001b[38;5;28;01mas\u001b[39;00m err:\n",
      "File \u001b[0;32m~/.virtualenvs/diamondsGTHB/lib/python3.11/site-packages/pandas/_libs/index.pyx:138\u001b[0m, in \u001b[0;36mpandas._libs.index.IndexEngine.get_loc\u001b[0;34m()\u001b[0m\n",
      "File \u001b[0;32m~/.virtualenvs/diamondsGTHB/lib/python3.11/site-packages/pandas/_libs/index.pyx:165\u001b[0m, in \u001b[0;36mpandas._libs.index.IndexEngine.get_loc\u001b[0;34m()\u001b[0m\n",
      "File \u001b[0;32mpandas/_libs/hashtable_class_helper.pxi:5745\u001b[0m, in \u001b[0;36mpandas._libs.hashtable.PyObjectHashTable.get_item\u001b[0;34m()\u001b[0m\n",
      "File \u001b[0;32mpandas/_libs/hashtable_class_helper.pxi:5753\u001b[0m, in \u001b[0;36mpandas._libs.hashtable.PyObjectHashTable.get_item\u001b[0;34m()\u001b[0m\n",
      "\u001b[0;31mKeyError\u001b[0m: 'Carat'",
      "\nThe above exception was the direct cause of the following exception:\n",
      "\u001b[0;31mKeyError\u001b[0m                                  Traceback (most recent call last)",
      "Cell \u001b[0;32mIn[50], line 1\u001b[0m\n\u001b[0;32m----> 1\u001b[0m minValue \u001b[38;5;241m=\u001b[39m \u001b[43mrangeSummary_df\u001b[49m\u001b[43m[\u001b[49m\u001b[38;5;124;43m'\u001b[39;49m\u001b[38;5;124;43mCarat\u001b[39;49m\u001b[38;5;124;43m'\u001b[39;49m\u001b[43m]\u001b[49m\u001b[38;5;241m.\u001b[39mMin\n\u001b[1;32m      3\u001b[0m minValue\n",
      "File \u001b[0;32m~/.virtualenvs/diamondsGTHB/lib/python3.11/site-packages/pandas/core/frame.py:3807\u001b[0m, in \u001b[0;36mDataFrame.__getitem__\u001b[0;34m(self, key)\u001b[0m\n\u001b[1;32m   3805\u001b[0m \u001b[38;5;28;01mif\u001b[39;00m \u001b[38;5;28mself\u001b[39m\u001b[38;5;241m.\u001b[39mcolumns\u001b[38;5;241m.\u001b[39mnlevels \u001b[38;5;241m>\u001b[39m \u001b[38;5;241m1\u001b[39m:\n\u001b[1;32m   3806\u001b[0m     \u001b[38;5;28;01mreturn\u001b[39;00m \u001b[38;5;28mself\u001b[39m\u001b[38;5;241m.\u001b[39m_getitem_multilevel(key)\n\u001b[0;32m-> 3807\u001b[0m indexer \u001b[38;5;241m=\u001b[39m \u001b[38;5;28;43mself\u001b[39;49m\u001b[38;5;241;43m.\u001b[39;49m\u001b[43mcolumns\u001b[49m\u001b[38;5;241;43m.\u001b[39;49m\u001b[43mget_loc\u001b[49m\u001b[43m(\u001b[49m\u001b[43mkey\u001b[49m\u001b[43m)\u001b[49m\n\u001b[1;32m   3808\u001b[0m \u001b[38;5;28;01mif\u001b[39;00m is_integer(indexer):\n\u001b[1;32m   3809\u001b[0m     indexer \u001b[38;5;241m=\u001b[39m [indexer]\n",
      "File \u001b[0;32m~/.virtualenvs/diamondsGTHB/lib/python3.11/site-packages/pandas/core/indexes/base.py:3804\u001b[0m, in \u001b[0;36mIndex.get_loc\u001b[0;34m(self, key, method, tolerance)\u001b[0m\n\u001b[1;32m   3802\u001b[0m     \u001b[38;5;28;01mreturn\u001b[39;00m \u001b[38;5;28mself\u001b[39m\u001b[38;5;241m.\u001b[39m_engine\u001b[38;5;241m.\u001b[39mget_loc(casted_key)\n\u001b[1;32m   3803\u001b[0m \u001b[38;5;28;01mexcept\u001b[39;00m \u001b[38;5;167;01mKeyError\u001b[39;00m \u001b[38;5;28;01mas\u001b[39;00m err:\n\u001b[0;32m-> 3804\u001b[0m     \u001b[38;5;28;01mraise\u001b[39;00m \u001b[38;5;167;01mKeyError\u001b[39;00m(key) \u001b[38;5;28;01mfrom\u001b[39;00m \u001b[38;5;21;01merr\u001b[39;00m\n\u001b[1;32m   3805\u001b[0m \u001b[38;5;28;01mexcept\u001b[39;00m \u001b[38;5;167;01mTypeError\u001b[39;00m:\n\u001b[1;32m   3806\u001b[0m     \u001b[38;5;66;03m# If we have a listlike key, _check_indexing_error will raise\u001b[39;00m\n\u001b[1;32m   3807\u001b[0m     \u001b[38;5;66;03m#  InvalidIndexError. Otherwise we fall through and re-raise\u001b[39;00m\n\u001b[1;32m   3808\u001b[0m     \u001b[38;5;66;03m#  the TypeError.\u001b[39;00m\n\u001b[1;32m   3809\u001b[0m     \u001b[38;5;28mself\u001b[39m\u001b[38;5;241m.\u001b[39m_check_indexing_error(key)\n",
      "\u001b[0;31mKeyError\u001b[0m: 'Carat'"
     ]
    }
   ],
   "source": [
    "minValue = rangeSummary_df['Carat'].Min\n",
    "\n",
    "minValue"
   ]
  },
  {
   "cell_type": "code",
   "execution_count": null,
   "id": "a73c0c9f-ba02-44bb-85e5-79b6a807fdb9",
   "metadata": {},
   "outputs": [],
   "source": []
  },
  {
   "cell_type": "code",
   "execution_count": null,
   "id": "26a4a2b6-eb34-4d4d-8546-881dda548489",
   "metadata": {},
   "outputs": [],
   "source": []
  },
  {
   "cell_type": "code",
   "execution_count": null,
   "id": "db7e02e8-57b7-44db-8f8d-942f84fa6124",
   "metadata": {},
   "outputs": [],
   "source": []
  },
  {
   "cell_type": "code",
   "execution_count": null,
   "id": "6819a7f1-bc06-4395-ba4e-e0758a8da269",
   "metadata": {},
   "outputs": [],
   "source": []
  },
  {
   "cell_type": "code",
   "execution_count": null,
   "id": "dbf3e978-297e-446b-9f08-bca53886ef59",
   "metadata": {},
   "outputs": [],
   "source": []
  },
  {
   "cell_type": "code",
   "execution_count": null,
   "id": "f0394249-ccfc-420c-9230-ce435487f683",
   "metadata": {},
   "outputs": [],
   "source": []
  },
  {
   "cell_type": "code",
   "execution_count": null,
   "id": "1172acf9-2187-43c4-a00e-9eb7bddd4854",
   "metadata": {},
   "outputs": [],
   "source": []
  },
  {
   "cell_type": "code",
   "execution_count": null,
   "id": "62afb975-f43d-4a89-8a78-bd788492273a",
   "metadata": {},
   "outputs": [],
   "source": []
  },
  {
   "cell_type": "code",
   "execution_count": null,
   "id": "7004a99f-481e-4c08-a51d-d4be78e0d913",
   "metadata": {},
   "outputs": [],
   "source": []
  },
  {
   "cell_type": "code",
   "execution_count": null,
   "id": "ba315886-564e-4228-b41b-b09646c391dc",
   "metadata": {},
   "outputs": [],
   "source": []
  },
  {
   "cell_type": "code",
   "execution_count": null,
   "id": "06420e08-e3b3-4daa-a303-ae6827386ab1",
   "metadata": {},
   "outputs": [],
   "source": []
  },
  {
   "cell_type": "code",
   "execution_count": null,
   "id": "73ec3e77-4294-450d-a4a7-73e3a328dd2f",
   "metadata": {},
   "outputs": [],
   "source": []
  },
  {
   "cell_type": "code",
   "execution_count": null,
   "id": "1ba49469-4cfe-43bf-ac40-88f81f5147a8",
   "metadata": {},
   "outputs": [],
   "source": []
  },
  {
   "cell_type": "code",
   "execution_count": null,
   "id": "c6e9ea8a-32d7-462b-86b0-1a726b7a96e0",
   "metadata": {},
   "outputs": [],
   "source": []
  },
  {
   "cell_type": "code",
   "execution_count": null,
   "id": "72660bbd-4be3-4743-b070-c78a73754184",
   "metadata": {},
   "outputs": [],
   "source": []
  },
  {
   "cell_type": "code",
   "execution_count": null,
   "id": "bb1c6df5-960e-4019-b9d3-597364d851ea",
   "metadata": {},
   "outputs": [],
   "source": [
    "# Extract the 25% and 75% percentiles\n",
    "q1, q3 = diamonds_num_df['Carat'].quantile(\n",
    "    q = [0.25, 0.75],\n",
    ")"
   ]
  },
  {
   "cell_type": "code",
   "execution_count": null,
   "id": "88ce734f-0fae-46a9-8eed-ce52c8afd6fe",
   "metadata": {},
   "outputs": [],
   "source": [
    "# Calculate the interquartile range of the data\n",
    "iqr = q3 - q1"
   ]
  },
  {
   "cell_type": "code",
   "execution_count": null,
   "id": "051bdc7e-efed-4b59-b688-e7a5d86dae40",
   "metadata": {},
   "outputs": [],
   "source": [
    "# Number of data points\n",
    "n = diamonds_num_df.shape[0]"
   ]
  },
  {
   "cell_type": "code",
   "execution_count": null,
   "id": "74e1e523-de08-47eb-aee0-ac1c1bf81f4f",
   "metadata": {},
   "outputs": [],
   "source": [
    "binWidth = 2 * iqr * n**(-1/3)"
   ]
  },
  {
   "cell_type": "code",
   "execution_count": null,
   "id": "c30cb200-2725-463f-b179-eb21834d7203",
   "metadata": {},
   "outputs": [],
   "source": [
    "round(binWidth, 3)"
   ]
  },
  {
   "cell_type": "code",
   "execution_count": null,
   "id": "d1a11fb1-745a-4fc8-be1c-776b911f8269",
   "metadata": {},
   "outputs": [],
   "source": [
    "binWidth = 0.02"
   ]
  },
  {
   "cell_type": "code",
   "execution_count": null,
   "id": "bd5411cf-4e1f-457a-89b4-5ed9d68ab6a3",
   "metadata": {},
   "outputs": [],
   "source": [
    "numBins = int((diamonds_num_df['Girdle Diameter (mm)'].max() - diamonds_num_df['Girdle Diameter (mm)'].min()) / binWidth)"
   ]
  },
  {
   "cell_type": "code",
   "execution_count": null,
   "id": "440a892b-c1ef-4d38-866c-7a3cdec9fd25",
   "metadata": {},
   "outputs": [],
   "source": [
    "numBins"
   ]
  }
 ],
 "metadata": {
  "kernelspec": {
   "display_name": "Python 3 (ipykernel)",
   "language": "python",
   "name": "python3"
  },
  "language_info": {
   "codemirror_mode": {
    "name": "ipython",
    "version": 3
   },
   "file_extension": ".py",
   "mimetype": "text/x-python",
   "name": "python",
   "nbconvert_exporter": "python",
   "pygments_lexer": "ipython3",
   "version": "3.11.2"
  }
 },
 "nbformat": 4,
 "nbformat_minor": 5
}
