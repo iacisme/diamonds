{
 "cells": [
  {
   "cell_type": "markdown",
   "id": "3e057e9f-7f2e-421d-bfe5-6342143cea95",
   "metadata": {},
   "source": [
    "<h1 style='color:rgb(52, 152, 219)'; align=center><font size = 8> DIAMOND PRICES - ANALYSIS AND MODELING </font></h1>\n",
    "\n",
    "<h2 style='color:rgb(52, 152, 219)'; align=left><font size = 6> NOTEBOOK 01-03: DESCRIPTIVE STATISTICS </font></h2>"
   ]
  },
  {
   "cell_type": "markdown",
   "id": "1a5eda06-8c09-440c-8922-78699021a777",
   "metadata": {},
   "source": [
    "# REVISION HISTORY"
   ]
  },
  {
   "cell_type": "markdown",
   "id": "ce45502f-b49a-42e3-87ca-05333bcc0ffb",
   "metadata": {},
   "source": [
    "| REV | DESCRIPTION             | DATE         |  BY   | CHECK | APPROVE  |\n",
    "|:---:|:-----------------------:|:------------:|:-----:|:-----:|:--------:|\n",
    "| A0  | ISSUED FOR REVIEW (IFR) | 2024-APR-XX  |  IAC  |       |          |\n",
    "|     |                         |              |       |       |          |"
   ]
  },
  {
   "cell_type": "markdown",
   "id": "e1807a41-064b-42c4-a993-88d06ed043a7",
   "metadata": {},
   "source": [
    "## DETAILED DESCRIPTION OF REVISIONS"
   ]
  },
  {
   "cell_type": "markdown",
   "id": "5b551dd0-13c8-48fd-a9b3-c01262d65ccb",
   "metadata": {},
   "source": [
    "> **REV A0** - HOLD"
   ]
  },
  {
   "cell_type": "markdown",
   "id": "14b3c67d-9ffb-4a8c-a1b6-7a0ada99fe60",
   "metadata": {},
   "source": [
    "# INTRODUCTION"
   ]
  },
  {
   "cell_type": "markdown",
   "id": "c045726d-e6ac-4230-9c32-847fc6ffec7f",
   "metadata": {},
   "source": [
    "Descriptive statistics involves analyzing and summarizing the main characteristics of the data to gain insights on the data's characteristics, patterns, and trends. "
   ]
  },
  {
   "cell_type": "markdown",
   "id": "9a99c741-a58c-45b6-82b7-c5b61fcb7048",
   "metadata": {},
   "source": [
    "## DESCRIPTIVE STATISTICS STEPS\n",
    "\n",
    "Below are the descriptive statistics steps performed in this notebook:\n",
    "\n",
    "1. [ ] **Measures of Central Tendency:** Calculate descriptive statistics such as mean, median, and mode to understand the central tendency of the data.\n",
    "2. [ ] **Measures of Dispersion:** Compute measures like standard deviation, variance, and range to assess the spread or variability of the data.\n",
    "3. [ ] **Frequency Distributions:** Create frequency tables or histograms to visualize the distribution of categorical and numerical variables.\n",
    "4. [ ] **Percentiles:** Calculate percentiles to identify specific data points' position within the dataset.\n",
    "5. [ ] **Skewness and Kurtosis:** Skewness measures the asymmetry of the distribution, indicating whether the data is skewed to the left or right. Kurtosis measures the peakedness or flatness of the distribution.\n",
    "6. [ ] **Correlation Analysis:** Compute correlation coefficients to understand the relationships between pairs of variables."
   ]
  },
  {
   "cell_type": "markdown",
   "id": "027301fe-02bd-4b12-8e2c-f3ebad0cead0",
   "metadata": {},
   "source": [
    "# REQUIRED LIBRARIES"
   ]
  },
  {
   "cell_type": "markdown",
   "id": "68517abc-4fdc-4ea4-bb7f-065902a277fa",
   "metadata": {},
   "source": [
    "The following libraries are required to run this notebook."
   ]
  },
  {
   "cell_type": "code",
   "execution_count": null,
   "id": "15598467-92e3-471a-8f74-bf15121155d9",
   "metadata": {},
   "outputs": [],
   "source": [
    "# Library to create and handle a tabular dataset\n",
    "import pandas as pd"
   ]
  },
  {
   "cell_type": "code",
   "execution_count": null,
   "id": "09f52419-3427-4c4d-9e5d-063d3b2bb59d",
   "metadata": {},
   "outputs": [],
   "source": [
    "# Library to check for missing values\n",
    "import missingno as msno"
   ]
  },
  {
   "cell_type": "code",
   "execution_count": null,
   "id": "e03eba10-a8f6-4951-8c15-0341272806b4",
   "metadata": {},
   "outputs": [],
   "source": [
    "# Library used to create interactive controls\n",
    "import ipywidgets as widgets"
   ]
  },
  {
   "cell_type": "markdown",
   "id": "695e7200-7b34-44b1-a030-c80ef80b74f2",
   "metadata": {},
   "source": [
    "# LOAD DATASET"
   ]
  },
  {
   "cell_type": "markdown",
   "id": "916b0128-b33e-42b9-8b35-1e8fa8050ad4",
   "metadata": {},
   "source": [
    "The scripts to load this dataset are:"
   ]
  },
  {
   "cell_type": "code",
   "execution_count": null,
   "id": "7da5e812-eed1-4ad2-beba-2d46db819cf2",
   "metadata": {},
   "outputs": [],
   "source": [
    "# Path to the dataset\n",
    "filePath = \"./../00_Data/00_Datasets/\""
   ]
  },
  {
   "cell_type": "code",
   "execution_count": null,
   "id": "77b0dc15-9eca-4f16-b976-ce53a2296ed4",
   "metadata": {},
   "outputs": [],
   "source": [
    "# Filename\n",
    "diamondsCSVFilename = 'diamonds_DM_df.csv'"
   ]
  },
  {
   "cell_type": "code",
   "execution_count": null,
   "id": "55601ea6-7bbb-4ae5-9959-49a3308f0239",
   "metadata": {},
   "outputs": [],
   "source": [
    "# Create a data frame\n",
    "diamonds_df = pd.read_csv(\n",
    "    filePath + diamondsCSVFilename,\n",
    "    index_col = None\n",
    ")\n",
    "\n",
    "# Display the newly created data frame\n",
    "diamonds_df"
   ]
  },
  {
   "cell_type": "markdown",
   "id": "eb382028-0582-4a6e-b415-eacd9e89a3fe",
   "metadata": {},
   "source": [
    "# MEASURES OF CENTRAL TENDENCY"
   ]
  },
  {
   "cell_type": "code",
   "execution_count": null,
   "id": "b52eab3b-9bff-4fcd-8997-cf2840639e7f",
   "metadata": {},
   "outputs": [],
   "source": []
  }
 ],
 "metadata": {
  "kernelspec": {
   "display_name": "Python 3 (ipykernel)",
   "language": "python",
   "name": "python3"
  },
  "language_info": {
   "codemirror_mode": {
    "name": "ipython",
    "version": 3
   },
   "file_extension": ".py",
   "mimetype": "text/x-python",
   "name": "python",
   "nbconvert_exporter": "python",
   "pygments_lexer": "ipython3",
   "version": "3.11.2"
  }
 },
 "nbformat": 4,
 "nbformat_minor": 5
}
