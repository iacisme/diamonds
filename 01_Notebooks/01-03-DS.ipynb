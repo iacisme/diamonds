{
 "cells": [
  {
   "cell_type": "markdown",
   "id": "3e057e9f-7f2e-421d-bfe5-6342143cea95",
   "metadata": {},
   "source": [
    "<h1 style='color:rgb(52, 152, 219)'; align=center><font size = 8> DIAMOND PRICES - ANALYSIS AND MODELING </font></h1>\n",
    "\n",
    "<h2 style='color:rgb(52, 152, 219)'; align=left><font size = 6> NOTEBOOK 01-03: DESCRIPTIVE STATISTICS </font></h2>"
   ]
  },
  {
   "cell_type": "markdown",
   "id": "1a5eda06-8c09-440c-8922-78699021a777",
   "metadata": {},
   "source": [
    "# REVISION HISTORY"
   ]
  },
  {
   "cell_type": "markdown",
   "id": "ce45502f-b49a-42e3-87ca-05333bcc0ffb",
   "metadata": {},
   "source": [
    "| REV | DESCRIPTION             | DATE         |  BY   | CHECK | APPROVE  |\n",
    "|:---:|:-----------------------:|:------------:|:-----:|:-----:|:--------:|\n",
    "| A0  | ISSUED FOR REVIEW (IFR) | 2024-APR-XX  |  IAC  |       |          |\n",
    "|     |                         |              |       |       |          |"
   ]
  },
  {
   "cell_type": "markdown",
   "id": "e1807a41-064b-42c4-a993-88d06ed043a7",
   "metadata": {},
   "source": [
    "## DETAILED DESCRIPTION OF REVISIONS"
   ]
  },
  {
   "cell_type": "markdown",
   "id": "5b551dd0-13c8-48fd-a9b3-c01262d65ccb",
   "metadata": {},
   "source": [
    "> **REV A0** - HOLD"
   ]
  },
  {
   "cell_type": "markdown",
   "id": "14b3c67d-9ffb-4a8c-a1b6-7a0ada99fe60",
   "metadata": {},
   "source": [
    "# INTRODUCTION"
   ]
  },
  {
   "cell_type": "markdown",
   "id": "c045726d-e6ac-4230-9c32-847fc6ffec7f",
   "metadata": {},
   "source": [
    "Descriptive statistics involves analyzing and summarizing the main characteristics of the data to gain insights on the data's characteristics, patterns, and trends. "
   ]
  },
  {
   "cell_type": "markdown",
   "id": "9a99c741-a58c-45b6-82b7-c5b61fcb7048",
   "metadata": {},
   "source": [
    "## DESCRIPTIVE STATISTICS STEPS\n",
    "\n",
    "Below are the descriptive statistics steps performed in this notebook:\n",
    "\n",
    "1. [ ] **Measures of Central Tendency:** Calculate descriptive statistics such as mean, median, and mode to understand the central tendency of the data.\n",
    "2. [ ] **Measures of Dispersion:** Compute measures like standard deviation, variance, and range to assess the spread or variability of the data.\n",
    "3. [ ] **Frequency Distributions:** Create frequency tables or histograms to visualize the distribution of categorical and numerical variables.\n",
    "4. [ ] **Percentiles:** Calculate percentiles to identify specific data points' position within the dataset.\n",
    "5. [ ] **Skewness and Kurtosis:** Skewness measures the asymmetry of the distribution, indicating whether the data is skewed to the left or right. Kurtosis measures the peakedness or flatness of the distribution.\n",
    "6. [ ] **Correlation Analysis:** Compute correlation coefficients to understand the relationships between pairs of variables."
   ]
  },
  {
   "cell_type": "markdown",
   "id": "027301fe-02bd-4b12-8e2c-f3ebad0cead0",
   "metadata": {},
   "source": [
    "# REQUIRED LIBRARIES"
   ]
  },
  {
   "cell_type": "markdown",
   "id": "68517abc-4fdc-4ea4-bb7f-065902a277fa",
   "metadata": {},
   "source": [
    "The following libraries are required to run this notebook."
   ]
  },
  {
   "cell_type": "code",
   "execution_count": 1,
   "id": "15598467-92e3-471a-8f74-bf15121155d9",
   "metadata": {},
   "outputs": [],
   "source": [
    "# Library to create and handle a tabular dataset\n",
    "import pandas as pd"
   ]
  },
  {
   "cell_type": "code",
   "execution_count": 2,
   "id": "3b6375ad-2803-4ba8-a6e2-0938dd49eeef",
   "metadata": {},
   "outputs": [],
   "source": [
    "# Library to plot graphs\n",
    "import seaborn as sns"
   ]
  },
  {
   "cell_type": "code",
   "execution_count": 3,
   "id": "46630a2d-9a09-4320-87b9-6c6ac20c723f",
   "metadata": {},
   "outputs": [],
   "source": [
    "# Library to plot graphs\n",
    "import plotly.express as px\n",
    "import plotly.figure_factory as ff"
   ]
  },
  {
   "cell_type": "code",
   "execution_count": 4,
   "id": "75949430-cb85-4d8d-bc66-b17ce6b29fa7",
   "metadata": {},
   "outputs": [],
   "source": [
    "# Use the scikit-learn Library to create categorical and numerical features\n",
    "from sklearn.compose import make_column_selector as selector"
   ]
  },
  {
   "cell_type": "code",
   "execution_count": 5,
   "id": "e03eba10-a8f6-4951-8c15-0341272806b4",
   "metadata": {},
   "outputs": [],
   "source": [
    "# Library used to create interactive controls\n",
    "import ipywidgets as widgets"
   ]
  },
  {
   "cell_type": "markdown",
   "id": "695e7200-7b34-44b1-a030-c80ef80b74f2",
   "metadata": {},
   "source": [
    "# LOAD DATASET"
   ]
  },
  {
   "cell_type": "markdown",
   "id": "916b0128-b33e-42b9-8b35-1e8fa8050ad4",
   "metadata": {},
   "source": [
    "The scripts to load this dataset are:"
   ]
  },
  {
   "cell_type": "code",
   "execution_count": 6,
   "id": "7da5e812-eed1-4ad2-beba-2d46db819cf2",
   "metadata": {},
   "outputs": [],
   "source": [
    "# Path to the dataset\n",
    "filePath = \"./../00_Data/00_Datasets/\""
   ]
  },
  {
   "cell_type": "code",
   "execution_count": 7,
   "id": "77b0dc15-9eca-4f16-b976-ce53a2296ed4",
   "metadata": {},
   "outputs": [],
   "source": [
    "# Filename\n",
    "diamondsCSVFilename = 'diamonds_DM.csv'"
   ]
  },
  {
   "cell_type": "code",
   "execution_count": 8,
   "id": "55601ea6-7bbb-4ae5-9959-49a3308f0239",
   "metadata": {},
   "outputs": [
    {
     "data": {
      "text/html": [
       "<div>\n",
       "<style scoped>\n",
       "    .dataframe tbody tr th:only-of-type {\n",
       "        vertical-align: middle;\n",
       "    }\n",
       "\n",
       "    .dataframe tbody tr th {\n",
       "        vertical-align: top;\n",
       "    }\n",
       "\n",
       "    .dataframe thead th {\n",
       "        text-align: right;\n",
       "    }\n",
       "</style>\n",
       "<table border=\"1\" class=\"dataframe\">\n",
       "  <thead>\n",
       "    <tr style=\"text-align: right;\">\n",
       "      <th></th>\n",
       "      <th>Carat</th>\n",
       "      <th>Diamond Type</th>\n",
       "      <th>Cut</th>\n",
       "      <th>Crown Height (mm)</th>\n",
       "      <th>Girdle Diameter (mm)</th>\n",
       "      <th>Pavillion Depth (mm)</th>\n",
       "      <th>Table %</th>\n",
       "      <th>Total Depth %</th>\n",
       "      <th>Color</th>\n",
       "      <th>Color Grades</th>\n",
       "      <th>Clarity</th>\n",
       "      <th>Price</th>\n",
       "      <th>Price(2024)</th>\n",
       "    </tr>\n",
       "  </thead>\n",
       "  <tbody>\n",
       "    <tr>\n",
       "      <th>0</th>\n",
       "      <td>0.23</td>\n",
       "      <td>Small Diamond</td>\n",
       "      <td>Ideal</td>\n",
       "      <td>3.95</td>\n",
       "      <td>3.98</td>\n",
       "      <td>2.43</td>\n",
       "      <td>55.0</td>\n",
       "      <td>61.5</td>\n",
       "      <td>E</td>\n",
       "      <td>Colorless</td>\n",
       "      <td>SI2</td>\n",
       "      <td>326</td>\n",
       "      <td>354.04</td>\n",
       "    </tr>\n",
       "    <tr>\n",
       "      <th>1</th>\n",
       "      <td>0.21</td>\n",
       "      <td>Small Diamond</td>\n",
       "      <td>Excellent</td>\n",
       "      <td>3.89</td>\n",
       "      <td>3.84</td>\n",
       "      <td>2.31</td>\n",
       "      <td>61.0</td>\n",
       "      <td>59.8</td>\n",
       "      <td>E</td>\n",
       "      <td>Colorless</td>\n",
       "      <td>SI1</td>\n",
       "      <td>326</td>\n",
       "      <td>354.04</td>\n",
       "    </tr>\n",
       "    <tr>\n",
       "      <th>2</th>\n",
       "      <td>0.23</td>\n",
       "      <td>Small Diamond</td>\n",
       "      <td>Good</td>\n",
       "      <td>4.05</td>\n",
       "      <td>4.07</td>\n",
       "      <td>2.31</td>\n",
       "      <td>65.0</td>\n",
       "      <td>56.9</td>\n",
       "      <td>E</td>\n",
       "      <td>Colorless</td>\n",
       "      <td>VS1</td>\n",
       "      <td>327</td>\n",
       "      <td>355.12</td>\n",
       "    </tr>\n",
       "    <tr>\n",
       "      <th>3</th>\n",
       "      <td>0.29</td>\n",
       "      <td>Small Diamond</td>\n",
       "      <td>Excellent</td>\n",
       "      <td>4.20</td>\n",
       "      <td>4.23</td>\n",
       "      <td>2.63</td>\n",
       "      <td>58.0</td>\n",
       "      <td>62.4</td>\n",
       "      <td>I</td>\n",
       "      <td>Near Colorless</td>\n",
       "      <td>VS2</td>\n",
       "      <td>334</td>\n",
       "      <td>362.72</td>\n",
       "    </tr>\n",
       "    <tr>\n",
       "      <th>4</th>\n",
       "      <td>0.31</td>\n",
       "      <td>Medium Diamond</td>\n",
       "      <td>Good</td>\n",
       "      <td>4.34</td>\n",
       "      <td>4.35</td>\n",
       "      <td>2.75</td>\n",
       "      <td>58.0</td>\n",
       "      <td>63.3</td>\n",
       "      <td>J</td>\n",
       "      <td>Near Colorless</td>\n",
       "      <td>SI2</td>\n",
       "      <td>335</td>\n",
       "      <td>363.81</td>\n",
       "    </tr>\n",
       "    <tr>\n",
       "      <th>...</th>\n",
       "      <td>...</td>\n",
       "      <td>...</td>\n",
       "      <td>...</td>\n",
       "      <td>...</td>\n",
       "      <td>...</td>\n",
       "      <td>...</td>\n",
       "      <td>...</td>\n",
       "      <td>...</td>\n",
       "      <td>...</td>\n",
       "      <td>...</td>\n",
       "      <td>...</td>\n",
       "      <td>...</td>\n",
       "      <td>...</td>\n",
       "    </tr>\n",
       "    <tr>\n",
       "      <th>53789</th>\n",
       "      <td>0.72</td>\n",
       "      <td>Medium Diamond</td>\n",
       "      <td>Ideal</td>\n",
       "      <td>5.75</td>\n",
       "      <td>5.76</td>\n",
       "      <td>3.50</td>\n",
       "      <td>57.0</td>\n",
       "      <td>60.8</td>\n",
       "      <td>D</td>\n",
       "      <td>Colorless</td>\n",
       "      <td>SI1</td>\n",
       "      <td>2757</td>\n",
       "      <td>2994.10</td>\n",
       "    </tr>\n",
       "    <tr>\n",
       "      <th>53790</th>\n",
       "      <td>0.72</td>\n",
       "      <td>Medium Diamond</td>\n",
       "      <td>Good</td>\n",
       "      <td>5.69</td>\n",
       "      <td>5.75</td>\n",
       "      <td>3.61</td>\n",
       "      <td>55.0</td>\n",
       "      <td>63.1</td>\n",
       "      <td>D</td>\n",
       "      <td>Colorless</td>\n",
       "      <td>SI1</td>\n",
       "      <td>2757</td>\n",
       "      <td>2994.10</td>\n",
       "    </tr>\n",
       "    <tr>\n",
       "      <th>53791</th>\n",
       "      <td>0.70</td>\n",
       "      <td>Medium Diamond</td>\n",
       "      <td>Very Good</td>\n",
       "      <td>5.66</td>\n",
       "      <td>5.68</td>\n",
       "      <td>3.56</td>\n",
       "      <td>60.0</td>\n",
       "      <td>62.8</td>\n",
       "      <td>D</td>\n",
       "      <td>Colorless</td>\n",
       "      <td>SI1</td>\n",
       "      <td>2757</td>\n",
       "      <td>2994.10</td>\n",
       "    </tr>\n",
       "    <tr>\n",
       "      <th>53792</th>\n",
       "      <td>0.86</td>\n",
       "      <td>Medium Diamond</td>\n",
       "      <td>Excellent</td>\n",
       "      <td>6.15</td>\n",
       "      <td>6.12</td>\n",
       "      <td>3.74</td>\n",
       "      <td>58.0</td>\n",
       "      <td>61.0</td>\n",
       "      <td>H</td>\n",
       "      <td>Near Colorless</td>\n",
       "      <td>SI2</td>\n",
       "      <td>2757</td>\n",
       "      <td>2994.10</td>\n",
       "    </tr>\n",
       "    <tr>\n",
       "      <th>53793</th>\n",
       "      <td>0.75</td>\n",
       "      <td>Medium Diamond</td>\n",
       "      <td>Ideal</td>\n",
       "      <td>5.83</td>\n",
       "      <td>5.87</td>\n",
       "      <td>3.64</td>\n",
       "      <td>55.0</td>\n",
       "      <td>62.2</td>\n",
       "      <td>D</td>\n",
       "      <td>Colorless</td>\n",
       "      <td>SI2</td>\n",
       "      <td>2757</td>\n",
       "      <td>2994.10</td>\n",
       "    </tr>\n",
       "  </tbody>\n",
       "</table>\n",
       "<p>53794 rows × 13 columns</p>\n",
       "</div>"
      ],
      "text/plain": [
       "       Carat    Diamond Type        Cut  Crown Height (mm)  \\\n",
       "0       0.23   Small Diamond      Ideal               3.95   \n",
       "1       0.21   Small Diamond  Excellent               3.89   \n",
       "2       0.23   Small Diamond       Good               4.05   \n",
       "3       0.29   Small Diamond  Excellent               4.20   \n",
       "4       0.31  Medium Diamond       Good               4.34   \n",
       "...      ...             ...        ...                ...   \n",
       "53789   0.72  Medium Diamond      Ideal               5.75   \n",
       "53790   0.72  Medium Diamond       Good               5.69   \n",
       "53791   0.70  Medium Diamond  Very Good               5.66   \n",
       "53792   0.86  Medium Diamond  Excellent               6.15   \n",
       "53793   0.75  Medium Diamond      Ideal               5.83   \n",
       "\n",
       "       Girdle Diameter (mm)  Pavillion Depth (mm)  Table %  Total Depth %  \\\n",
       "0                      3.98                  2.43     55.0           61.5   \n",
       "1                      3.84                  2.31     61.0           59.8   \n",
       "2                      4.07                  2.31     65.0           56.9   \n",
       "3                      4.23                  2.63     58.0           62.4   \n",
       "4                      4.35                  2.75     58.0           63.3   \n",
       "...                     ...                   ...      ...            ...   \n",
       "53789                  5.76                  3.50     57.0           60.8   \n",
       "53790                  5.75                  3.61     55.0           63.1   \n",
       "53791                  5.68                  3.56     60.0           62.8   \n",
       "53792                  6.12                  3.74     58.0           61.0   \n",
       "53793                  5.87                  3.64     55.0           62.2   \n",
       "\n",
       "      Color    Color Grades Clarity  Price  Price(2024)  \n",
       "0         E       Colorless     SI2    326       354.04  \n",
       "1         E       Colorless     SI1    326       354.04  \n",
       "2         E       Colorless     VS1    327       355.12  \n",
       "3         I  Near Colorless     VS2    334       362.72  \n",
       "4         J  Near Colorless     SI2    335       363.81  \n",
       "...     ...             ...     ...    ...          ...  \n",
       "53789     D       Colorless     SI1   2757      2994.10  \n",
       "53790     D       Colorless     SI1   2757      2994.10  \n",
       "53791     D       Colorless     SI1   2757      2994.10  \n",
       "53792     H  Near Colorless     SI2   2757      2994.10  \n",
       "53793     D       Colorless     SI2   2757      2994.10  \n",
       "\n",
       "[53794 rows x 13 columns]"
      ]
     },
     "execution_count": 8,
     "metadata": {},
     "output_type": "execute_result"
    }
   ],
   "source": [
    "# Create a data frame\n",
    "diamonds_df = pd.read_csv(\n",
    "    filePath + diamondsCSVFilename,\n",
    "    index_col = None\n",
    ")\n",
    "\n",
    "# Display the newly created data frame\n",
    "diamonds_df"
   ]
  },
  {
   "cell_type": "markdown",
   "id": "eb382028-0582-4a6e-b415-eacd9e89a3fe",
   "metadata": {},
   "source": [
    "# MEASURES OF CENTRAL TENDENCY"
   ]
  },
  {
   "cell_type": "markdown",
   "id": "1e294431-c152-4d0e-b6b2-ea95ac21f96a",
   "metadata": {},
   "source": [
    "The measure of central tendency are values that represents the center point of a dataset. The center point can be thought of as the most common values. In statistics, the measure of central tendency is described in terms of an average value (mean), the middle value (median), and the most common values (mode). \n",
    "\n",
    "The measure of central tendency that can be used on data depends on if the data is categorical or numerical. Therefore; the first step in this process is to create two datasets:\n",
    "\n",
    "1. Categorical Data\n",
    "2. Numerical Data\n",
    "\n",
    "The following scripts uses the [scikit-learn column transformer library](https://scikit-learn.org/stable/modules/generated/sklearn.compose.make_column_selector.html#sklearn.compose.make_column_selector) to create a categorica and numerical datasets:"
   ]
  },
  {
   "cell_type": "markdown",
   "id": "aa5a042a-188e-4903-aa8d-e5c23f825074",
   "metadata": {},
   "source": [
    "## CATEGORICAL DATA"
   ]
  },
  {
   "cell_type": "markdown",
   "id": "b0e6ba41-7d56-4166-805e-a9167369bb18",
   "metadata": {},
   "source": [
    "For categorical data, finding the **mode** is the most common measure of central tendency, especially for ordinal data types. Howeer; you might be able to determine a **median**, and even a **mean** in some cases, for the nominal data types. "
   ]
  },
  {
   "cell_type": "code",
   "execution_count": 9,
   "id": "fcdadeb3-9ac5-42b6-b373-c2850e5f3428",
   "metadata": {},
   "outputs": [],
   "source": [
    "# Create an object that will filter categorical columns\n",
    "categoricalColumnsSlctr_obj = selector(\n",
    "    dtype_include = object\n",
    ")"
   ]
  },
  {
   "cell_type": "code",
   "execution_count": 10,
   "id": "e718dcbb-c5a6-4c5c-930d-9e070c8d5253",
   "metadata": {},
   "outputs": [],
   "source": [
    "# Create a list of categorical columns\n",
    "categoricalColumns_list = categoricalColumnsSlctr_obj(diamonds_df)"
   ]
  },
  {
   "cell_type": "code",
   "execution_count": 11,
   "id": "ae36f88c-92d1-4a00-ae16-2d09b10c036f",
   "metadata": {},
   "outputs": [
    {
     "data": {
      "text/html": [
       "<div>\n",
       "<style scoped>\n",
       "    .dataframe tbody tr th:only-of-type {\n",
       "        vertical-align: middle;\n",
       "    }\n",
       "\n",
       "    .dataframe tbody tr th {\n",
       "        vertical-align: top;\n",
       "    }\n",
       "\n",
       "    .dataframe thead th {\n",
       "        text-align: right;\n",
       "    }\n",
       "</style>\n",
       "<table border=\"1\" class=\"dataframe\">\n",
       "  <thead>\n",
       "    <tr style=\"text-align: right;\">\n",
       "      <th></th>\n",
       "      <th>Diamond Type</th>\n",
       "      <th>Cut</th>\n",
       "      <th>Color</th>\n",
       "      <th>Color Grades</th>\n",
       "      <th>Clarity</th>\n",
       "    </tr>\n",
       "  </thead>\n",
       "  <tbody>\n",
       "    <tr>\n",
       "      <th>0</th>\n",
       "      <td>Small Diamond</td>\n",
       "      <td>Ideal</td>\n",
       "      <td>E</td>\n",
       "      <td>Colorless</td>\n",
       "      <td>SI2</td>\n",
       "    </tr>\n",
       "    <tr>\n",
       "      <th>1</th>\n",
       "      <td>Small Diamond</td>\n",
       "      <td>Excellent</td>\n",
       "      <td>E</td>\n",
       "      <td>Colorless</td>\n",
       "      <td>SI1</td>\n",
       "    </tr>\n",
       "    <tr>\n",
       "      <th>2</th>\n",
       "      <td>Small Diamond</td>\n",
       "      <td>Good</td>\n",
       "      <td>E</td>\n",
       "      <td>Colorless</td>\n",
       "      <td>VS1</td>\n",
       "    </tr>\n",
       "    <tr>\n",
       "      <th>3</th>\n",
       "      <td>Small Diamond</td>\n",
       "      <td>Excellent</td>\n",
       "      <td>I</td>\n",
       "      <td>Near Colorless</td>\n",
       "      <td>VS2</td>\n",
       "    </tr>\n",
       "    <tr>\n",
       "      <th>4</th>\n",
       "      <td>Medium Diamond</td>\n",
       "      <td>Good</td>\n",
       "      <td>J</td>\n",
       "      <td>Near Colorless</td>\n",
       "      <td>SI2</td>\n",
       "    </tr>\n",
       "    <tr>\n",
       "      <th>...</th>\n",
       "      <td>...</td>\n",
       "      <td>...</td>\n",
       "      <td>...</td>\n",
       "      <td>...</td>\n",
       "      <td>...</td>\n",
       "    </tr>\n",
       "    <tr>\n",
       "      <th>53789</th>\n",
       "      <td>Medium Diamond</td>\n",
       "      <td>Ideal</td>\n",
       "      <td>D</td>\n",
       "      <td>Colorless</td>\n",
       "      <td>SI1</td>\n",
       "    </tr>\n",
       "    <tr>\n",
       "      <th>53790</th>\n",
       "      <td>Medium Diamond</td>\n",
       "      <td>Good</td>\n",
       "      <td>D</td>\n",
       "      <td>Colorless</td>\n",
       "      <td>SI1</td>\n",
       "    </tr>\n",
       "    <tr>\n",
       "      <th>53791</th>\n",
       "      <td>Medium Diamond</td>\n",
       "      <td>Very Good</td>\n",
       "      <td>D</td>\n",
       "      <td>Colorless</td>\n",
       "      <td>SI1</td>\n",
       "    </tr>\n",
       "    <tr>\n",
       "      <th>53792</th>\n",
       "      <td>Medium Diamond</td>\n",
       "      <td>Excellent</td>\n",
       "      <td>H</td>\n",
       "      <td>Near Colorless</td>\n",
       "      <td>SI2</td>\n",
       "    </tr>\n",
       "    <tr>\n",
       "      <th>53793</th>\n",
       "      <td>Medium Diamond</td>\n",
       "      <td>Ideal</td>\n",
       "      <td>D</td>\n",
       "      <td>Colorless</td>\n",
       "      <td>SI2</td>\n",
       "    </tr>\n",
       "  </tbody>\n",
       "</table>\n",
       "<p>53794 rows × 5 columns</p>\n",
       "</div>"
      ],
      "text/plain": [
       "         Diamond Type        Cut Color    Color Grades Clarity\n",
       "0       Small Diamond      Ideal     E       Colorless     SI2\n",
       "1       Small Diamond  Excellent     E       Colorless     SI1\n",
       "2       Small Diamond       Good     E       Colorless     VS1\n",
       "3       Small Diamond  Excellent     I  Near Colorless     VS2\n",
       "4      Medium Diamond       Good     J  Near Colorless     SI2\n",
       "...               ...        ...   ...             ...     ...\n",
       "53789  Medium Diamond      Ideal     D       Colorless     SI1\n",
       "53790  Medium Diamond       Good     D       Colorless     SI1\n",
       "53791  Medium Diamond  Very Good     D       Colorless     SI1\n",
       "53792  Medium Diamond  Excellent     H  Near Colorless     SI2\n",
       "53793  Medium Diamond      Ideal     D       Colorless     SI2\n",
       "\n",
       "[53794 rows x 5 columns]"
      ]
     },
     "execution_count": 11,
     "metadata": {},
     "output_type": "execute_result"
    }
   ],
   "source": [
    "# Create a categorical dataset\n",
    "diamonds_cat_df = diamonds_df[categoricalColumns_list]\n",
    "\n",
    "# Verify the data\n",
    "diamonds_cat_df"
   ]
  },
  {
   "cell_type": "markdown",
   "id": "4c90e596-077b-48c6-8bd4-065395f184bf",
   "metadata": {},
   "source": [
    "### CENTRAL TENDENCY"
   ]
  },
  {
   "cell_type": "markdown",
   "id": "def01462-8cfc-418a-b11e-3f8c75c0a7a3",
   "metadata": {},
   "source": [
    "The categorical values found in this dataset are all ordinal values. They are all related to grading a diamond. This implies that the only central tendency that can be extracted is the **mode**.\n",
    "\n",
    "The following scripts graphically display the mode of each categorical feature. "
   ]
  },
  {
   "cell_type": "code",
   "execution_count": 12,
   "id": "04199c13-f6a3-4640-b130-95910a7e18a1",
   "metadata": {},
   "outputs": [
    {
     "data": {
      "text/plain": [
       "['Diamond Type', 'Cut', 'Color', 'Color Grades', 'Clarity']"
      ]
     },
     "execution_count": 12,
     "metadata": {},
     "output_type": "execute_result"
    }
   ],
   "source": [
    "# Create a list of categorical features\n",
    "categoricalFeatures_list = diamonds_cat_df.columns.to_list()\n",
    "\n",
    "categoricalFeatures_list"
   ]
  },
  {
   "cell_type": "code",
   "execution_count": 13,
   "id": "1e359e3a-09f8-4285-bacc-f85f9ba708e9",
   "metadata": {},
   "outputs": [],
   "source": [
    "# Create an interactive widget to help in graphing\n",
    "categoricalFeatures_widget = widgets.Dropdown(\n",
    "    options = categoricalFeatures_list,\n",
    "    value = categoricalFeatures_list[0],\n",
    "    description = 'Feature:',\n",
    "    disabled = False,\n",
    ")"
   ]
  },
  {
   "cell_type": "code",
   "execution_count": 14,
   "id": "ae92ea7d-4305-402d-8ad5-7851e436b42e",
   "metadata": {},
   "outputs": [],
   "source": [
    "# Sort categories from most valuable to least\n",
    "sortOrder_dict = {\n",
    "    'Cut' : ['Ideal', 'Excellent', 'Very Good', 'Good', 'Fair'],\n",
    "    'Color' : sorted(diamonds_cat_df['Color'].unique().tolist()),\n",
    "    'Clarity' : ['IF', 'VVS1', 'VVS2', 'VS1', 'VS2', 'SI1', 'SI2', 'I1'],\n",
    "}"
   ]
  },
  {
   "cell_type": "code",
   "execution_count": 15,
   "id": "b3d0ee12-1daf-4a10-8ed5-075b81897aaa",
   "metadata": {},
   "outputs": [
    {
     "data": {
      "application/vnd.jupyter.widget-view+json": {
       "model_id": "961107252d064579ba31f8b8bb34f0e7",
       "version_major": 2,
       "version_minor": 0
      },
      "text/plain": [
       "interactive(children=(Dropdown(description='Feature:', options=('Diamond Type', 'Cut', 'Color', 'Color Grades'…"
      ]
     },
     "metadata": {},
     "output_type": "display_data"
    }
   ],
   "source": [
    "# Create an interactive graph to help visualize categorical data\n",
    "@widgets.interact(categoricalFeature = categoricalFeatures_widget)\n",
    "def categoryInspector(categoricalFeature):\n",
    "    fig = px.histogram(\n",
    "        diamonds_cat_df,\n",
    "        x = categoricalFeature,\n",
    "        category_orders = sortOrder_dict,\n",
    "        color = categoricalFeature,\n",
    "        color_discrete_sequence = px.colors.qualitative.Dark24,\n",
    "    )\n",
    "\n",
    "    # Extract the mode of the dataset\n",
    "    mode =  diamonds_cat_df[categoricalFeature].mode()[0]\n",
    "\n",
    "    # Create a graph title\n",
    "    graphTitle = f\"Mode: {mode}\"\n",
    "\n",
    "    # Update the graph\n",
    "    fig.update_layout(\n",
    "        title_text = graphTitle,\n",
    "        yaxis_title_text = 'Total Counts', # yaxis label\n",
    "        height = 600,\n",
    "        width = 800\n",
    "    )\n",
    "\n",
    "    # Display the results\n",
    "    return fig.show()"
   ]
  },
  {
   "cell_type": "markdown",
   "id": "bb3da28b-3335-49b6-8794-902c5479a863",
   "metadata": {},
   "source": [
    "### SUMMMARY"
   ]
  },
  {
   "cell_type": "markdown",
   "id": "479ff484-c2e9-4810-a0b9-d83e26ab5610",
   "metadata": {},
   "source": [
    "The following table summarizes the mode of each categorical feature:\n",
    "| Feature        | Values                                       | Mode           |\n",
    "|----------------|----------------------------------------------|----------------|\n",
    "| Diamond Type   | Small Diamond, Medium Diamond, Large Diamond | Medium Diamond |\n",
    "| Cut            | Ideal, Excellent, Very Good, Good, Fair        | Ideal          |\n",
    "| Color          | D, E, F, G, H, I, J                          | G              |\n",
    "| Color Grades   | Colorless, Near Colorless                    | Near Colorless |\n",
    "| Clarity        | IF, VVS1, VVS2, VS1, VS2, SI1, SI2, I1       | SI1            |\n"
   ]
  },
  {
   "cell_type": "markdown",
   "id": "f60084aa-f997-4a4d-b330-bf8c9f9f82c3",
   "metadata": {},
   "source": [
    "## NUMERICAL DATA"
   ]
  },
  {
   "cell_type": "markdown",
   "id": "ad5b3348-5e50-4052-b375-bb4f12e37266",
   "metadata": {},
   "source": [
    "For numerical data, you can determine the **mean**, **median**, and **mode**, for continuous variables. "
   ]
  },
  {
   "cell_type": "code",
   "execution_count": 16,
   "id": "c484e29e-6511-47f7-9d09-9e10162bd70b",
   "metadata": {},
   "outputs": [],
   "source": [
    "# Create an object that will filter numerical columns\n",
    "numericalColumnsSlctr_obj = selector(\n",
    "    dtype_exclude = object\n",
    ")"
   ]
  },
  {
   "cell_type": "code",
   "execution_count": 17,
   "id": "cefc4ed0-a0ea-4474-b953-ee7ba4d297db",
   "metadata": {},
   "outputs": [],
   "source": [
    "# Create a list of numerical columns\n",
    "numericalColumns_list = numericalColumnsSlctr_obj(diamonds_df)"
   ]
  },
  {
   "cell_type": "code",
   "execution_count": 18,
   "id": "e1f7eedd-6cf7-4bcb-9b23-70b44f85dc6c",
   "metadata": {},
   "outputs": [
    {
     "data": {
      "text/html": [
       "<div>\n",
       "<style scoped>\n",
       "    .dataframe tbody tr th:only-of-type {\n",
       "        vertical-align: middle;\n",
       "    }\n",
       "\n",
       "    .dataframe tbody tr th {\n",
       "        vertical-align: top;\n",
       "    }\n",
       "\n",
       "    .dataframe thead th {\n",
       "        text-align: right;\n",
       "    }\n",
       "</style>\n",
       "<table border=\"1\" class=\"dataframe\">\n",
       "  <thead>\n",
       "    <tr style=\"text-align: right;\">\n",
       "      <th></th>\n",
       "      <th>Carat</th>\n",
       "      <th>Crown Height (mm)</th>\n",
       "      <th>Girdle Diameter (mm)</th>\n",
       "      <th>Pavillion Depth (mm)</th>\n",
       "      <th>Table %</th>\n",
       "      <th>Total Depth %</th>\n",
       "      <th>Price</th>\n",
       "      <th>Price(2024)</th>\n",
       "    </tr>\n",
       "  </thead>\n",
       "  <tbody>\n",
       "    <tr>\n",
       "      <th>0</th>\n",
       "      <td>0.23</td>\n",
       "      <td>3.95</td>\n",
       "      <td>3.98</td>\n",
       "      <td>2.43</td>\n",
       "      <td>55.0</td>\n",
       "      <td>61.5</td>\n",
       "      <td>326</td>\n",
       "      <td>354.04</td>\n",
       "    </tr>\n",
       "    <tr>\n",
       "      <th>1</th>\n",
       "      <td>0.21</td>\n",
       "      <td>3.89</td>\n",
       "      <td>3.84</td>\n",
       "      <td>2.31</td>\n",
       "      <td>61.0</td>\n",
       "      <td>59.8</td>\n",
       "      <td>326</td>\n",
       "      <td>354.04</td>\n",
       "    </tr>\n",
       "    <tr>\n",
       "      <th>2</th>\n",
       "      <td>0.23</td>\n",
       "      <td>4.05</td>\n",
       "      <td>4.07</td>\n",
       "      <td>2.31</td>\n",
       "      <td>65.0</td>\n",
       "      <td>56.9</td>\n",
       "      <td>327</td>\n",
       "      <td>355.12</td>\n",
       "    </tr>\n",
       "    <tr>\n",
       "      <th>3</th>\n",
       "      <td>0.29</td>\n",
       "      <td>4.20</td>\n",
       "      <td>4.23</td>\n",
       "      <td>2.63</td>\n",
       "      <td>58.0</td>\n",
       "      <td>62.4</td>\n",
       "      <td>334</td>\n",
       "      <td>362.72</td>\n",
       "    </tr>\n",
       "    <tr>\n",
       "      <th>4</th>\n",
       "      <td>0.31</td>\n",
       "      <td>4.34</td>\n",
       "      <td>4.35</td>\n",
       "      <td>2.75</td>\n",
       "      <td>58.0</td>\n",
       "      <td>63.3</td>\n",
       "      <td>335</td>\n",
       "      <td>363.81</td>\n",
       "    </tr>\n",
       "    <tr>\n",
       "      <th>...</th>\n",
       "      <td>...</td>\n",
       "      <td>...</td>\n",
       "      <td>...</td>\n",
       "      <td>...</td>\n",
       "      <td>...</td>\n",
       "      <td>...</td>\n",
       "      <td>...</td>\n",
       "      <td>...</td>\n",
       "    </tr>\n",
       "    <tr>\n",
       "      <th>53789</th>\n",
       "      <td>0.72</td>\n",
       "      <td>5.75</td>\n",
       "      <td>5.76</td>\n",
       "      <td>3.50</td>\n",
       "      <td>57.0</td>\n",
       "      <td>60.8</td>\n",
       "      <td>2757</td>\n",
       "      <td>2994.10</td>\n",
       "    </tr>\n",
       "    <tr>\n",
       "      <th>53790</th>\n",
       "      <td>0.72</td>\n",
       "      <td>5.69</td>\n",
       "      <td>5.75</td>\n",
       "      <td>3.61</td>\n",
       "      <td>55.0</td>\n",
       "      <td>63.1</td>\n",
       "      <td>2757</td>\n",
       "      <td>2994.10</td>\n",
       "    </tr>\n",
       "    <tr>\n",
       "      <th>53791</th>\n",
       "      <td>0.70</td>\n",
       "      <td>5.66</td>\n",
       "      <td>5.68</td>\n",
       "      <td>3.56</td>\n",
       "      <td>60.0</td>\n",
       "      <td>62.8</td>\n",
       "      <td>2757</td>\n",
       "      <td>2994.10</td>\n",
       "    </tr>\n",
       "    <tr>\n",
       "      <th>53792</th>\n",
       "      <td>0.86</td>\n",
       "      <td>6.15</td>\n",
       "      <td>6.12</td>\n",
       "      <td>3.74</td>\n",
       "      <td>58.0</td>\n",
       "      <td>61.0</td>\n",
       "      <td>2757</td>\n",
       "      <td>2994.10</td>\n",
       "    </tr>\n",
       "    <tr>\n",
       "      <th>53793</th>\n",
       "      <td>0.75</td>\n",
       "      <td>5.83</td>\n",
       "      <td>5.87</td>\n",
       "      <td>3.64</td>\n",
       "      <td>55.0</td>\n",
       "      <td>62.2</td>\n",
       "      <td>2757</td>\n",
       "      <td>2994.10</td>\n",
       "    </tr>\n",
       "  </tbody>\n",
       "</table>\n",
       "<p>53794 rows × 8 columns</p>\n",
       "</div>"
      ],
      "text/plain": [
       "       Carat  Crown Height (mm)  Girdle Diameter (mm)  Pavillion Depth (mm)  \\\n",
       "0       0.23               3.95                  3.98                  2.43   \n",
       "1       0.21               3.89                  3.84                  2.31   \n",
       "2       0.23               4.05                  4.07                  2.31   \n",
       "3       0.29               4.20                  4.23                  2.63   \n",
       "4       0.31               4.34                  4.35                  2.75   \n",
       "...      ...                ...                   ...                   ...   \n",
       "53789   0.72               5.75                  5.76                  3.50   \n",
       "53790   0.72               5.69                  5.75                  3.61   \n",
       "53791   0.70               5.66                  5.68                  3.56   \n",
       "53792   0.86               6.15                  6.12                  3.74   \n",
       "53793   0.75               5.83                  5.87                  3.64   \n",
       "\n",
       "       Table %  Total Depth %  Price  Price(2024)  \n",
       "0         55.0           61.5    326       354.04  \n",
       "1         61.0           59.8    326       354.04  \n",
       "2         65.0           56.9    327       355.12  \n",
       "3         58.0           62.4    334       362.72  \n",
       "4         58.0           63.3    335       363.81  \n",
       "...        ...            ...    ...          ...  \n",
       "53789     57.0           60.8   2757      2994.10  \n",
       "53790     55.0           63.1   2757      2994.10  \n",
       "53791     60.0           62.8   2757      2994.10  \n",
       "53792     58.0           61.0   2757      2994.10  \n",
       "53793     55.0           62.2   2757      2994.10  \n",
       "\n",
       "[53794 rows x 8 columns]"
      ]
     },
     "execution_count": 18,
     "metadata": {},
     "output_type": "execute_result"
    }
   ],
   "source": [
    "# Create a categorical dataset\n",
    "diamonds_num_df = diamonds_df[numericalColumns_list]\n",
    "\n",
    "# Verify the data\n",
    "diamonds_num_df"
   ]
  },
  {
   "cell_type": "markdown",
   "id": "6a6e40cb-182a-40e3-a12e-98b244d41c0d",
   "metadata": {},
   "source": [
    "### CENTRAL TENDENCY"
   ]
  },
  {
   "cell_type": "markdown",
   "id": "e4260ecf-bcfc-4b95-b53e-d2ef1775afef",
   "metadata": {},
   "source": [
    "The numerical values found in this dataset are all continuous in nature. Therefore; the mean, median, and mode can be extracted from each numerical feature."
   ]
  },
  {
   "cell_type": "code",
   "execution_count": 25,
   "id": "4198c2fa-2449-4a98-a367-aede4e560f74",
   "metadata": {},
   "outputs": [
    {
     "data": {
      "text/plain": [
       "['Carat',\n",
       " 'Crown Height (mm)',\n",
       " 'Girdle Diameter (mm)',\n",
       " 'Pavillion Depth (mm)',\n",
       " 'Table %',\n",
       " 'Total Depth %',\n",
       " 'Price',\n",
       " 'Price(2024)']"
      ]
     },
     "execution_count": 25,
     "metadata": {},
     "output_type": "execute_result"
    }
   ],
   "source": [
    "# Create a list of numerical features\n",
    "numericalFeatures_list = diamonds_num_df.columns.to_list()\n",
    "\n",
    "numericalFeatures_list"
   ]
  },
  {
   "cell_type": "code",
   "execution_count": 26,
   "id": "b404e409-cae2-4761-a4f1-1aaae7159a81",
   "metadata": {},
   "outputs": [],
   "source": [
    "# Create an interactive widget to help in graphing\n",
    "numericalFeatures_widget = widgets.Dropdown(\n",
    "    options = numericalFeatures_list,\n",
    "    value = numericalFeatures_list[0],\n",
    "    description = 'Feature:',\n",
    "    disabled = False,\n",
    ")"
   ]
  },
  {
   "cell_type": "code",
   "execution_count": 51,
   "id": "9a45b213-cf2f-4c05-abf4-90403a4cf3b4",
   "metadata": {},
   "outputs": [
    {
     "data": {
      "application/vnd.jupyter.widget-view+json": {
       "model_id": "4ec5b18dd44246d6ad40fb1f40817b12",
       "version_major": 2,
       "version_minor": 0
      },
      "text/plain": [
       "interactive(children=(Dropdown(description='Feature:', options=('Carat', 'Crown Height (mm)', 'Girdle Diameter…"
      ]
     },
     "metadata": {},
     "output_type": "display_data"
    }
   ],
   "source": [
    "# Create an interactive graph to help visualize numerical data\n",
    "@widgets.interact(numericalFeature = numericalFeatures_widget)\n",
    "def numercialInspector(numericalFeature):\n",
    "\n",
    "    fig = px.histogram(\n",
    "        diamonds_num_df, \n",
    "        x = numericalFeature\n",
    "    )\n",
    "\n",
    "    # Extract the mean of the dataset\n",
    "    mean =  diamonds_num_df[numericalFeature].mean()\n",
    "\n",
    "    fig.add_vline(\n",
    "        x = mean,\n",
    "        line_width = 2,\n",
    "        line_dash = 'solid',\n",
    "        line_color = 'red',\n",
    "        annotation_text = 'mean',\n",
    "        annotation_position = 'top right'\n",
    "    )\n",
    "\n",
    "    # Extract the median of the dataset\n",
    "    median =  diamonds_num_df[numericalFeature].median()\n",
    "\n",
    "    fig.add_vline(\n",
    "        x = median,\n",
    "        line_width = 2,\n",
    "        line_dash = 'dash',\n",
    "        line_color = 'black',\n",
    "        annotation_text = 'median',\n",
    "        annotation_position = 'top left'\n",
    "    )\n",
    "    \n",
    "    # Extract the mode of the dataset\n",
    "    mode =  diamonds_num_df[numericalFeature].mode()[0]\n",
    "\n",
    "    fig.add_vline(\n",
    "        x = mode,\n",
    "        line_width = 2,\n",
    "        line_dash = 'dash',\n",
    "        line_color = 'black',\n",
    "        annotation_text = 'mode',\n",
    "        annotation_position = 'top left'\n",
    "    \n",
    "    )\n",
    "\n",
    "    # Create a graph title\n",
    "    graphTitle = f\"Mode: {mode}\"\n",
    "\n",
    "    # Update the graph\n",
    "    fig.update_layout(\n",
    "        title_text = graphTitle,\n",
    "        yaxis_title_text = 'Total Counts', # yaxis label\n",
    "        height = 600,\n",
    "        width = 800\n",
    "    )\n",
    "\n",
    "    # Display the results\n",
    "    return fig.show()"
   ]
  },
  {
   "cell_type": "code",
   "execution_count": 31,
   "id": "eef2a30b-7c6f-4f25-a031-0c6f2ba8572c",
   "metadata": {},
   "outputs": [
    {
     "data": {
      "text/plain": [
       "0.3"
      ]
     },
     "execution_count": 31,
     "metadata": {},
     "output_type": "execute_result"
    }
   ],
   "source": [
    "# Extract the mode of the dataset\n",
    "mode =  diamonds_num_df['Carat'].mode()[0]\n",
    "\n",
    "mode"
   ]
  },
  {
   "cell_type": "code",
   "execution_count": 32,
   "id": "25f52095-5152-40af-87bd-2a679d7a71e2",
   "metadata": {},
   "outputs": [
    {
     "data": {
      "text/plain": [
       "0.7"
      ]
     },
     "execution_count": 32,
     "metadata": {},
     "output_type": "execute_result"
    }
   ],
   "source": [
    "# Extract the median of the dataset\n",
    "median =  diamonds_num_df['Carat'].median()\n",
    "\n",
    "median"
   ]
  },
  {
   "cell_type": "code",
   "execution_count": 33,
   "id": "14ef89d1-f754-4cd1-afc4-8dce986516f3",
   "metadata": {},
   "outputs": [
    {
     "data": {
      "text/plain": [
       "0.7977800498196824"
      ]
     },
     "execution_count": 33,
     "metadata": {},
     "output_type": "execute_result"
    }
   ],
   "source": [
    "# Extract the mean of the dataset\n",
    "mean =  diamonds_num_df['Carat'].mean()\n",
    "\n",
    "mean"
   ]
  },
  {
   "cell_type": "code",
   "execution_count": null,
   "id": "8bfd77ee-1bfa-4f29-bc38-2a36704a506a",
   "metadata": {},
   "outputs": [],
   "source": [
    "fig.add_vline()"
   ]
  },
  {
   "cell_type": "code",
   "execution_count": null,
   "id": "6d2bb904-f6b1-445f-a6ec-105fbe345334",
   "metadata": {},
   "outputs": [],
   "source": []
  },
  {
   "cell_type": "code",
   "execution_count": null,
   "id": "d538fdc6-bc4e-4f72-8dd8-fdcf89b7d21c",
   "metadata": {},
   "outputs": [],
   "source": []
  },
  {
   "cell_type": "code",
   "execution_count": null,
   "id": "72e9b988-9b9b-4106-b04f-433d48d70039",
   "metadata": {},
   "outputs": [],
   "source": []
  },
  {
   "cell_type": "code",
   "execution_count": null,
   "id": "a322a1ed-33b0-4dfe-b2c3-7f41fdf332c4",
   "metadata": {},
   "outputs": [],
   "source": []
  },
  {
   "cell_type": "code",
   "execution_count": null,
   "id": "f60e7751-b53d-48b0-97f6-f945f4f2adba",
   "metadata": {},
   "outputs": [],
   "source": []
  },
  {
   "cell_type": "code",
   "execution_count": null,
   "id": "b00030c8-93af-42d5-9f84-b229d777d5d3",
   "metadata": {},
   "outputs": [],
   "source": []
  },
  {
   "cell_type": "code",
   "execution_count": null,
   "id": "31333bf8-ca6a-4d99-848d-e1defd585db5",
   "metadata": {},
   "outputs": [],
   "source": [
    "x = diamonds_num_df['Carat']"
   ]
  },
  {
   "cell_type": "code",
   "execution_count": null,
   "id": "10f96691-1544-41b8-85ef-49bb1ed06852",
   "metadata": {},
   "outputs": [],
   "source": [
    "hist_data = [x]"
   ]
  },
  {
   "cell_type": "code",
   "execution_count": null,
   "id": "5ae17a6c-2309-4a49-9c9b-e18985b3ae73",
   "metadata": {},
   "outputs": [],
   "source": [
    "group_labels = ['Carat'] # name of the dataset"
   ]
  },
  {
   "cell_type": "code",
   "execution_count": null,
   "id": "159c7b19-871d-4559-ae85-688057382d8a",
   "metadata": {},
   "outputs": [],
   "source": [
    "fig = ff.create_distplot(\n",
    "    hist_data, \n",
    "    group_labels,\n",
    "    #bin_size = 6\n",
    ")"
   ]
  },
  {
   "cell_type": "code",
   "execution_count": null,
   "id": "fde3883b-8c6e-470d-b0a4-2d37744132c6",
   "metadata": {},
   "outputs": [],
   "source": [
    "fig.show()"
   ]
  },
  {
   "cell_type": "code",
   "execution_count": null,
   "id": "42f8de90-5018-4697-a810-4341db554751",
   "metadata": {},
   "outputs": [],
   "source": []
  },
  {
   "cell_type": "code",
   "execution_count": null,
   "id": "251af7ec-97fe-4a04-93f8-665dae87a508",
   "metadata": {},
   "outputs": [],
   "source": []
  },
  {
   "cell_type": "code",
   "execution_count": null,
   "id": "b0d379c7-edbe-45d1-a598-9194328eb7b0",
   "metadata": {},
   "outputs": [],
   "source": []
  },
  {
   "cell_type": "code",
   "execution_count": null,
   "id": "e4862893-13a3-4e93-ae6d-5a29e0a15c7b",
   "metadata": {},
   "outputs": [],
   "source": []
  },
  {
   "cell_type": "code",
   "execution_count": null,
   "id": "2b8f2e92-a599-43f1-8295-bb6665589232",
   "metadata": {},
   "outputs": [],
   "source": []
  },
  {
   "cell_type": "code",
   "execution_count": null,
   "id": "615ae1b6-bc00-4f82-8aeb-cbe80bc82825",
   "metadata": {},
   "outputs": [],
   "source": []
  },
  {
   "cell_type": "markdown",
   "id": "a57beef4-237f-483b-bac5-a37d441ddc85",
   "metadata": {},
   "source": [
    "### CENTRAL TENDENCY"
   ]
  },
  {
   "cell_type": "markdown",
   "id": "fcaee93e-b565-44e0-a8c2-e5e23fbad7fb",
   "metadata": {},
   "source": [
    "###TODO: UPDATE TEXT BELOW FOR NUMERICAL\n",
    "\n",
    "The categorical values found in this dataset are related to diamond grading. Therefore; these categories are all ordinal values. This implies that only the mode, and perhaps median values, can be extracted from each feature.\n",
    "\n",
    "The following scripts will prepare the dataset so that "
   ]
  },
  {
   "cell_type": "code",
   "execution_count": null,
   "id": "36df9c39-dcce-4e4d-8e89-39c65e19679c",
   "metadata": {},
   "outputs": [],
   "source": []
  }
 ],
 "metadata": {
  "kernelspec": {
   "display_name": "Python 3 (ipykernel)",
   "language": "python",
   "name": "python3"
  },
  "language_info": {
   "codemirror_mode": {
    "name": "ipython",
    "version": 3
   },
   "file_extension": ".py",
   "mimetype": "text/x-python",
   "name": "python",
   "nbconvert_exporter": "python",
   "pygments_lexer": "ipython3",
   "version": "3.11.2"
  }
 },
 "nbformat": 4,
 "nbformat_minor": 5
}
