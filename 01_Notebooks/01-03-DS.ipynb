{
 "cells": [
  {
   "cell_type": "markdown",
   "id": "3e057e9f-7f2e-421d-bfe5-6342143cea95",
   "metadata": {},
   "source": [
    "<h1 style='color:rgb(52, 152, 219)'; align=center><font size = 8> DIAMOND PRICES - ANALYSIS AND MODELING </font></h1>\n",
    "\n",
    "<h2 style='color:rgb(52, 152, 219)'; align=left><font size = 6> NOTEBOOK 01-03: DESCRIPTIVE STATISTICS </font></h2>"
   ]
  },
  {
   "cell_type": "markdown",
   "id": "1a5eda06-8c09-440c-8922-78699021a777",
   "metadata": {},
   "source": [
    "# REVISION HISTORY"
   ]
  },
  {
   "cell_type": "markdown",
   "id": "ce45502f-b49a-42e3-87ca-05333bcc0ffb",
   "metadata": {},
   "source": [
    "| REV | DESCRIPTION             | DATE         |  BY   | CHECK | APPROVE  |\n",
    "|:---:|:-----------------------:|:------------:|:-----:|:-----:|:--------:|\n",
    "| A0  | ISSUED FOR REVIEW (IFR) | 2024-APR-XX  |  IAC  |       |          |\n",
    "|     |                         |              |       |       |          |"
   ]
  },
  {
   "cell_type": "markdown",
   "id": "e1807a41-064b-42c4-a993-88d06ed043a7",
   "metadata": {},
   "source": [
    "## DETAILED DESCRIPTION OF REVISIONS"
   ]
  },
  {
   "cell_type": "markdown",
   "id": "5b551dd0-13c8-48fd-a9b3-c01262d65ccb",
   "metadata": {},
   "source": [
    "> **REV A0** - HOLD"
   ]
  },
  {
   "cell_type": "markdown",
   "id": "14b3c67d-9ffb-4a8c-a1b6-7a0ada99fe60",
   "metadata": {},
   "source": [
    "# INTRODUCTION"
   ]
  },
  {
   "cell_type": "markdown",
   "id": "c045726d-e6ac-4230-9c32-847fc6ffec7f",
   "metadata": {},
   "source": [
    "Descriptive statistics summarizes and organizes the characteristics of a dataset. "
   ]
  },
  {
   "cell_type": "markdown",
   "id": "9a99c741-a58c-45b6-82b7-c5b61fcb7048",
   "metadata": {},
   "source": [
    "## DESCRIPTIVE STATISTICS STEPS\n",
    "\n",
    "Below are the descriptive statistics steps performed in this notebook:\n",
    "\n",
    "1. [X] **Measures of Central Tendency:** Calculate descriptive statistics such as mean, median, and mode to understand the central tendency of the data.\n",
    "2. [ ] **Measures of Dispersion:** Compute measures like standard deviation, variance, and range to assess the spread or variability of the data.\n",
    "3. [ ] **Frequency Distributions:** Create frequency tables or histograms to visualize the distribution of categorical and numerical variables.\n",
    "4. [ ] **Percentiles:** Calculate percentiles to identify specific data points' position within the dataset.\n",
    "5. [ ] **Skewness and Kurtosis:** Skewness measures the asymmetry of the distribution, indicating whether the data is skewed to the left or right. Kurtosis measures the peakedness or flatness of the distribution.\n",
    "6. [ ] **Outlier Management:** Identify and manage outliers.\n",
    "7. [ ] **Correlation Analysis:** Compute correlation coefficients to understand the relationships between pairs of variables."
   ]
  },
  {
   "cell_type": "markdown",
   "id": "027301fe-02bd-4b12-8e2c-f3ebad0cead0",
   "metadata": {},
   "source": [
    "# REQUIRED LIBRARIES"
   ]
  },
  {
   "cell_type": "markdown",
   "id": "68517abc-4fdc-4ea4-bb7f-065902a277fa",
   "metadata": {},
   "source": [
    "The following libraries are required to run this notebook."
   ]
  },
  {
   "cell_type": "code",
   "execution_count": 1,
   "id": "15598467-92e3-471a-8f74-bf15121155d9",
   "metadata": {},
   "outputs": [],
   "source": [
    "# Library to create and handle a tabular dataset\n",
    "import pandas as pd"
   ]
  },
  {
   "cell_type": "code",
   "execution_count": 2,
   "id": "46630a2d-9a09-4320-87b9-6c6ac20c723f",
   "metadata": {},
   "outputs": [],
   "source": [
    "# Library to plot graphs\n",
    "import plotly.express as px"
   ]
  },
  {
   "cell_type": "code",
   "execution_count": 3,
   "id": "75949430-cb85-4d8d-bc66-b17ce6b29fa7",
   "metadata": {},
   "outputs": [],
   "source": [
    "# Use the scikit-learn Library to create categorical and numerical features\n",
    "from sklearn.compose import make_column_selector as selector"
   ]
  },
  {
   "cell_type": "code",
   "execution_count": 4,
   "id": "e03eba10-a8f6-4951-8c15-0341272806b4",
   "metadata": {},
   "outputs": [],
   "source": [
    "# Library used to create interactive controls\n",
    "import ipywidgets as widgets"
   ]
  },
  {
   "cell_type": "markdown",
   "id": "695e7200-7b34-44b1-a030-c80ef80b74f2",
   "metadata": {},
   "source": [
    "# LOAD DATASET"
   ]
  },
  {
   "cell_type": "markdown",
   "id": "916b0128-b33e-42b9-8b35-1e8fa8050ad4",
   "metadata": {},
   "source": [
    "The scripts to load this dataset are:"
   ]
  },
  {
   "cell_type": "code",
   "execution_count": 5,
   "id": "7da5e812-eed1-4ad2-beba-2d46db819cf2",
   "metadata": {},
   "outputs": [],
   "source": [
    "# Path to the dataset\n",
    "filePath = \"./../00_Data/00_Datasets/\""
   ]
  },
  {
   "cell_type": "code",
   "execution_count": 6,
   "id": "77b0dc15-9eca-4f16-b976-ce53a2296ed4",
   "metadata": {},
   "outputs": [],
   "source": [
    "# Filename\n",
    "diamondsCSVFilename = 'diamonds_DM.csv'"
   ]
  },
  {
   "cell_type": "code",
   "execution_count": 7,
   "id": "55601ea6-7bbb-4ae5-9959-49a3308f0239",
   "metadata": {},
   "outputs": [
    {
     "data": {
      "text/html": [
       "<div>\n",
       "<style scoped>\n",
       "    .dataframe tbody tr th:only-of-type {\n",
       "        vertical-align: middle;\n",
       "    }\n",
       "\n",
       "    .dataframe tbody tr th {\n",
       "        vertical-align: top;\n",
       "    }\n",
       "\n",
       "    .dataframe thead th {\n",
       "        text-align: right;\n",
       "    }\n",
       "</style>\n",
       "<table border=\"1\" class=\"dataframe\">\n",
       "  <thead>\n",
       "    <tr style=\"text-align: right;\">\n",
       "      <th></th>\n",
       "      <th>Carat</th>\n",
       "      <th>Diamond Type</th>\n",
       "      <th>Cut</th>\n",
       "      <th>Crown Height (mm)</th>\n",
       "      <th>Girdle Diameter (mm)</th>\n",
       "      <th>Pavillion Depth (mm)</th>\n",
       "      <th>Table %</th>\n",
       "      <th>Total Depth %</th>\n",
       "      <th>Color</th>\n",
       "      <th>Color Grades</th>\n",
       "      <th>Clarity</th>\n",
       "      <th>Price</th>\n",
       "      <th>Price(2024)</th>\n",
       "    </tr>\n",
       "  </thead>\n",
       "  <tbody>\n",
       "    <tr>\n",
       "      <th>0</th>\n",
       "      <td>0.23</td>\n",
       "      <td>Small Diamond</td>\n",
       "      <td>Ideal</td>\n",
       "      <td>3.95</td>\n",
       "      <td>3.98</td>\n",
       "      <td>2.43</td>\n",
       "      <td>55.0</td>\n",
       "      <td>61.5</td>\n",
       "      <td>E</td>\n",
       "      <td>Colorless</td>\n",
       "      <td>SI2</td>\n",
       "      <td>326</td>\n",
       "      <td>354.04</td>\n",
       "    </tr>\n",
       "    <tr>\n",
       "      <th>1</th>\n",
       "      <td>0.21</td>\n",
       "      <td>Small Diamond</td>\n",
       "      <td>Excellent</td>\n",
       "      <td>3.89</td>\n",
       "      <td>3.84</td>\n",
       "      <td>2.31</td>\n",
       "      <td>61.0</td>\n",
       "      <td>59.8</td>\n",
       "      <td>E</td>\n",
       "      <td>Colorless</td>\n",
       "      <td>SI1</td>\n",
       "      <td>326</td>\n",
       "      <td>354.04</td>\n",
       "    </tr>\n",
       "    <tr>\n",
       "      <th>2</th>\n",
       "      <td>0.23</td>\n",
       "      <td>Small Diamond</td>\n",
       "      <td>Good</td>\n",
       "      <td>4.05</td>\n",
       "      <td>4.07</td>\n",
       "      <td>2.31</td>\n",
       "      <td>65.0</td>\n",
       "      <td>56.9</td>\n",
       "      <td>E</td>\n",
       "      <td>Colorless</td>\n",
       "      <td>VS1</td>\n",
       "      <td>327</td>\n",
       "      <td>355.12</td>\n",
       "    </tr>\n",
       "    <tr>\n",
       "      <th>3</th>\n",
       "      <td>0.29</td>\n",
       "      <td>Small Diamond</td>\n",
       "      <td>Excellent</td>\n",
       "      <td>4.20</td>\n",
       "      <td>4.23</td>\n",
       "      <td>2.63</td>\n",
       "      <td>58.0</td>\n",
       "      <td>62.4</td>\n",
       "      <td>I</td>\n",
       "      <td>Near Colorless</td>\n",
       "      <td>VS2</td>\n",
       "      <td>334</td>\n",
       "      <td>362.72</td>\n",
       "    </tr>\n",
       "    <tr>\n",
       "      <th>4</th>\n",
       "      <td>0.31</td>\n",
       "      <td>Medium Diamond</td>\n",
       "      <td>Good</td>\n",
       "      <td>4.34</td>\n",
       "      <td>4.35</td>\n",
       "      <td>2.75</td>\n",
       "      <td>58.0</td>\n",
       "      <td>63.3</td>\n",
       "      <td>J</td>\n",
       "      <td>Near Colorless</td>\n",
       "      <td>SI2</td>\n",
       "      <td>335</td>\n",
       "      <td>363.81</td>\n",
       "    </tr>\n",
       "    <tr>\n",
       "      <th>...</th>\n",
       "      <td>...</td>\n",
       "      <td>...</td>\n",
       "      <td>...</td>\n",
       "      <td>...</td>\n",
       "      <td>...</td>\n",
       "      <td>...</td>\n",
       "      <td>...</td>\n",
       "      <td>...</td>\n",
       "      <td>...</td>\n",
       "      <td>...</td>\n",
       "      <td>...</td>\n",
       "      <td>...</td>\n",
       "      <td>...</td>\n",
       "    </tr>\n",
       "    <tr>\n",
       "      <th>53789</th>\n",
       "      <td>0.72</td>\n",
       "      <td>Medium Diamond</td>\n",
       "      <td>Ideal</td>\n",
       "      <td>5.75</td>\n",
       "      <td>5.76</td>\n",
       "      <td>3.50</td>\n",
       "      <td>57.0</td>\n",
       "      <td>60.8</td>\n",
       "      <td>D</td>\n",
       "      <td>Colorless</td>\n",
       "      <td>SI1</td>\n",
       "      <td>2757</td>\n",
       "      <td>2994.10</td>\n",
       "    </tr>\n",
       "    <tr>\n",
       "      <th>53790</th>\n",
       "      <td>0.72</td>\n",
       "      <td>Medium Diamond</td>\n",
       "      <td>Good</td>\n",
       "      <td>5.69</td>\n",
       "      <td>5.75</td>\n",
       "      <td>3.61</td>\n",
       "      <td>55.0</td>\n",
       "      <td>63.1</td>\n",
       "      <td>D</td>\n",
       "      <td>Colorless</td>\n",
       "      <td>SI1</td>\n",
       "      <td>2757</td>\n",
       "      <td>2994.10</td>\n",
       "    </tr>\n",
       "    <tr>\n",
       "      <th>53791</th>\n",
       "      <td>0.70</td>\n",
       "      <td>Medium Diamond</td>\n",
       "      <td>Very Good</td>\n",
       "      <td>5.66</td>\n",
       "      <td>5.68</td>\n",
       "      <td>3.56</td>\n",
       "      <td>60.0</td>\n",
       "      <td>62.8</td>\n",
       "      <td>D</td>\n",
       "      <td>Colorless</td>\n",
       "      <td>SI1</td>\n",
       "      <td>2757</td>\n",
       "      <td>2994.10</td>\n",
       "    </tr>\n",
       "    <tr>\n",
       "      <th>53792</th>\n",
       "      <td>0.86</td>\n",
       "      <td>Medium Diamond</td>\n",
       "      <td>Excellent</td>\n",
       "      <td>6.15</td>\n",
       "      <td>6.12</td>\n",
       "      <td>3.74</td>\n",
       "      <td>58.0</td>\n",
       "      <td>61.0</td>\n",
       "      <td>H</td>\n",
       "      <td>Near Colorless</td>\n",
       "      <td>SI2</td>\n",
       "      <td>2757</td>\n",
       "      <td>2994.10</td>\n",
       "    </tr>\n",
       "    <tr>\n",
       "      <th>53793</th>\n",
       "      <td>0.75</td>\n",
       "      <td>Medium Diamond</td>\n",
       "      <td>Ideal</td>\n",
       "      <td>5.83</td>\n",
       "      <td>5.87</td>\n",
       "      <td>3.64</td>\n",
       "      <td>55.0</td>\n",
       "      <td>62.2</td>\n",
       "      <td>D</td>\n",
       "      <td>Colorless</td>\n",
       "      <td>SI2</td>\n",
       "      <td>2757</td>\n",
       "      <td>2994.10</td>\n",
       "    </tr>\n",
       "  </tbody>\n",
       "</table>\n",
       "<p>53794 rows × 13 columns</p>\n",
       "</div>"
      ],
      "text/plain": [
       "       Carat    Diamond Type        Cut  Crown Height (mm)  \\\n",
       "0       0.23   Small Diamond      Ideal               3.95   \n",
       "1       0.21   Small Diamond  Excellent               3.89   \n",
       "2       0.23   Small Diamond       Good               4.05   \n",
       "3       0.29   Small Diamond  Excellent               4.20   \n",
       "4       0.31  Medium Diamond       Good               4.34   \n",
       "...      ...             ...        ...                ...   \n",
       "53789   0.72  Medium Diamond      Ideal               5.75   \n",
       "53790   0.72  Medium Diamond       Good               5.69   \n",
       "53791   0.70  Medium Diamond  Very Good               5.66   \n",
       "53792   0.86  Medium Diamond  Excellent               6.15   \n",
       "53793   0.75  Medium Diamond      Ideal               5.83   \n",
       "\n",
       "       Girdle Diameter (mm)  Pavillion Depth (mm)  Table %  Total Depth %  \\\n",
       "0                      3.98                  2.43     55.0           61.5   \n",
       "1                      3.84                  2.31     61.0           59.8   \n",
       "2                      4.07                  2.31     65.0           56.9   \n",
       "3                      4.23                  2.63     58.0           62.4   \n",
       "4                      4.35                  2.75     58.0           63.3   \n",
       "...                     ...                   ...      ...            ...   \n",
       "53789                  5.76                  3.50     57.0           60.8   \n",
       "53790                  5.75                  3.61     55.0           63.1   \n",
       "53791                  5.68                  3.56     60.0           62.8   \n",
       "53792                  6.12                  3.74     58.0           61.0   \n",
       "53793                  5.87                  3.64     55.0           62.2   \n",
       "\n",
       "      Color    Color Grades Clarity  Price  Price(2024)  \n",
       "0         E       Colorless     SI2    326       354.04  \n",
       "1         E       Colorless     SI1    326       354.04  \n",
       "2         E       Colorless     VS1    327       355.12  \n",
       "3         I  Near Colorless     VS2    334       362.72  \n",
       "4         J  Near Colorless     SI2    335       363.81  \n",
       "...     ...             ...     ...    ...          ...  \n",
       "53789     D       Colorless     SI1   2757      2994.10  \n",
       "53790     D       Colorless     SI1   2757      2994.10  \n",
       "53791     D       Colorless     SI1   2757      2994.10  \n",
       "53792     H  Near Colorless     SI2   2757      2994.10  \n",
       "53793     D       Colorless     SI2   2757      2994.10  \n",
       "\n",
       "[53794 rows x 13 columns]"
      ]
     },
     "execution_count": 7,
     "metadata": {},
     "output_type": "execute_result"
    }
   ],
   "source": [
    "# Create a data frame\n",
    "diamonds_df = pd.read_csv(\n",
    "    filePath + diamondsCSVFilename,\n",
    "    index_col = None\n",
    ")\n",
    "\n",
    "# Display the newly created data frame\n",
    "diamonds_df"
   ]
  },
  {
   "cell_type": "markdown",
   "id": "5e36233a-c6da-4dee-8316-55985fbc4097",
   "metadata": {},
   "source": [
    "# MEASURE OF CENTRAL TENDENCY"
   ]
  },
  {
   "cell_type": "markdown",
   "id": "1e294431-c152-4d0e-b6b2-ea95ac21f96a",
   "metadata": {},
   "source": [
    "The measure of central tendency are values that represents the center point of a dataset. The center point can be thought of as the most common values. In statistics, the measure of central tendency is described in terms of: an average value (`mean`), the middle value (`median`), and the most common values (`mode`). \n",
    "\n",
    "Choosing a measure of central tendency depends on whether you're dealing with categorical or numerical values. Below are the differences between the categorical and numerical values:\n",
    "\n",
    "**Categorical Data**:\n",
    "- **Mode**: In categorical data, the mode is often the most relevant measure of central tendency. It represents the most frequently occurring category or class within the dataset.\n",
    "\n",
    "**Numerical Data**:\n",
    "* **Mean**: The mean is a common measure of central tendency for numerical data. It is calculated by summing all the values in the dataset and then dividing by the total number of values. The mean is sensitive to extreme values, also known as outliers, and provides a balance point for the data distribution.\n",
    "* **Median**: The median is another measure of central tendency for numerical data. It represents the middle value when the data is arranged in ascending or descending order. Unlike the mean, the median is not influenced by extreme values, making it more robust in the presence of outliers.\n",
    "* **Mode**: Similar to categorical data, the mode can also be used for numerical data, indicating the most frequent value.\n",
    "\n",
    "<div class=\"alert alert-info\" role=\"alert\">\n",
    "  <h3 class=\"alert-heading\">NOTE:</h3>\n",
    "  <p>In order to perform this analysis, we are going to need to split the dataset between categorical and numerical features. The process to split the dataset will be shown below.</p>\n",
    "</div>\n",
    "\n",
    "**Dataset splitting method**: There are many ways to split a dataset between categorical and numerical features. The method below will use the [scikit-learn column transformer library](https://scikit-learn.org/stable/modules/generated/sklearn.compose.make_column_selector.html#sklearn.compose.make_column_selector) to create a categorical and numerical datasets. This method was chosen because it will be the same method used to split the dataset between categorical vs. numerical features during the predictive analytics phase."
   ]
  },
  {
   "cell_type": "markdown",
   "id": "aa5a042a-188e-4903-aa8d-e5c23f825074",
   "metadata": {},
   "source": [
    "## CATEGORICAL DATA"
   ]
  },
  {
   "cell_type": "markdown",
   "id": "b0e6ba41-7d56-4166-805e-a9167369bb18",
   "metadata": {},
   "source": [
    "For categorical data, finding the **mode** is the most common measure of central tendency, especially for ordinal data types. Howeer; you might be able to determine a **median**, and even a **mean** in some cases, for the nominal data types. "
   ]
  },
  {
   "cell_type": "code",
   "execution_count": 8,
   "id": "fcdadeb3-9ac5-42b6-b373-c2850e5f3428",
   "metadata": {},
   "outputs": [],
   "source": [
    "# Create an object that will output a list of categorical columns from a dataset\n",
    "categoricalColumnsSlctr_obj = selector(\n",
    "    dtype_include = object\n",
    ")"
   ]
  },
  {
   "cell_type": "code",
   "execution_count": 9,
   "id": "e718dcbb-c5a6-4c5c-930d-9e070c8d5253",
   "metadata": {},
   "outputs": [],
   "source": [
    "# Create a list of categorical columns\n",
    "categoricalColumns_list = categoricalColumnsSlctr_obj(diamonds_df)"
   ]
  },
  {
   "cell_type": "code",
   "execution_count": 10,
   "id": "ae36f88c-92d1-4a00-ae16-2d09b10c036f",
   "metadata": {},
   "outputs": [
    {
     "data": {
      "text/html": [
       "<div>\n",
       "<style scoped>\n",
       "    .dataframe tbody tr th:only-of-type {\n",
       "        vertical-align: middle;\n",
       "    }\n",
       "\n",
       "    .dataframe tbody tr th {\n",
       "        vertical-align: top;\n",
       "    }\n",
       "\n",
       "    .dataframe thead th {\n",
       "        text-align: right;\n",
       "    }\n",
       "</style>\n",
       "<table border=\"1\" class=\"dataframe\">\n",
       "  <thead>\n",
       "    <tr style=\"text-align: right;\">\n",
       "      <th></th>\n",
       "      <th>Diamond Type</th>\n",
       "      <th>Cut</th>\n",
       "      <th>Color</th>\n",
       "      <th>Color Grades</th>\n",
       "      <th>Clarity</th>\n",
       "    </tr>\n",
       "  </thead>\n",
       "  <tbody>\n",
       "    <tr>\n",
       "      <th>0</th>\n",
       "      <td>Small Diamond</td>\n",
       "      <td>Ideal</td>\n",
       "      <td>E</td>\n",
       "      <td>Colorless</td>\n",
       "      <td>SI2</td>\n",
       "    </tr>\n",
       "    <tr>\n",
       "      <th>1</th>\n",
       "      <td>Small Diamond</td>\n",
       "      <td>Excellent</td>\n",
       "      <td>E</td>\n",
       "      <td>Colorless</td>\n",
       "      <td>SI1</td>\n",
       "    </tr>\n",
       "    <tr>\n",
       "      <th>2</th>\n",
       "      <td>Small Diamond</td>\n",
       "      <td>Good</td>\n",
       "      <td>E</td>\n",
       "      <td>Colorless</td>\n",
       "      <td>VS1</td>\n",
       "    </tr>\n",
       "    <tr>\n",
       "      <th>3</th>\n",
       "      <td>Small Diamond</td>\n",
       "      <td>Excellent</td>\n",
       "      <td>I</td>\n",
       "      <td>Near Colorless</td>\n",
       "      <td>VS2</td>\n",
       "    </tr>\n",
       "    <tr>\n",
       "      <th>4</th>\n",
       "      <td>Medium Diamond</td>\n",
       "      <td>Good</td>\n",
       "      <td>J</td>\n",
       "      <td>Near Colorless</td>\n",
       "      <td>SI2</td>\n",
       "    </tr>\n",
       "    <tr>\n",
       "      <th>...</th>\n",
       "      <td>...</td>\n",
       "      <td>...</td>\n",
       "      <td>...</td>\n",
       "      <td>...</td>\n",
       "      <td>...</td>\n",
       "    </tr>\n",
       "    <tr>\n",
       "      <th>53789</th>\n",
       "      <td>Medium Diamond</td>\n",
       "      <td>Ideal</td>\n",
       "      <td>D</td>\n",
       "      <td>Colorless</td>\n",
       "      <td>SI1</td>\n",
       "    </tr>\n",
       "    <tr>\n",
       "      <th>53790</th>\n",
       "      <td>Medium Diamond</td>\n",
       "      <td>Good</td>\n",
       "      <td>D</td>\n",
       "      <td>Colorless</td>\n",
       "      <td>SI1</td>\n",
       "    </tr>\n",
       "    <tr>\n",
       "      <th>53791</th>\n",
       "      <td>Medium Diamond</td>\n",
       "      <td>Very Good</td>\n",
       "      <td>D</td>\n",
       "      <td>Colorless</td>\n",
       "      <td>SI1</td>\n",
       "    </tr>\n",
       "    <tr>\n",
       "      <th>53792</th>\n",
       "      <td>Medium Diamond</td>\n",
       "      <td>Excellent</td>\n",
       "      <td>H</td>\n",
       "      <td>Near Colorless</td>\n",
       "      <td>SI2</td>\n",
       "    </tr>\n",
       "    <tr>\n",
       "      <th>53793</th>\n",
       "      <td>Medium Diamond</td>\n",
       "      <td>Ideal</td>\n",
       "      <td>D</td>\n",
       "      <td>Colorless</td>\n",
       "      <td>SI2</td>\n",
       "    </tr>\n",
       "  </tbody>\n",
       "</table>\n",
       "<p>53794 rows × 5 columns</p>\n",
       "</div>"
      ],
      "text/plain": [
       "         Diamond Type        Cut Color    Color Grades Clarity\n",
       "0       Small Diamond      Ideal     E       Colorless     SI2\n",
       "1       Small Diamond  Excellent     E       Colorless     SI1\n",
       "2       Small Diamond       Good     E       Colorless     VS1\n",
       "3       Small Diamond  Excellent     I  Near Colorless     VS2\n",
       "4      Medium Diamond       Good     J  Near Colorless     SI2\n",
       "...               ...        ...   ...             ...     ...\n",
       "53789  Medium Diamond      Ideal     D       Colorless     SI1\n",
       "53790  Medium Diamond       Good     D       Colorless     SI1\n",
       "53791  Medium Diamond  Very Good     D       Colorless     SI1\n",
       "53792  Medium Diamond  Excellent     H  Near Colorless     SI2\n",
       "53793  Medium Diamond      Ideal     D       Colorless     SI2\n",
       "\n",
       "[53794 rows x 5 columns]"
      ]
     },
     "execution_count": 10,
     "metadata": {},
     "output_type": "execute_result"
    }
   ],
   "source": [
    "# Create a categorical dataset of just categorical features\n",
    "diamonds_cat_df = diamonds_df[categoricalColumns_list]\n",
    "\n",
    "# Verify the data\n",
    "diamonds_cat_df"
   ]
  },
  {
   "cell_type": "markdown",
   "id": "4c90e596-077b-48c6-8bd4-065395f184bf",
   "metadata": {},
   "source": [
    "### CENTRAL TENDENCY"
   ]
  },
  {
   "cell_type": "markdown",
   "id": "def01462-8cfc-418a-b11e-3f8c75c0a7a3",
   "metadata": {},
   "source": [
    "The categorical values found in this dataset are all ordinal values. They are all related to grading a diamond. This implies that the only central tendency that can be extracted is the **mode**.\n",
    "\n",
    "The following scripts graphically display the mode of each categorical feature. "
   ]
  },
  {
   "cell_type": "code",
   "execution_count": 11,
   "id": "1e359e3a-09f8-4285-bacc-f85f9ba708e9",
   "metadata": {},
   "outputs": [],
   "source": [
    "# Create an interactive widget to help in graphing\n",
    "categoricalFeatures_widget = widgets.Dropdown(\n",
    "    options = categoricalColumns_list,\n",
    "    value = categoricalColumns_list[0],\n",
    "    description = 'Feature:',\n",
    "    disabled = False,\n",
    ")"
   ]
  },
  {
   "cell_type": "code",
   "execution_count": 12,
   "id": "ae92ea7d-4305-402d-8ad5-7851e436b42e",
   "metadata": {},
   "outputs": [],
   "source": [
    "# Sort categories from most valuable to least\n",
    "sortOrder_dict = {\n",
    "    'Cut' : ['Ideal', 'Excellent', 'Very Good', 'Good', 'Fair'],\n",
    "    'Color' : sorted(diamonds_cat_df['Color'].unique().tolist()),\n",
    "    'Clarity' : ['IF', 'VVS1', 'VVS2', 'VS1', 'VS2', 'SI1', 'SI2', 'I1'],\n",
    "}"
   ]
  },
  {
   "cell_type": "code",
   "execution_count": 13,
   "id": "b3d0ee12-1daf-4a10-8ed5-075b81897aaa",
   "metadata": {},
   "outputs": [
    {
     "data": {
      "application/vnd.jupyter.widget-view+json": {
       "model_id": "7473e2a579f94745a06900e9a3351751",
       "version_major": 2,
       "version_minor": 0
      },
      "text/plain": [
       "interactive(children=(Dropdown(description='Feature:', options=('Diamond Type', 'Cut', 'Color', 'Color Grades'…"
      ]
     },
     "metadata": {},
     "output_type": "display_data"
    }
   ],
   "source": [
    "# Create an interactive graph to help visualize categorical data\n",
    "@widgets.interact(categoricalFeature = categoricalFeatures_widget)\n",
    "def categoryInspector(categoricalFeature):\n",
    "    # Create a histogram object\n",
    "    fig = px.histogram(\n",
    "        diamonds_cat_df,\n",
    "        x = categoricalFeature,\n",
    "        category_orders = sortOrder_dict,\n",
    "        color = categoricalFeature,\n",
    "        color_discrete_sequence = px.colors.qualitative.Dark24,\n",
    "    )\n",
    "\n",
    "    # Extract the mode of the dataset\n",
    "    mode =  diamonds_cat_df[categoricalFeature].mode()[0]\n",
    "\n",
    "    # Create a graph title\n",
    "    graphTitle = f\"Mode: {mode}\"\n",
    "\n",
    "    # Update the graph\n",
    "    fig.update_layout(\n",
    "        title_text = graphTitle,\n",
    "        yaxis_title_text = 'Total Counts', # yaxis label\n",
    "        height = 600,\n",
    "        width = 800\n",
    "    )\n",
    "\n",
    "    # Display the results\n",
    "    return fig.show()"
   ]
  },
  {
   "cell_type": "markdown",
   "id": "bb3da28b-3335-49b6-8794-902c5479a863",
   "metadata": {},
   "source": [
    "### SUMMARY"
   ]
  },
  {
   "cell_type": "markdown",
   "id": "479ff484-c2e9-4810-a0b9-d83e26ab5610",
   "metadata": {},
   "source": [
    "The following table summarizes the mode of each categorical feature:\n",
    "\n",
    "| Feature        | Values                                       | Mode           |\n",
    "|----------------|----------------------------------------------|----------------|\n",
    "| Diamond Type   | Small Diamond, Medium Diamond, Large Diamond | Medium Diamond |\n",
    "| Cut            | Ideal, Excellent, Very Good, Good, Fair      | Ideal          |\n",
    "| Color          | D, E, F, G, H, I, J                          | G              |\n",
    "| Color Grades   | Colorless, Near Colorless                    | Near Colorless |\n",
    "| Clarity        | IF, VVS1, VVS2, VS1, VS2, SI1, SI2, I1       | SI1            |"
   ]
  },
  {
   "cell_type": "markdown",
   "id": "f60084aa-f997-4a4d-b330-bf8c9f9f82c3",
   "metadata": {},
   "source": [
    "## NUMERICAL DATA"
   ]
  },
  {
   "cell_type": "markdown",
   "id": "ad5b3348-5e50-4052-b375-bb4f12e37266",
   "metadata": {},
   "source": [
    "For numerical data, you can determine the **mean**, **median**, and **mode**, for continuous variables. "
   ]
  },
  {
   "cell_type": "code",
   "execution_count": 14,
   "id": "c484e29e-6511-47f7-9d09-9e10162bd70b",
   "metadata": {},
   "outputs": [],
   "source": [
    "# Create an object that will output a list of numerical columns from a dataset\n",
    "numericalColumnsSlctr_obj = selector(\n",
    "    dtype_exclude = object\n",
    ")"
   ]
  },
  {
   "cell_type": "code",
   "execution_count": 15,
   "id": "cefc4ed0-a0ea-4474-b953-ee7ba4d297db",
   "metadata": {},
   "outputs": [],
   "source": [
    "# Create a list of numerical columns\n",
    "numericalColumns_list = numericalColumnsSlctr_obj(diamonds_df)"
   ]
  },
  {
   "cell_type": "code",
   "execution_count": 16,
   "id": "e1f7eedd-6cf7-4bcb-9b23-70b44f85dc6c",
   "metadata": {},
   "outputs": [
    {
     "data": {
      "text/html": [
       "<div>\n",
       "<style scoped>\n",
       "    .dataframe tbody tr th:only-of-type {\n",
       "        vertical-align: middle;\n",
       "    }\n",
       "\n",
       "    .dataframe tbody tr th {\n",
       "        vertical-align: top;\n",
       "    }\n",
       "\n",
       "    .dataframe thead th {\n",
       "        text-align: right;\n",
       "    }\n",
       "</style>\n",
       "<table border=\"1\" class=\"dataframe\">\n",
       "  <thead>\n",
       "    <tr style=\"text-align: right;\">\n",
       "      <th></th>\n",
       "      <th>Carat</th>\n",
       "      <th>Crown Height (mm)</th>\n",
       "      <th>Girdle Diameter (mm)</th>\n",
       "      <th>Pavillion Depth (mm)</th>\n",
       "      <th>Table %</th>\n",
       "      <th>Total Depth %</th>\n",
       "      <th>Price</th>\n",
       "      <th>Price(2024)</th>\n",
       "    </tr>\n",
       "  </thead>\n",
       "  <tbody>\n",
       "    <tr>\n",
       "      <th>0</th>\n",
       "      <td>0.23</td>\n",
       "      <td>3.95</td>\n",
       "      <td>3.98</td>\n",
       "      <td>2.43</td>\n",
       "      <td>55.0</td>\n",
       "      <td>61.5</td>\n",
       "      <td>326</td>\n",
       "      <td>354.04</td>\n",
       "    </tr>\n",
       "    <tr>\n",
       "      <th>1</th>\n",
       "      <td>0.21</td>\n",
       "      <td>3.89</td>\n",
       "      <td>3.84</td>\n",
       "      <td>2.31</td>\n",
       "      <td>61.0</td>\n",
       "      <td>59.8</td>\n",
       "      <td>326</td>\n",
       "      <td>354.04</td>\n",
       "    </tr>\n",
       "    <tr>\n",
       "      <th>2</th>\n",
       "      <td>0.23</td>\n",
       "      <td>4.05</td>\n",
       "      <td>4.07</td>\n",
       "      <td>2.31</td>\n",
       "      <td>65.0</td>\n",
       "      <td>56.9</td>\n",
       "      <td>327</td>\n",
       "      <td>355.12</td>\n",
       "    </tr>\n",
       "    <tr>\n",
       "      <th>3</th>\n",
       "      <td>0.29</td>\n",
       "      <td>4.20</td>\n",
       "      <td>4.23</td>\n",
       "      <td>2.63</td>\n",
       "      <td>58.0</td>\n",
       "      <td>62.4</td>\n",
       "      <td>334</td>\n",
       "      <td>362.72</td>\n",
       "    </tr>\n",
       "    <tr>\n",
       "      <th>4</th>\n",
       "      <td>0.31</td>\n",
       "      <td>4.34</td>\n",
       "      <td>4.35</td>\n",
       "      <td>2.75</td>\n",
       "      <td>58.0</td>\n",
       "      <td>63.3</td>\n",
       "      <td>335</td>\n",
       "      <td>363.81</td>\n",
       "    </tr>\n",
       "    <tr>\n",
       "      <th>...</th>\n",
       "      <td>...</td>\n",
       "      <td>...</td>\n",
       "      <td>...</td>\n",
       "      <td>...</td>\n",
       "      <td>...</td>\n",
       "      <td>...</td>\n",
       "      <td>...</td>\n",
       "      <td>...</td>\n",
       "    </tr>\n",
       "    <tr>\n",
       "      <th>53789</th>\n",
       "      <td>0.72</td>\n",
       "      <td>5.75</td>\n",
       "      <td>5.76</td>\n",
       "      <td>3.50</td>\n",
       "      <td>57.0</td>\n",
       "      <td>60.8</td>\n",
       "      <td>2757</td>\n",
       "      <td>2994.10</td>\n",
       "    </tr>\n",
       "    <tr>\n",
       "      <th>53790</th>\n",
       "      <td>0.72</td>\n",
       "      <td>5.69</td>\n",
       "      <td>5.75</td>\n",
       "      <td>3.61</td>\n",
       "      <td>55.0</td>\n",
       "      <td>63.1</td>\n",
       "      <td>2757</td>\n",
       "      <td>2994.10</td>\n",
       "    </tr>\n",
       "    <tr>\n",
       "      <th>53791</th>\n",
       "      <td>0.70</td>\n",
       "      <td>5.66</td>\n",
       "      <td>5.68</td>\n",
       "      <td>3.56</td>\n",
       "      <td>60.0</td>\n",
       "      <td>62.8</td>\n",
       "      <td>2757</td>\n",
       "      <td>2994.10</td>\n",
       "    </tr>\n",
       "    <tr>\n",
       "      <th>53792</th>\n",
       "      <td>0.86</td>\n",
       "      <td>6.15</td>\n",
       "      <td>6.12</td>\n",
       "      <td>3.74</td>\n",
       "      <td>58.0</td>\n",
       "      <td>61.0</td>\n",
       "      <td>2757</td>\n",
       "      <td>2994.10</td>\n",
       "    </tr>\n",
       "    <tr>\n",
       "      <th>53793</th>\n",
       "      <td>0.75</td>\n",
       "      <td>5.83</td>\n",
       "      <td>5.87</td>\n",
       "      <td>3.64</td>\n",
       "      <td>55.0</td>\n",
       "      <td>62.2</td>\n",
       "      <td>2757</td>\n",
       "      <td>2994.10</td>\n",
       "    </tr>\n",
       "  </tbody>\n",
       "</table>\n",
       "<p>53794 rows × 8 columns</p>\n",
       "</div>"
      ],
      "text/plain": [
       "       Carat  Crown Height (mm)  Girdle Diameter (mm)  Pavillion Depth (mm)  \\\n",
       "0       0.23               3.95                  3.98                  2.43   \n",
       "1       0.21               3.89                  3.84                  2.31   \n",
       "2       0.23               4.05                  4.07                  2.31   \n",
       "3       0.29               4.20                  4.23                  2.63   \n",
       "4       0.31               4.34                  4.35                  2.75   \n",
       "...      ...                ...                   ...                   ...   \n",
       "53789   0.72               5.75                  5.76                  3.50   \n",
       "53790   0.72               5.69                  5.75                  3.61   \n",
       "53791   0.70               5.66                  5.68                  3.56   \n",
       "53792   0.86               6.15                  6.12                  3.74   \n",
       "53793   0.75               5.83                  5.87                  3.64   \n",
       "\n",
       "       Table %  Total Depth %  Price  Price(2024)  \n",
       "0         55.0           61.5    326       354.04  \n",
       "1         61.0           59.8    326       354.04  \n",
       "2         65.0           56.9    327       355.12  \n",
       "3         58.0           62.4    334       362.72  \n",
       "4         58.0           63.3    335       363.81  \n",
       "...        ...            ...    ...          ...  \n",
       "53789     57.0           60.8   2757      2994.10  \n",
       "53790     55.0           63.1   2757      2994.10  \n",
       "53791     60.0           62.8   2757      2994.10  \n",
       "53792     58.0           61.0   2757      2994.10  \n",
       "53793     55.0           62.2   2757      2994.10  \n",
       "\n",
       "[53794 rows x 8 columns]"
      ]
     },
     "execution_count": 16,
     "metadata": {},
     "output_type": "execute_result"
    }
   ],
   "source": [
    "# Create a categorical dataset\n",
    "diamonds_num_df = diamonds_df[numericalColumns_list]\n",
    "\n",
    "# Verify the data\n",
    "diamonds_num_df"
   ]
  },
  {
   "cell_type": "markdown",
   "id": "6a6e40cb-182a-40e3-a12e-98b244d41c0d",
   "metadata": {},
   "source": [
    "### CENTRAL TENDENCY"
   ]
  },
  {
   "cell_type": "markdown",
   "id": "e4260ecf-bcfc-4b95-b53e-d2ef1775afef",
   "metadata": {},
   "source": [
    "The numerical values found in this dataset are all continuous in nature. Therefore; the mean, median, and mode can be extracted from each numerical feature.\n",
    "\n",
    "These scripts will help visualize numerical features."
   ]
  },
  {
   "cell_type": "code",
   "execution_count": 17,
   "id": "b404e409-cae2-4761-a4f1-1aaae7159a81",
   "metadata": {},
   "outputs": [],
   "source": [
    "# Create an interactive widget to help in graphing\n",
    "numericalFeatures_widget = widgets.Dropdown(\n",
    "    options = numericalColumns_list,\n",
    "    value = numericalColumns_list[0],\n",
    "    description = 'Feature:',\n",
    "    disabled = False,\n",
    ")"
   ]
  },
  {
   "cell_type": "code",
   "execution_count": 18,
   "id": "da726b14-fa54-46f7-8a60-03ec5d5c1b10",
   "metadata": {},
   "outputs": [],
   "source": [
    "# Create a list of marginals\n",
    "marginals_list = [\n",
    "    None,\n",
    "    'box',\n",
    "    'violin',\n",
    "    'rug'\n",
    "]"
   ]
  },
  {
   "cell_type": "code",
   "execution_count": 19,
   "id": "ff31618d-7de5-46b9-8a9a-9d4ec98659e2",
   "metadata": {},
   "outputs": [],
   "source": [
    "# Create an interactive widget to help in graphing\n",
    "marginals_widget = widgets.ToggleButtons(\n",
    "    options = marginals_list,\n",
    "    value = marginals_list[0],\n",
    "    button_style = '', # '', 'success', 'info', 'warning', 'danger'\n",
    "    description = 'Marginals:',\n",
    "    disabled = False,\n",
    ")"
   ]
  },
  {
   "cell_type": "code",
   "execution_count": 25,
   "id": "a8113e6d-3b56-46fa-a861-76225c022e80",
   "metadata": {},
   "outputs": [
    {
     "data": {
      "application/vnd.jupyter.widget-view+json": {
       "model_id": "03239e23f8f041e990e555b9928829ce",
       "version_major": 2,
       "version_minor": 0
      },
      "text/plain": [
       "interactive(children=(ToggleButtons(description='Marginals:', options=(None, 'box', 'violin', 'rug'), value=No…"
      ]
     },
     "metadata": {},
     "output_type": "display_data"
    }
   ],
   "source": [
    "# Create an interactive graph to help visualize numerical data\n",
    "@widgets.interact(\n",
    "    numericalFeature = numericalFeatures_widget,\n",
    "    marginalFeature = marginals_widget\n",
    ")\n",
    "def numercialInspector(marginalFeature, numericalFeature):\n",
    "    # Create a histogram object\n",
    "    fig = px.histogram(\n",
    "        diamonds_num_df, \n",
    "        x = numericalFeature,\n",
    "        marginal = marginalFeature \n",
    "    )\n",
    "\n",
    "    # Used to adjust the annotation (text positioning) when using a marginal plot \n",
    "    if marginalFeature != None:\n",
    "        yOffset = 0.18\n",
    "    else:\n",
    "        yOffset = 0\n",
    "    \n",
    "    # Calculate the measures of central tendency for numerical features\n",
    "    meanCalc = diamonds_num_df[numericalFeature].mean()\n",
    "    medianCalc = diamonds_num_df[numericalFeature].median()\n",
    "    modeCalc = diamonds_num_df[numericalFeature].mode()[0]\n",
    "    \n",
    "    # Bundle values in tuples\n",
    "    centralTendancyName_tuple = ('Mean', 'Median', 'Mode')\n",
    "    centralTendancy_tuple = (meanCalc, medianCalc, modeCalc)\n",
    "    \n",
    "    # Generate vertical lines and annotations\n",
    "    for name, calc in zip(centralTendancyName_tuple, centralTendancy_tuple):\n",
    "        \n",
    "        # Used to customize the annotations and vertical lines\n",
    "        match name:\n",
    "            case 'Mean':\n",
    "                tendencyColor = 'red'\n",
    "                yCord = 0.97\n",
    "                textString = f'<b>{name}</b>: {meanCalc:0.2f}'\n",
    "            case 'Median':\n",
    "                tendencyColor = 'darkgreen'\n",
    "                yCord = 0.93\n",
    "                textString = f'<b>{name}</b>: {medianCalc}'\n",
    "            case 'Mode':\n",
    "                tendencyColor = 'black'\n",
    "                yCord = 0.89\n",
    "                textString = f'<b>{name}</b>: {modeCalc}'\n",
    "    \n",
    "        # Add some vertical lines to show the mean, median, mode on the histogram\n",
    "        fig.add_vline(\n",
    "            x = calc,\n",
    "            line_width = 3,\n",
    "            line_dash = 'dot',\n",
    "            line_color = tendencyColor,\n",
    "        )\n",
    "\n",
    "        # Add the annotation text using paper reference. See:\n",
    "        # https://stackoverflow.com/questions/76046269/how-to-align-annotation-to-the-edge-of-whole-figure-in-plotly\n",
    "        fig.add_annotation(\n",
    "            text = textString,\n",
    "            font = {\n",
    "                'size' : 13,\n",
    "                'family' : 'Times New Roman',\n",
    "                'color': tendencyColor ,\n",
    "            },\n",
    "            xref = \"paper\", \n",
    "            yref = \"paper\",\n",
    "            x = 0.90, \n",
    "            y = yCord - yOffset, \n",
    "            showarrow = False\n",
    "        )\n",
    "    \n",
    "    # Create a graph title\n",
    "    graphTitle = f\"Measures of central tendency for: {numericalFeature}\"\n",
    "\n",
    "    # Update the graph\n",
    "    fig.update_layout(\n",
    "        title_text = graphTitle,\n",
    "        yaxis_title_text = 'Total Counts', # yaxis label\n",
    "        height = 600,\n",
    "        width = 1200\n",
    "    )\n",
    "    \n",
    "    # Display the results\n",
    "    return fig.show()    "
   ]
  },
  {
   "cell_type": "code",
   "execution_count": null,
   "id": "bc93dfdf-3403-42e9-8df3-2e08ca4477b8",
   "metadata": {},
   "outputs": [],
   "source": []
  },
  {
   "cell_type": "code",
   "execution_count": null,
   "id": "199f0990-e9a7-4b6c-80d3-5832303171f3",
   "metadata": {},
   "outputs": [],
   "source": []
  },
  {
   "cell_type": "code",
   "execution_count": null,
   "id": "656a940c-e35b-44d2-b56a-b832e3c624e5",
   "metadata": {},
   "outputs": [],
   "source": []
  },
  {
   "cell_type": "code",
   "execution_count": null,
   "id": "c8d88919-5c25-44a0-a0d4-3473582a2f58",
   "metadata": {},
   "outputs": [],
   "source": []
  },
  {
   "cell_type": "code",
   "execution_count": null,
   "id": "21b3c955-7bbe-45d9-beae-d34b0cb1fa2f",
   "metadata": {},
   "outputs": [],
   "source": []
  },
  {
   "cell_type": "code",
   "execution_count": null,
   "id": "780da6cf-6be6-47a3-8b53-1623bd88e27e",
   "metadata": {},
   "outputs": [],
   "source": []
  },
  {
   "cell_type": "code",
   "execution_count": null,
   "id": "132743cd-8e65-45e3-a5ec-0cee1e208426",
   "metadata": {},
   "outputs": [],
   "source": []
  },
  {
   "cell_type": "code",
   "execution_count": null,
   "id": "e33eff5e-a22e-49d2-903c-865ac31e271d",
   "metadata": {},
   "outputs": [],
   "source": []
  },
  {
   "cell_type": "code",
   "execution_count": null,
   "id": "72660bbd-4be3-4743-b070-c78a73754184",
   "metadata": {},
   "outputs": [],
   "source": []
  },
  {
   "cell_type": "code",
   "execution_count": null,
   "id": "bb1c6df5-960e-4019-b9d3-597364d851ea",
   "metadata": {},
   "outputs": [],
   "source": [
    "# Extract the 25% and 75% percentiles\n",
    "q1, q3 = diamonds_num_df['Carat'].quantile(\n",
    "    q = [0.25, 0.75],\n",
    ")"
   ]
  },
  {
   "cell_type": "code",
   "execution_count": null,
   "id": "88ce734f-0fae-46a9-8eed-ce52c8afd6fe",
   "metadata": {},
   "outputs": [],
   "source": [
    "# Calculate the interquartile range of the data\n",
    "iqr = q3 - q1"
   ]
  },
  {
   "cell_type": "code",
   "execution_count": null,
   "id": "051bdc7e-efed-4b59-b688-e7a5d86dae40",
   "metadata": {},
   "outputs": [],
   "source": [
    "# Number of data points\n",
    "n = diamonds_num_df.shape[0]"
   ]
  },
  {
   "cell_type": "code",
   "execution_count": null,
   "id": "74e1e523-de08-47eb-aee0-ac1c1bf81f4f",
   "metadata": {},
   "outputs": [],
   "source": [
    "binWidth = 2 * iqr * n**(-1/3)"
   ]
  },
  {
   "cell_type": "code",
   "execution_count": null,
   "id": "c30cb200-2725-463f-b179-eb21834d7203",
   "metadata": {},
   "outputs": [],
   "source": [
    "round(binWidth, 3)"
   ]
  },
  {
   "cell_type": "code",
   "execution_count": null,
   "id": "d1a11fb1-745a-4fc8-be1c-776b911f8269",
   "metadata": {},
   "outputs": [],
   "source": [
    "binWidth = 0.02"
   ]
  },
  {
   "cell_type": "code",
   "execution_count": null,
   "id": "bd5411cf-4e1f-457a-89b4-5ed9d68ab6a3",
   "metadata": {},
   "outputs": [],
   "source": [
    "numBins = int((diamonds_num_df['Girdle Diameter (mm)'].max() - diamonds_num_df['Girdle Diameter (mm)'].min()) / binWidth)"
   ]
  },
  {
   "cell_type": "code",
   "execution_count": null,
   "id": "440a892b-c1ef-4d38-866c-7a3cdec9fd25",
   "metadata": {},
   "outputs": [],
   "source": [
    "numBins"
   ]
  },
  {
   "cell_type": "code",
   "execution_count": null,
   "id": "e8e520d5-dee2-4bd0-b7d5-283f54b715ee",
   "metadata": {},
   "outputs": [],
   "source": []
  },
  {
   "cell_type": "code",
   "execution_count": null,
   "id": "e7932b02-a90c-434e-af7b-f0fc5352d15f",
   "metadata": {},
   "outputs": [],
   "source": []
  },
  {
   "cell_type": "code",
   "execution_count": null,
   "id": "a61bca55-0433-4489-b69b-823a13aaff50",
   "metadata": {},
   "outputs": [],
   "source": []
  },
  {
   "cell_type": "code",
   "execution_count": null,
   "id": "b79acff4-c84d-4f6b-8add-0118ee806583",
   "metadata": {},
   "outputs": [],
   "source": []
  },
  {
   "cell_type": "code",
   "execution_count": null,
   "id": "ccd0da4f-e236-4c8a-af6d-c8745eadc483",
   "metadata": {},
   "outputs": [],
   "source": []
  },
  {
   "cell_type": "code",
   "execution_count": null,
   "id": "92cf32f0-dd5d-4833-8f58-691be3a9cf79",
   "metadata": {},
   "outputs": [],
   "source": []
  },
  {
   "cell_type": "code",
   "execution_count": null,
   "id": "e047d6ab-24f9-4aed-8fa5-a2e78e741846",
   "metadata": {},
   "outputs": [],
   "source": []
  },
  {
   "cell_type": "code",
   "execution_count": null,
   "id": "996c2e69-b62a-4a94-8494-4e2318ea561c",
   "metadata": {},
   "outputs": [],
   "source": []
  },
  {
   "cell_type": "code",
   "execution_count": null,
   "id": "77bc80ba-e741-45b0-a338-68c2cff75266",
   "metadata": {},
   "outputs": [],
   "source": []
  },
  {
   "cell_type": "code",
   "execution_count": null,
   "id": "ba8e57ff-0039-439b-8011-df15fedadc63",
   "metadata": {},
   "outputs": [],
   "source": []
  },
  {
   "cell_type": "code",
   "execution_count": null,
   "id": "a68b199c-6789-4eb9-871e-bf4a357d8e7b",
   "metadata": {},
   "outputs": [],
   "source": []
  },
  {
   "cell_type": "code",
   "execution_count": null,
   "id": "830fef7e-693c-486d-bdb1-5119d0fcddaa",
   "metadata": {},
   "outputs": [],
   "source": []
  },
  {
   "cell_type": "code",
   "execution_count": null,
   "id": "4c613e9d-3e71-478c-abbe-fda49fb6433e",
   "metadata": {},
   "outputs": [],
   "source": []
  },
  {
   "cell_type": "code",
   "execution_count": null,
   "id": "d5567b34-1d9a-4048-8baa-8f6613938fd9",
   "metadata": {},
   "outputs": [],
   "source": []
  },
  {
   "cell_type": "code",
   "execution_count": null,
   "id": "1a9b1465-04d6-4cd7-b94b-3c3b3b3743b1",
   "metadata": {},
   "outputs": [],
   "source": []
  },
  {
   "cell_type": "code",
   "execution_count": null,
   "id": "905706a7-0846-40ba-8d56-d4b41c1a6728",
   "metadata": {},
   "outputs": [],
   "source": []
  },
  {
   "cell_type": "markdown",
   "id": "1e9cb7e1-f940-4595-bfd0-c376af1e3805",
   "metadata": {},
   "source": [
    "### SUMMARY"
   ]
  },
  {
   "cell_type": "markdown",
   "id": "c7e2c064-4598-4fa8-8c65-321a3f5db3b9",
   "metadata": {},
   "source": [
    "The following table summarizes the measure of central tendency of each numerical feature:\n",
    "\n",
    "| Feature               | Mean     | Median   |  Mode  | Outliers   |\n",
    "|:----------------------|:--------:|:--------:|:------:|:----------:|\n",
    "| Carat                 | 0.80     | 0.70     | 0.30   |   Yes      |\n",
    "| Crown Height (mm)     | 5.73     | 5.70     | 4.37   |   Yes      |\n",
    "| Girdle Diameter (mm)  | 5.73     | 5.71     | 4.34   |   Yes      |\n",
    "| Pavillion Depth (mm)  | 3.54     | 3.53     | 2.70   |   Yes      |\n",
    "| Table %               | 57.46    | 57.00    | 56.00  |   Yes      |\n",
    "| Total Depth %         | 61.75    | 61.80    | 62.00  |   Yes      |\n",
    "| Price                 | 3933.07  | 2401.00  | 605.00 |   Possible |\n",
    "| Price(2024)           | 4271.31  | 2607.49  | 657.03 |   Possible |\n",
    "\n",
    "\n",
    "<div class=\"alert alert-warning\" role=\"alert\">\n",
    "  <h3 class=\"alert-heading\">NOTE:</h3>\n",
    "  <p>There appears to be several outliers in this dataset that will need to be addressed. </p>\n",
    "</div>"
   ]
  },
  {
   "cell_type": "markdown",
   "id": "5e37e07d-8f50-429a-ab21-ddb94ad8e32c",
   "metadata": {},
   "source": [
    "# MEASURES OF DISPERSION"
   ]
  },
  {
   "cell_type": "code",
   "execution_count": null,
   "id": "5cd1ea6a-b7f6-4457-9b3f-dfc020350a7d",
   "metadata": {},
   "outputs": [],
   "source": []
  }
 ],
 "metadata": {
  "kernelspec": {
   "display_name": "Python 3 (ipykernel)",
   "language": "python",
   "name": "python3"
  },
  "language_info": {
   "codemirror_mode": {
    "name": "ipython",
    "version": 3
   },
   "file_extension": ".py",
   "mimetype": "text/x-python",
   "name": "python",
   "nbconvert_exporter": "python",
   "pygments_lexer": "ipython3",
   "version": "3.11.2"
  }
 },
 "nbformat": 4,
 "nbformat_minor": 5
}
