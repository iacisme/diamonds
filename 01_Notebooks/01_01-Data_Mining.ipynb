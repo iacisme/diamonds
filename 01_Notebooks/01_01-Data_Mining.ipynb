{
 "cells": [
  {
   "cell_type": "markdown",
   "id": "c2493340-0992-4dbc-b00d-0894395111d3",
   "metadata": {},
   "source": [
    "<h1 style='color:rgb(52, 152, 219)'; align=center><font size = 8> DIAMOND PRICES - ANALYSIS AND MODELING </font></h1>\n",
    "\n",
    "<h2 style='color:rgb(52, 152, 219)'; align=left><font size = 6> NOTEBOOK 3 - DATA MINING </font></h2>"
   ]
  },
  {
   "cell_type": "markdown",
   "id": "7f681aaf-4992-4617-8cfe-a1c0f601b17f",
   "metadata": {},
   "source": [
    "# REVISION HISTORY\n",
    "\n",
    "| REV | DESCRIPTION             | DATE         |  BY   | CHECK | APPROVE  |\n",
    "|:---:|:-----------------------:|:------------:|:-----:|:-----:|:--------:|\n",
    "| A0  | ISSUED FOR REVIEW (IFR) | 2024-APR-XX  |  IAC  |       |          |\n",
    "|     |                         |              |       |       |          |\n",
    "\n",
    "## DETAILED DESCRIPTION OF REVISIONS\n",
    "\n",
    "> **REV A0** - HOLD"
   ]
  },
  {
   "cell_type": "markdown",
   "id": "694160ce-5491-474b-b4e6-e098ad1448d1",
   "metadata": {},
   "source": [
    "# INTRODUCTION\n",
    "\n",
    "This notebook describes the steps and methods used in the data mining process. The goal of data mining is to create a tabular dataset. The following steps will be used in this notebook in order to create a high quality dataset:\n",
    "\n",
    "* [X] **Data Collection:** Gather raw data from various sources such as databases, APIs, files, or web scraping.\n",
    "* [ ] **Data Selection:** Identify relevant datasets that contain information pertinent to the analysis objectives.\n",
    "* [ ] **Data Integration:** Combine multiple datasets if necessary to create a unified dataset for analysis.\n",
    "* [ ] **Data Cleaning:** Perform data cleaning processes to handle missing values, outliers, duplicates, and inconsistencies.\n",
    "* [ ] **Data Transformation:** Transform the data into a tabular dataset suitable for analysis, including converting data types and scaling numeric variables."
   ]
  },
  {
   "cell_type": "markdown",
   "id": "ea69e068-77b0-4ec1-be65-7be2bccaa983",
   "metadata": {},
   "source": [
    "# LIBRARY\n",
    "\n",
    "The following libraries are required to run this notebook."
   ]
  },
  {
   "cell_type": "code",
   "execution_count": 1,
   "id": "0b0c56da-0d01-4d2a-a5f1-b26f53049ce9",
   "metadata": {},
   "outputs": [],
   "source": [
    "# Library to create and handle a tabular dataset\n",
    "import pandas as pd"
   ]
  },
  {
   "cell_type": "markdown",
   "id": "b1474b40-7ff0-473a-802c-fe63131cefac",
   "metadata": {},
   "source": [
    "# DATA COLLECTION\n",
    "\n",
    "Data collection is a crucial initial step in the data mining process. It involves gathering relevant data from various sources to build datasets that will be used for analysis and modeling. \n",
    "\n",
    "For this project, there is only one endpoint for data collection, the [kaggle website](https://www.kaggle.com/). Kaggle is a popular platform for data science and machine learning competitions, datasets, and learning resources. It was founded in 2010 and acquired by Google in 2017. The following link is to the kaggle page hosting the dataset:\n",
    "\n",
    "> https://www.kaggle.com/datasets/shivam2503/diamonds\n",
    "\n",
    "## COLLECTION METHOD\n",
    "\n",
    "This dataset must be downloaded, un-archived, and a copy of the dataset placed into a working folder. \n",
    "\n",
    "## DATA SOURCE LOCATION\n",
    "\n",
    "The following link will download a copy of the dataset so that you can save it to a local folder:\n",
    "\n",
    "> https://www.kaggle.com/datasets/shivam2503/diamonds/download?datasetVersionNumber=1\n",
    "\n",
    "A zip file will be downloaded, the zip filename is: archive.zip. \n",
    "\n",
    "### ORIGINAL DATASET\n",
    "\n",
    "A copy of this zip file, along with the extracted csv: diamonds.csv can be found in the following path:\n",
    "\n",
    "> 00_Data/00_Datasets/Originals/\n",
    "\n",
    "### PROJECT DATASET\n",
    "\n",
    "The csv file that will be used in this project can be found here:\n",
    "\n",
    "> 00_Data/00_Datasets/diamonds.csv"
   ]
  },
  {
   "cell_type": "markdown",
   "id": "d44c4135-8792-4c69-91c7-4bb28e9780f5",
   "metadata": {},
   "source": [
    "# DATA SELECTION\n",
    "\n"
   ]
  },
  {
   "cell_type": "code",
   "execution_count": null,
   "id": "7006f6cd-32ae-4b57-9f11-47cce24f3537",
   "metadata": {},
   "outputs": [],
   "source": []
  },
  {
   "cell_type": "code",
   "execution_count": null,
   "id": "fb229c5f-cbf8-44b5-b674-e6d91365bb68",
   "metadata": {},
   "outputs": [],
   "source": []
  },
  {
   "cell_type": "markdown",
   "id": "5a8d4a2c-23a0-42fd-9cc0-4d6b2ebcc440",
   "metadata": {},
   "source": [
    "# SUMMARY\n",
    "\n",
    "This notebook describes the project objectives, and the methodology that will be followed in executing work in an explainable, repeatable, and reproducible fashion. \n",
    "\n",
    "## NEXT STEPS\n",
    "\n",
    "NOTEBOOK 2 describes the business rules related to diamond pricing."
   ]
  }
 ],
 "metadata": {
  "kernelspec": {
   "display_name": "Python 3 (ipykernel)",
   "language": "python",
   "name": "python3"
  },
  "language_info": {
   "codemirror_mode": {
    "name": "ipython",
    "version": 3
   },
   "file_extension": ".py",
   "mimetype": "text/x-python",
   "name": "python",
   "nbconvert_exporter": "python",
   "pygments_lexer": "ipython3",
   "version": "3.11.9"
  }
 },
 "nbformat": 4,
 "nbformat_minor": 5
}
